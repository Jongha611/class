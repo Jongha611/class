{
 "cells": [
  {
   "cell_type": "markdown",
   "metadata": {
    "id": "tlEjMKYM8buD"
   },
   "source": [
    "### 감성분석\n",
    "1. 사전기반 - KNU 감성사전 등 (등록되어 있는 감정 점수를 매핑하는 방식으로 감정 점수를 계산)\n",
    "2. 머신러닝 - 학습하여 활용(분석) -> 가중치 분석 (주의사항 : 학습할 데이터셋)\n",
    "3. 딥러닝 - 이미 학습되어 있는 모델(사전 학습 모델)을 그냥/FineTuning 하여 활용 - 고성능의 자원(GPU)을 필요로 함"
   ]
  },
  {
   "cell_type": "code",
   "execution_count": null,
   "metadata": {
    "colab": {
     "base_uri": "https://localhost:8080/"
    },
    "executionInfo": {
     "elapsed": 22293,
     "status": "ok",
     "timestamp": 1753761952620,
     "user": {
      "displayName": "정봉균",
      "userId": "09253430244697113323"
     },
     "user_tz": -540
    },
    "id": "f8cCsyb43Ggj",
    "outputId": "b6806b7f-b759-4d6f-f907-75e7cf5d530f"
   },
   "outputs": [
    {
     "name": "stdout",
     "output_type": "stream",
     "text": [
      "Mounted at /content/drive\n"
     ]
    }
   ],
   "source": [
    "from google.colab import drive\n",
    "drive.mount(\"/content/drive\")"
   ]
  },
  {
   "cell_type": "code",
   "execution_count": null,
   "metadata": {
    "colab": {
     "base_uri": "https://localhost:8080/"
    },
    "executionInfo": {
     "elapsed": 1547,
     "status": "ok",
     "timestamp": 1753761954184,
     "user": {
      "displayName": "정봉균",
      "userId": "09253430244697113323"
     },
     "user_tz": -540
    },
    "id": "JHqRPl9g3Giz",
    "outputId": "72021e30-cb3a-4c7a-8aa8-e524c7697729"
   },
   "outputs": [
    {
     "name": "stdout",
     "output_type": "stream",
     "text": [
      "/content/drive/.shortcut-targets-by-id/1BetU2RLJA7gC3DgSstzRg0db8buEhQBE/딥러닝 기초 25.07.11 (class 2)\n"
     ]
    }
   ],
   "source": [
    "%cd /content/drive/MyDrive/강의 자료들/2025/250701 인사교 6기 자연어처리 B반/딥러닝 기초 25.07.11 (class 2)"
   ]
  },
  {
   "cell_type": "code",
   "execution_count": null,
   "metadata": {
    "id": "2igwrTvAD4Wr"
   },
   "outputs": [],
   "source": [
    "import pandas as pd"
   ]
  },
  {
   "cell_type": "code",
   "execution_count": null,
   "metadata": {
    "id": "CsSGUARiD4ZB"
   },
   "outputs": [],
   "source": [
    "data = pd.read_csv(\"./data/naver_shopping.txt\", delimiter = \"\\t\", header = None)"
   ]
  },
  {
   "cell_type": "code",
   "execution_count": null,
   "metadata": {
    "id": "JOXmWJiZD4a8"
   },
   "outputs": [],
   "source": [
    "# 컬럼명 변경\n",
    "data.columns = [\"평점\", \"리뷰\"]"
   ]
  },
  {
   "cell_type": "code",
   "execution_count": null,
   "metadata": {
    "id": "7vH_ZN6uD4dH"
   },
   "outputs": [],
   "source": [
    "text = data[\"리뷰\"]"
   ]
  },
  {
   "cell_type": "code",
   "execution_count": null,
   "metadata": {
    "colab": {
     "base_uri": "https://localhost:8080/"
    },
    "collapsed": true,
    "executionInfo": {
     "elapsed": 29,
     "status": "ok",
     "timestamp": 1753762333168,
     "user": {
      "displayName": "정봉균",
      "userId": "09253430244697113323"
     },
     "user_tz": -540
    },
    "id": "vBBTKPbJD4fY",
    "jupyter": {
     "outputs_hidden": true
    },
    "outputId": "c5a9081c-a2ab-447f-cf38-1abcf1344cc5"
   },
   "outputs": [
    {
     "data": {
      "text/html": [
       "<div>\n",
       "<style scoped>\n",
       "    .dataframe tbody tr th:only-of-type {\n",
       "        vertical-align: middle;\n",
       "    }\n",
       "\n",
       "    .dataframe tbody tr th {\n",
       "        vertical-align: top;\n",
       "    }\n",
       "\n",
       "    .dataframe thead th {\n",
       "        text-align: right;\n",
       "    }\n",
       "</style>\n",
       "<table border=\"1\" class=\"dataframe\">\n",
       "  <thead>\n",
       "    <tr style=\"text-align: right;\">\n",
       "      <th></th>\n",
       "      <th>리뷰</th>\n",
       "    </tr>\n",
       "  </thead>\n",
       "  <tbody>\n",
       "    <tr>\n",
       "      <th>0</th>\n",
       "      <td>배공빠르고 굿</td>\n",
       "    </tr>\n",
       "    <tr>\n",
       "      <th>1</th>\n",
       "      <td>택배가 엉망이네용 저희집 밑에층에 말도없이 놔두고가고</td>\n",
       "    </tr>\n",
       "    <tr>\n",
       "      <th>2</th>\n",
       "      <td>아주좋아요 바지 정말 좋아서2개 더 구매했어요 이가격에 대박입니다. 바느질이 조금 ...</td>\n",
       "    </tr>\n",
       "    <tr>\n",
       "      <th>3</th>\n",
       "      <td>선물용으로 빨리 받아서 전달했어야 하는 상품이었는데 머그컵만 와서 당황했습니다. 전...</td>\n",
       "    </tr>\n",
       "    <tr>\n",
       "      <th>4</th>\n",
       "      <td>민트색상 예뻐요. 옆 손잡이는 거는 용도로도 사용되네요 ㅎㅎ</td>\n",
       "    </tr>\n",
       "    <tr>\n",
       "      <th>5</th>\n",
       "      <td>비추합니다 계란 뒤집을 때 완전 불편해요 ㅠㅠ 코팅도 묻어나고 보기엔 예쁘고 실용적...</td>\n",
       "    </tr>\n",
       "    <tr>\n",
       "      <th>6</th>\n",
       "      <td>주문을 11월6에 시켰는데 11월16일에 배송이 왔네요 ㅎㅎㅎ 여기 회사측과는 전화...</td>\n",
       "    </tr>\n",
       "    <tr>\n",
       "      <th>7</th>\n",
       "      <td>넉넉한 길이로 주문했는데도 안 맞네요 별로예요</td>\n",
       "    </tr>\n",
       "    <tr>\n",
       "      <th>8</th>\n",
       "      <td>보폴이 계속 때처럼 나오다가 지금은 안나네요~</td>\n",
       "    </tr>\n",
       "  </tbody>\n",
       "</table>\n",
       "</div><br><label><b>dtype:</b> object</label>"
      ],
      "text/plain": [
       "0                                              배공빠르고 굿\n",
       "1                        택배가 엉망이네용 저희집 밑에층에 말도없이 놔두고가고\n",
       "2    아주좋아요 바지 정말 좋아서2개 더 구매했어요 이가격에 대박입니다. 바느질이 조금 ...\n",
       "3    선물용으로 빨리 받아서 전달했어야 하는 상품이었는데 머그컵만 와서 당황했습니다. 전...\n",
       "4                    민트색상 예뻐요. 옆 손잡이는 거는 용도로도 사용되네요 ㅎㅎ\n",
       "5    비추합니다 계란 뒤집을 때 완전 불편해요 ㅠㅠ 코팅도 묻어나고 보기엔 예쁘고 실용적...\n",
       "6    주문을 11월6에 시켰는데 11월16일에 배송이 왔네요 ㅎㅎㅎ 여기 회사측과는 전화...\n",
       "7                            넉넉한 길이로 주문했는데도 안 맞네요 별로예요\n",
       "8                            보폴이 계속 때처럼 나오다가 지금은 안나네요~\n",
       "Name: 리뷰, dtype: object"
      ]
     },
     "execution_count": 17,
     "metadata": {},
     "output_type": "execute_result"
    }
   ],
   "source": [
    "text"
   ]
  },
  {
   "cell_type": "markdown",
   "metadata": {
    "id": "0xcFopIWD4hc"
   },
   "source": [
    "## 1. 정제\n",
    "- 1.1 결측치 확인\n",
    "- 1.2 특수문자 제거"
   ]
  },
  {
   "cell_type": "code",
   "execution_count": null,
   "metadata": {
    "colab": {
     "base_uri": "https://localhost:8080/"
    },
    "collapsed": true,
    "executionInfo": {
     "elapsed": 68,
     "status": "ok",
     "timestamp": 1753762398492,
     "user": {
      "displayName": "정봉균",
      "userId": "09253430244697113323"
     },
     "user_tz": -540
    },
    "id": "jNAFPGQdD4jb",
    "jupyter": {
     "outputs_hidden": true
    },
    "outputId": "13fdaa66-3cc4-4516-e6b5-bfce39a72398"
   },
   "outputs": [
    {
     "name": "stdout",
     "output_type": "stream",
     "text": [
      "<class 'pandas.core.frame.DataFrame'>\n",
      "RangeIndex: 200000 entries, 0 to 199999\n",
      "Data columns (total 2 columns):\n",
      " #   Column  Non-Null Count   Dtype \n",
      "---  ------  --------------   ----- \n",
      " 0   평점      200000 non-null  int64 \n",
      " 1   리뷰      200000 non-null  object\n",
      "dtypes: int64(1), object(1)\n",
      "memory usage: 3.1+ MB\n"
     ]
    }
   ],
   "source": [
    "data.info() # 결측치 없음 확인"
   ]
  },
  {
   "cell_type": "code",
   "execution_count": null,
   "metadata": {
    "id": "kJJ5E9q4D4lm"
   },
   "outputs": [],
   "source": [
    "# 특수문자 제거를 위한 패턴 정의\n",
    "import re\n",
    "\n",
    "pattern = r\"[^a-zA-Z0-9가-힣\\s.?!]\""
   ]
  },
  {
   "cell_type": "code",
   "execution_count": null,
   "metadata": {
    "colab": {
     "base_uri": "https://localhost:8080/",
     "height": 35
    },
    "executionInfo": {
     "elapsed": 8,
     "status": "ok",
     "timestamp": 1753762552240,
     "user": {
      "displayName": "정봉균",
      "userId": "09253430244697113323"
     },
     "user_tz": -540
    },
    "id": "B_RQ-wOsD4ng",
    "outputId": "c1955391-e574-4982-a0b6-fb7b51fec01a"
   },
   "outputs": [
    {
     "data": {
      "application/vnd.google.colaboratory.intrinsic+json": {
       "type": "string"
      },
      "text/plain": [
       "' 나의 가계부 지출 년 월 생활비 정산 만원 등등'"
      ]
     },
     "execution_count": 20,
     "metadata": {},
     "output_type": "execute_result"
    }
   ],
   "source": [
    "re.sub(pattern, \"\", \"ㅋㅋㅋㅋ 나의 가계부 지출 년 월 생활비 정산 만원 등등\")"
   ]
  },
  {
   "cell_type": "code",
   "execution_count": null,
   "metadata": {
    "id": "NS9oyR-tD4pm"
   },
   "outputs": [],
   "source": [
    "from tqdm.auto import tqdm"
   ]
  },
  {
   "cell_type": "code",
   "execution_count": null,
   "metadata": {
    "colab": {
     "base_uri": "https://localhost:8080/",
     "height": 49,
     "referenced_widgets": [
      "4a8ecea183d3499dbcf0aae1c8f8f8c2",
      "682de1f046fb447b83a07cc2853462ff",
      "1a382b9601734d75bb52f8acb00ac7ce",
      "1543d22f2aab45dca3aca10bcaa1cbe5",
      "e3f49337cc1740fd8b82c123d87ee1a3",
      "c14b16e2e0a9488d893be73f45f012d2",
      "e4f4754723334ce1b64b63aaf0c068ca",
      "7f07485946be4a3c98667b4d52975f34",
      "5328c74b5d9e4535b3620e3378abdd32",
      "ef66651fce454888bab23d331140469d",
      "69d67636c5eb480394da03b6be39d343"
     ]
    },
    "executionInfo": {
     "elapsed": 553,
     "status": "ok",
     "timestamp": 1753762679141,
     "user": {
      "displayName": "정봉균",
      "userId": "09253430244697113323"
     },
     "user_tz": -540
    },
    "id": "-OVeotSID4rq",
    "outputId": "8f90bf43-fd41-4b96-99d8-9365c39427c9"
   },
   "outputs": [
    {
     "data": {
      "application/vnd.jupyter.widget-view+json": {
       "model_id": "4a8ecea183d3499dbcf0aae1c8f8f8c2",
       "version_major": 2,
       "version_minor": 0
      },
      "text/plain": [
       "  0%|          | 0/200000 [00:00<?, ?it/s]"
      ]
     },
     "metadata": {},
     "output_type": "display_data"
    }
   ],
   "source": [
    "new_doc = [ re.sub(pattern, \"\", doc) for doc in tqdm(text) ]"
   ]
  },
  {
   "cell_type": "code",
   "execution_count": null,
   "metadata": {
    "collapsed": true,
    "id": "x2hW54uOD4tn",
    "jupyter": {
     "outputs_hidden": true
    }
   },
   "outputs": [],
   "source": [
    "# 정제 된 텍스트 추가\n",
    "data[\"cleaned_doc\"] = new_doc"
   ]
  },
  {
   "cell_type": "code",
   "execution_count": null,
   "metadata": {
    "colab": {
     "base_uri": "https://localhost:8080/"
    },
    "collapsed": true,
    "executionInfo": {
     "elapsed": 38,
     "status": "ok",
     "timestamp": 1753762786065,
     "user": {
      "displayName": "정봉균",
      "userId": "09253430244697113323"
     },
     "user_tz": -540
    },
    "id": "Qf3M8h5eD4vz",
    "jupyter": {
     "outputs_hidden": true
    },
    "outputId": "5539d972-1d48-41f8-ad78-6341c8f32bc3"
   },
   "outputs": [
    {
     "data": {
      "application/vnd.google.colaboratory.intrinsic+json": {
       "type": "dataframe",
       "variable_name": "data"
      },
      "text/html": [
       "\n",
       "  <div id=\"df-fcec311a-61e9-41df-9631-ed52659d0dfd\" class=\"colab-df-container\">\n",
       "    <div>\n",
       "<style scoped>\n",
       "    .dataframe tbody tr th:only-of-type {\n",
       "        vertical-align: middle;\n",
       "    }\n",
       "\n",
       "    .dataframe tbody tr th {\n",
       "        vertical-align: top;\n",
       "    }\n",
       "\n",
       "    .dataframe thead th {\n",
       "        text-align: right;\n",
       "    }\n",
       "</style>\n",
       "<table border=\"1\" class=\"dataframe\">\n",
       "  <thead>\n",
       "    <tr style=\"text-align: right;\">\n",
       "      <th></th>\n",
       "      <th>평점</th>\n",
       "      <th>리뷰</th>\n",
       "      <th>cleaned_doc</th>\n",
       "    </tr>\n",
       "  </thead>\n",
       "  <tbody>\n",
       "    <tr>\n",
       "      <th>0</th>\n",
       "      <td>5</td>\n",
       "      <td>배공빠르고 굿</td>\n",
       "      <td>배공빠르고 굿</td>\n",
       "    </tr>\n",
       "    <tr>\n",
       "      <th>1</th>\n",
       "      <td>2</td>\n",
       "      <td>택배가 엉망이네용 저희집 밑에층에 말도없이 놔두고가고</td>\n",
       "      <td>택배가 엉망이네용 저희집 밑에층에 말도없이 놔두고가고</td>\n",
       "    </tr>\n",
       "    <tr>\n",
       "      <th>2</th>\n",
       "      <td>5</td>\n",
       "      <td>아주좋아요 바지 정말 좋아서2개 더 구매했어요 이가격에 대박입니다. 바느질이 조금 ...</td>\n",
       "      <td>아주좋아요 바지 정말 좋아서2개 더 구매했어요 이가격에 대박입니다. 바느질이 조금 ...</td>\n",
       "    </tr>\n",
       "  </tbody>\n",
       "</table>\n",
       "</div>\n",
       "    <div class=\"colab-df-buttons\">\n",
       "\n",
       "  <div class=\"colab-df-container\">\n",
       "    <button class=\"colab-df-convert\" onclick=\"convertToInteractive('df-fcec311a-61e9-41df-9631-ed52659d0dfd')\"\n",
       "            title=\"Convert this dataframe to an interactive table.\"\n",
       "            style=\"display:none;\">\n",
       "\n",
       "  <svg xmlns=\"http://www.w3.org/2000/svg\" height=\"24px\" viewBox=\"0 -960 960 960\">\n",
       "    <path d=\"M120-120v-720h720v720H120Zm60-500h600v-160H180v160Zm220 220h160v-160H400v160Zm0 220h160v-160H400v160ZM180-400h160v-160H180v160Zm440 0h160v-160H620v160ZM180-180h160v-160H180v160Zm440 0h160v-160H620v160Z\"/>\n",
       "  </svg>\n",
       "    </button>\n",
       "\n",
       "  <style>\n",
       "    .colab-df-container {\n",
       "      display:flex;\n",
       "      gap: 12px;\n",
       "    }\n",
       "\n",
       "    .colab-df-convert {\n",
       "      background-color: #E8F0FE;\n",
       "      border: none;\n",
       "      border-radius: 50%;\n",
       "      cursor: pointer;\n",
       "      display: none;\n",
       "      fill: #1967D2;\n",
       "      height: 32px;\n",
       "      padding: 0 0 0 0;\n",
       "      width: 32px;\n",
       "    }\n",
       "\n",
       "    .colab-df-convert:hover {\n",
       "      background-color: #E2EBFA;\n",
       "      box-shadow: 0px 1px 2px rgba(60, 64, 67, 0.3), 0px 1px 3px 1px rgba(60, 64, 67, 0.15);\n",
       "      fill: #174EA6;\n",
       "    }\n",
       "\n",
       "    .colab-df-buttons div {\n",
       "      margin-bottom: 4px;\n",
       "    }\n",
       "\n",
       "    [theme=dark] .colab-df-convert {\n",
       "      background-color: #3B4455;\n",
       "      fill: #D2E3FC;\n",
       "    }\n",
       "\n",
       "    [theme=dark] .colab-df-convert:hover {\n",
       "      background-color: #434B5C;\n",
       "      box-shadow: 0px 1px 3px 1px rgba(0, 0, 0, 0.15);\n",
       "      filter: drop-shadow(0px 1px 2px rgba(0, 0, 0, 0.3));\n",
       "      fill: #FFFFFF;\n",
       "    }\n",
       "  </style>\n",
       "\n",
       "    <script>\n",
       "      const buttonEl =\n",
       "        document.querySelector('#df-fcec311a-61e9-41df-9631-ed52659d0dfd button.colab-df-convert');\n",
       "      buttonEl.style.display =\n",
       "        google.colab.kernel.accessAllowed ? 'block' : 'none';\n",
       "\n",
       "      async function convertToInteractive(key) {\n",
       "        const element = document.querySelector('#df-fcec311a-61e9-41df-9631-ed52659d0dfd');\n",
       "        const dataTable =\n",
       "          await google.colab.kernel.invokeFunction('convertToInteractive',\n",
       "                                                    [key], {});\n",
       "        if (!dataTable) return;\n",
       "\n",
       "        const docLinkHtml = 'Like what you see? Visit the ' +\n",
       "          '<a target=\"_blank\" href=https://colab.research.google.com/notebooks/data_table.ipynb>data table notebook</a>'\n",
       "          + ' to learn more about interactive tables.';\n",
       "        element.innerHTML = '';\n",
       "        dataTable['output_type'] = 'display_data';\n",
       "        await google.colab.output.renderOutput(dataTable, element);\n",
       "        const docLink = document.createElement('div');\n",
       "        docLink.innerHTML = docLinkHtml;\n",
       "        element.appendChild(docLink);\n",
       "      }\n",
       "    </script>\n",
       "  </div>\n",
       "\n",
       "\n",
       "    <div id=\"df-62f420f7-6883-4c83-bfb9-6e40ac3effcb\">\n",
       "      <button class=\"colab-df-quickchart\" onclick=\"quickchart('df-62f420f7-6883-4c83-bfb9-6e40ac3effcb')\"\n",
       "                title=\"Suggest charts\"\n",
       "                style=\"display:none;\">\n",
       "\n",
       "<svg xmlns=\"http://www.w3.org/2000/svg\" height=\"24px\"viewBox=\"0 0 24 24\"\n",
       "     width=\"24px\">\n",
       "    <g>\n",
       "        <path d=\"M19 3H5c-1.1 0-2 .9-2 2v14c0 1.1.9 2 2 2h14c1.1 0 2-.9 2-2V5c0-1.1-.9-2-2-2zM9 17H7v-7h2v7zm4 0h-2V7h2v10zm4 0h-2v-4h2v4z\"/>\n",
       "    </g>\n",
       "</svg>\n",
       "      </button>\n",
       "\n",
       "<style>\n",
       "  .colab-df-quickchart {\n",
       "      --bg-color: #E8F0FE;\n",
       "      --fill-color: #1967D2;\n",
       "      --hover-bg-color: #E2EBFA;\n",
       "      --hover-fill-color: #174EA6;\n",
       "      --disabled-fill-color: #AAA;\n",
       "      --disabled-bg-color: #DDD;\n",
       "  }\n",
       "\n",
       "  [theme=dark] .colab-df-quickchart {\n",
       "      --bg-color: #3B4455;\n",
       "      --fill-color: #D2E3FC;\n",
       "      --hover-bg-color: #434B5C;\n",
       "      --hover-fill-color: #FFFFFF;\n",
       "      --disabled-bg-color: #3B4455;\n",
       "      --disabled-fill-color: #666;\n",
       "  }\n",
       "\n",
       "  .colab-df-quickchart {\n",
       "    background-color: var(--bg-color);\n",
       "    border: none;\n",
       "    border-radius: 50%;\n",
       "    cursor: pointer;\n",
       "    display: none;\n",
       "    fill: var(--fill-color);\n",
       "    height: 32px;\n",
       "    padding: 0;\n",
       "    width: 32px;\n",
       "  }\n",
       "\n",
       "  .colab-df-quickchart:hover {\n",
       "    background-color: var(--hover-bg-color);\n",
       "    box-shadow: 0 1px 2px rgba(60, 64, 67, 0.3), 0 1px 3px 1px rgba(60, 64, 67, 0.15);\n",
       "    fill: var(--button-hover-fill-color);\n",
       "  }\n",
       "\n",
       "  .colab-df-quickchart-complete:disabled,\n",
       "  .colab-df-quickchart-complete:disabled:hover {\n",
       "    background-color: var(--disabled-bg-color);\n",
       "    fill: var(--disabled-fill-color);\n",
       "    box-shadow: none;\n",
       "  }\n",
       "\n",
       "  .colab-df-spinner {\n",
       "    border: 2px solid var(--fill-color);\n",
       "    border-color: transparent;\n",
       "    border-bottom-color: var(--fill-color);\n",
       "    animation:\n",
       "      spin 1s steps(1) infinite;\n",
       "  }\n",
       "\n",
       "  @keyframes spin {\n",
       "    0% {\n",
       "      border-color: transparent;\n",
       "      border-bottom-color: var(--fill-color);\n",
       "      border-left-color: var(--fill-color);\n",
       "    }\n",
       "    20% {\n",
       "      border-color: transparent;\n",
       "      border-left-color: var(--fill-color);\n",
       "      border-top-color: var(--fill-color);\n",
       "    }\n",
       "    30% {\n",
       "      border-color: transparent;\n",
       "      border-left-color: var(--fill-color);\n",
       "      border-top-color: var(--fill-color);\n",
       "      border-right-color: var(--fill-color);\n",
       "    }\n",
       "    40% {\n",
       "      border-color: transparent;\n",
       "      border-right-color: var(--fill-color);\n",
       "      border-top-color: var(--fill-color);\n",
       "    }\n",
       "    60% {\n",
       "      border-color: transparent;\n",
       "      border-right-color: var(--fill-color);\n",
       "    }\n",
       "    80% {\n",
       "      border-color: transparent;\n",
       "      border-right-color: var(--fill-color);\n",
       "      border-bottom-color: var(--fill-color);\n",
       "    }\n",
       "    90% {\n",
       "      border-color: transparent;\n",
       "      border-bottom-color: var(--fill-color);\n",
       "    }\n",
       "  }\n",
       "</style>\n",
       "\n",
       "      <script>\n",
       "        async function quickchart(key) {\n",
       "          const quickchartButtonEl =\n",
       "            document.querySelector('#' + key + ' button');\n",
       "          quickchartButtonEl.disabled = true;  // To prevent multiple clicks.\n",
       "          quickchartButtonEl.classList.add('colab-df-spinner');\n",
       "          try {\n",
       "            const charts = await google.colab.kernel.invokeFunction(\n",
       "                'suggestCharts', [key], {});\n",
       "          } catch (error) {\n",
       "            console.error('Error during call to suggestCharts:', error);\n",
       "          }\n",
       "          quickchartButtonEl.classList.remove('colab-df-spinner');\n",
       "          quickchartButtonEl.classList.add('colab-df-quickchart-complete');\n",
       "        }\n",
       "        (() => {\n",
       "          let quickchartButtonEl =\n",
       "            document.querySelector('#df-62f420f7-6883-4c83-bfb9-6e40ac3effcb button');\n",
       "          quickchartButtonEl.style.display =\n",
       "            google.colab.kernel.accessAllowed ? 'block' : 'none';\n",
       "        })();\n",
       "      </script>\n",
       "    </div>\n",
       "\n",
       "    </div>\n",
       "  </div>\n"
      ],
      "text/plain": [
       "   평점                                                 리뷰  \\\n",
       "0   5                                            배공빠르고 굿   \n",
       "1   2                      택배가 엉망이네용 저희집 밑에층에 말도없이 놔두고가고   \n",
       "2   5  아주좋아요 바지 정말 좋아서2개 더 구매했어요 이가격에 대박입니다. 바느질이 조금 ...   \n",
       "\n",
       "                                         cleaned_doc  \n",
       "0                                            배공빠르고 굿  \n",
       "1                      택배가 엉망이네용 저희집 밑에층에 말도없이 놔두고가고  \n",
       "2  아주좋아요 바지 정말 좋아서2개 더 구매했어요 이가격에 대박입니다. 바느질이 조금 ...  "
      ]
     },
     "execution_count": 26,
     "metadata": {},
     "output_type": "execute_result"
    }
   ],
   "source": [
    "data.head(3)"
   ]
  },
  {
   "cell_type": "markdown",
   "metadata": {
    "id": "f0RxLyKJD5c1"
   },
   "source": [
    "## 2. 형태소 분리\n",
    "- 2.1 형태소 분리, 어간 추출, 정규화, 원하는 품사만 추출, 띄어쓰기 교정, 불용어 제거"
   ]
  },
  {
   "cell_type": "code",
   "execution_count": null,
   "metadata": {
    "colab": {
     "base_uri": "https://localhost:8080/"
    },
    "collapsed": true,
    "executionInfo": {
     "elapsed": 20213,
     "status": "ok",
     "timestamp": 1753762934764,
     "user": {
      "displayName": "정봉균",
      "userId": "09253430244697113323"
     },
     "user_tz": -540
    },
    "id": "DPICJnw_D5c2",
    "jupyter": {
     "outputs_hidden": true
    },
    "outputId": "f318ff3b-2d91-4066-8286-4087ff8905b9"
   },
   "outputs": [
    {
     "name": "stdout",
     "output_type": "stream",
     "text": [
      "\u001b[2K     \u001b[90m━━━━━━━━━━━━━━━━━━━━━━━━━━━━━━━━━━━━━━━━\u001b[0m \u001b[32m35.5/35.5 MB\u001b[0m \u001b[31m28.2 MB/s\u001b[0m eta \u001b[36m0:00:00\u001b[0m\n",
      "\u001b[?25h  Preparing metadata (setup.py) ... \u001b[?25l\u001b[?25hdone\n",
      "\u001b[2K   \u001b[90m━━━━━━━━━━━━━━━━━━━━━━━━━━━━━━━━━━━━━━━━\u001b[0m \u001b[32m7.6/7.6 MB\u001b[0m \u001b[31m63.4 MB/s\u001b[0m eta \u001b[36m0:00:00\u001b[0m\n",
      "\u001b[?25h  Building wheel for kiwipiepy_model (setup.py) ... \u001b[?25l\u001b[?25hdone\n"
     ]
    }
   ],
   "source": [
    "!pip -q install kiwipiepy"
   ]
  },
  {
   "cell_type": "code",
   "execution_count": null,
   "metadata": {
    "colab": {
     "base_uri": "https://localhost:8080/"
    },
    "executionInfo": {
     "elapsed": 10892,
     "status": "ok",
     "timestamp": 1753762971852,
     "user": {
      "displayName": "정봉균",
      "userId": "09253430244697113323"
     },
     "user_tz": -540
    },
    "id": "Fb4KYD8zD5c2",
    "outputId": "2394b297-ab2b-4c65-c4d6-8564081c6bcb"
   },
   "outputs": [
    {
     "name": "stdout",
     "output_type": "stream",
     "text": [
      "\u001b[2K   \u001b[90m━━━━━━━━━━━━━━━━━━━━━━━━━━━━━━━━━━━━━━━━\u001b[0m \u001b[32m19.4/19.4 MB\u001b[0m \u001b[31m67.6 MB/s\u001b[0m eta \u001b[36m0:00:00\u001b[0m\n",
      "\u001b[2K   \u001b[90m━━━━━━━━━━━━━━━━━━━━━━━━━━━━━━━━━━━━━━━━\u001b[0m \u001b[32m496.6/496.6 kB\u001b[0m \u001b[31m27.3 MB/s\u001b[0m eta \u001b[36m0:00:00\u001b[0m\n",
      "\u001b[?25h"
     ]
    }
   ],
   "source": [
    "!pip -q install konlpy"
   ]
  },
  {
   "cell_type": "code",
   "execution_count": null,
   "metadata": {
    "id": "47XpNoaAD5c2"
   },
   "outputs": [],
   "source": [
    "# 불용어 사전 로드\n",
    "from kiwipiepy.utils import Stopwords\n",
    "\n",
    "stopwords = Stopwords()\n",
    "\n",
    "stopwords_list = [ word for word, tag in stopwords.stopwords ]"
   ]
  },
  {
   "cell_type": "code",
   "execution_count": null,
   "metadata": {
    "colab": {
     "base_uri": "https://localhost:8080/"
    },
    "collapsed": true,
    "executionInfo": {
     "elapsed": 71,
     "status": "ok",
     "timestamp": 1753763071323,
     "user": {
      "displayName": "정봉균",
      "userId": "09253430244697113323"
     },
     "user_tz": -540
    },
    "id": "XqYkstQPD5c2",
    "jupyter": {
     "outputs_hidden": true
    },
    "outputId": "c1745ace-c4b0-4d46-8b00-c0f50dab28de"
   },
   "outputs": [
    {
     "data": {
      "text/plain": [
       "['다고',\n",
       " '원',\n",
       " '주',\n",
       " '와',\n",
       " '며',\n",
       " '일',\n",
       " '년',\n",
       " '는',\n",
       " '지',\n",
       " '면서',\n",
       " 'ᆫ',\n",
       " '에서',\n",
       " '사람',\n",
       " '그',\n",
       " '이',\n",
       " '라',\n",
       " '어',\n",
       " '와',\n",
       " '가',\n",
       " '대하',\n",
       " '게',\n",
       " '명',\n",
       " '한',\n",
       " '위하',\n",
       " '우리',\n",
       " '었',\n",
       " '따르',\n",
       " '어서',\n",
       " '일',\n",
       " '다는',\n",
       " '다',\n",
       " 'ᆫ',\n",
       " 'ᆫ다',\n",
       " '과',\n",
       " '때문',\n",
       " '겠',\n",
       " '까지',\n",
       " '수',\n",
       " '하',\n",
       " '더',\n",
       " '때',\n",
       " '아니',\n",
       " '로',\n",
       " '같',\n",
       " '없',\n",
       " '있',\n",
       " '라는',\n",
       " '이',\n",
       " '도',\n",
       " '에게',\n",
       " '어',\n",
       " '이',\n",
       " '것',\n",
       " '면',\n",
       " '은',\n",
       " '보',\n",
       " '만',\n",
       " '이',\n",
       " '을',\n",
       " '고',\n",
       " '제',\n",
       " '하',\n",
       " '성',\n",
       " 'ᆯ',\n",
       " '고',\n",
       " '있',\n",
       " '이',\n",
       " '중',\n",
       " '지역',\n",
       " '과',\n",
       " '어야',\n",
       " '를',\n",
       " '않',\n",
       " '그',\n",
       " '말',\n",
       " '으로',\n",
       " '지',\n",
       " '들',\n",
       " '나',\n",
       " '받',\n",
       " '적',\n",
       " '되',\n",
       " '는',\n",
       " '의',\n",
       " '지만',\n",
       " '하',\n",
       " '월',\n",
       " '에',\n",
       " '통하',\n",
       " '되',\n",
       " '던',\n",
       " '다',\n",
       " '만',\n",
       " '부터',\n",
       " '화',\n",
       " '등',\n",
       " '기',\n",
       " '을',\n",
       " '하',\n",
       " '은']"
      ]
     },
     "execution_count": 30,
     "metadata": {},
     "output_type": "execute_result"
    }
   ],
   "source": [
    "stopwords_list"
   ]
  },
  {
   "cell_type": "code",
   "execution_count": null,
   "metadata": {
    "id": "XzN8Ig15D5c2"
   },
   "outputs": [],
   "source": [
    "# 띄어쓰기 교정용 도구, 형태소 분석기\n",
    "from kiwipiepy import Kiwi\n",
    "from konlpy.tag import Okt"
   ]
  },
  {
   "cell_type": "code",
   "execution_count": null,
   "metadata": {
    "id": "2OKy7qHAD5c2"
   },
   "outputs": [],
   "source": [
    "# 초기화\n",
    "okt = Okt()\n",
    "kiwi = Kiwi() # 띄어쓰기 교정용"
   ]
  },
  {
   "cell_type": "code",
   "execution_count": null,
   "metadata": {
    "colab": {
     "base_uri": "https://localhost:8080/"
    },
    "collapsed": true,
    "executionInfo": {
     "elapsed": 47,
     "status": "ok",
     "timestamp": 1753763644590,
     "user": {
      "displayName": "정봉균",
      "userId": "09253430244697113323"
     },
     "user_tz": -540
    },
    "id": "OuBBFWqzdXEN",
    "jupyter": {
     "outputs_hidden": true
    },
    "outputId": "0c17441d-80cb-478a-d2bc-6434186691aa"
   },
   "outputs": [
    {
     "data": {
      "text/plain": [
       "{'Adjective': '형용사',\n",
       " 'Adverb': '부사',\n",
       " 'Alpha': '알파벳',\n",
       " 'Conjunction': '접속사',\n",
       " 'Determiner': '관형사',\n",
       " 'Eomi': '어미',\n",
       " 'Exclamation': '감탄사',\n",
       " 'Foreign': '외국어, 한자 및 기타기호',\n",
       " 'Hashtag': '트위터 해쉬태그',\n",
       " 'Josa': '조사',\n",
       " 'KoreanParticle': '(ex: ㅋㅋ)',\n",
       " 'Noun': '명사',\n",
       " 'Number': '숫자',\n",
       " 'PreEomi': '선어말어미',\n",
       " 'Punctuation': '구두점',\n",
       " 'ScreenName': '트위터 아이디',\n",
       " 'Suffix': '접미사',\n",
       " 'Unknown': '미등록어',\n",
       " 'Verb': '동사'}"
      ]
     },
     "execution_count": 36,
     "metadata": {},
     "output_type": "execute_result"
    }
   ],
   "source": [
    "okt.tagset\n",
    "# Noun, Verb, Adjective\n",
    "# 데이터셋, 목적 등에 따라서 품사 선택이 달라질 수 있음"
   ]
  },
  {
   "cell_type": "code",
   "execution_count": null,
   "metadata": {
    "id": "Y4jTIoTwD5c2"
   },
   "outputs": [],
   "source": [
    "# 사용자 함수 정의\n",
    "def pos_tagging(text) :\n",
    "    # 띄어쓰기 교정\n",
    "    text = kiwi.space(text)\n",
    "\n",
    "    # 품사태깅\n",
    "    pos_words = okt.pos(text, stem = True, norm = True)\n",
    "\n",
    "    tagged_list = []\n",
    "    # 원하는 품사 추출\n",
    "    for word, tag in pos_words :\n",
    "        if tag in [\"Noun\", \"Verb\", \"Adjective\"] : # 명사, 동사, 형용사 인가?\n",
    "            if word not in stopwords_list :       # 불용어 사전에 등록되어있지 않은가?\n",
    "                tagged_list.append(word)\n",
    "\n",
    "    return tagged_list"
   ]
  },
  {
   "cell_type": "code",
   "execution_count": null,
   "metadata": {
    "colab": {
     "base_uri": "https://localhost:8080/"
    },
    "executionInfo": {
     "elapsed": 11008,
     "status": "ok",
     "timestamp": 1753763948166,
     "user": {
      "displayName": "정봉균",
      "userId": "09253430244697113323"
     },
     "user_tz": -540
    },
    "id": "Ms-048BMD5c2",
    "outputId": "855bb878-2347-491a-8a8d-70ac582cd50b"
   },
   "outputs": [
    {
     "data": {
      "text/plain": [
       "['배공', '빠르다', '굿']"
      ]
     },
     "execution_count": 38,
     "metadata": {},
     "output_type": "execute_result"
    }
   ],
   "source": [
    "pos_tagging(data[\"cleaned_doc\"][0])"
   ]
  },
  {
   "cell_type": "code",
   "execution_count": null,
   "metadata": {
    "colab": {
     "base_uri": "https://localhost:8080/",
     "height": 49,
     "referenced_widgets": [
      "17d2e28ff0814c53869ff292d2f2b490",
      "11934b3260c54d2cbebea1b90975e467",
      "ff2cb3f5496f43f0a19423dd01a6dfa8",
      "5b8084ef3b9d49c08da7a6c6185ba8cd",
      "06e9b28d61524053afb9ee443b618351",
      "f6ca846b92f74c6dbbeb2ce2c61693d7",
      "7a7ef7f04bbf4c57b62c121133f67d9e",
      "d5653ab8c48b4e0db67c96323d5cdf3b",
      "d96868a1b9ef4691ac169ad1b6bacc89",
      "558bad6797be45a2bebc84282e9804bb",
      "265a232fa06240f7acd9aa8ed2b87b61"
     ]
    },
    "executionInfo": {
     "elapsed": 1866750,
     "status": "ok",
     "timestamp": 1753765965468,
     "user": {
      "displayName": "정봉균",
      "userId": "09253430244697113323"
     },
     "user_tz": -540
    },
    "id": "cA5eKtKkD5c2",
    "outputId": "af8847f0-ab61-4ac8-ca62-1accee4d4fe7"
   },
   "outputs": [
    {
     "data": {
      "application/vnd.jupyter.widget-view+json": {
       "model_id": "17d2e28ff0814c53869ff292d2f2b490",
       "version_major": 2,
       "version_minor": 0
      },
      "text/plain": [
       "  0%|          | 0/200000 [00:00<?, ?it/s]"
      ]
     },
     "metadata": {},
     "output_type": "display_data"
    }
   ],
   "source": [
    "# 작업 진행\n",
    "tagged_doc = [ pos_tagging(text) for text in tqdm(data[\"cleaned_doc\"]) ]"
   ]
  },
  {
   "cell_type": "code",
   "execution_count": null,
   "metadata": {
    "id": "KppiLBK4D5c2"
   },
   "outputs": [],
   "source": [
    "# 추가\n",
    "data[\"tagged_doc\"] = tagged_doc"
   ]
  },
  {
   "cell_type": "code",
   "execution_count": null,
   "metadata": {
    "colab": {
     "base_uri": "https://localhost:8080/",
     "height": 632
    },
    "executionInfo": {
     "elapsed": 94,
     "status": "ok",
     "timestamp": 1753766194208,
     "user": {
      "displayName": "정봉균",
      "userId": "09253430244697113323"
     },
     "user_tz": -540
    },
    "id": "2m7_72e2nGJm",
    "outputId": "e14de19d-9e1b-4a7c-f353-6b4ffcf69ea9"
   },
   "outputs": [
    {
     "data": {
      "application/vnd.google.colaboratory.intrinsic+json": {
       "type": "dataframe",
       "variable_name": "data"
      },
      "text/html": [
       "\n",
       "  <div id=\"df-1fec28d9-8b2c-4229-99c5-708547d74133\" class=\"colab-df-container\">\n",
       "    <div>\n",
       "<style scoped>\n",
       "    .dataframe tbody tr th:only-of-type {\n",
       "        vertical-align: middle;\n",
       "    }\n",
       "\n",
       "    .dataframe tbody tr th {\n",
       "        vertical-align: top;\n",
       "    }\n",
       "\n",
       "    .dataframe thead th {\n",
       "        text-align: right;\n",
       "    }\n",
       "</style>\n",
       "<table border=\"1\" class=\"dataframe\">\n",
       "  <thead>\n",
       "    <tr style=\"text-align: right;\">\n",
       "      <th></th>\n",
       "      <th>평점</th>\n",
       "      <th>리뷰</th>\n",
       "      <th>cleaned_doc</th>\n",
       "      <th>tagged_doc</th>\n",
       "    </tr>\n",
       "  </thead>\n",
       "  <tbody>\n",
       "    <tr>\n",
       "      <th>0</th>\n",
       "      <td>5</td>\n",
       "      <td>배공빠르고 굿</td>\n",
       "      <td>배공빠르고 굿</td>\n",
       "      <td>[배공, 빠르다, 굿]</td>\n",
       "    </tr>\n",
       "    <tr>\n",
       "      <th>1</th>\n",
       "      <td>2</td>\n",
       "      <td>택배가 엉망이네용 저희집 밑에층에 말도없이 놔두고가고</td>\n",
       "      <td>택배가 엉망이네용 저희집 밑에층에 말도없이 놔두고가고</td>\n",
       "      <td>[택배, 엉망, 용, 저희, 집, 밑, 층, 놔두다, 가다]</td>\n",
       "    </tr>\n",
       "    <tr>\n",
       "      <th>2</th>\n",
       "      <td>5</td>\n",
       "      <td>아주좋아요 바지 정말 좋아서2개 더 구매했어요 이가격에 대박입니다. 바느질이 조금 ...</td>\n",
       "      <td>아주좋아요 바지 정말 좋아서2개 더 구매했어요 이가격에 대박입니다. 바느질이 조금 ...</td>\n",
       "      <td>[아주, 좋다, 바지, 정말, 좋다, 개, 구매, 하다, 가격, 대박, 이다, 바느...</td>\n",
       "    </tr>\n",
       "    <tr>\n",
       "      <th>3</th>\n",
       "      <td>2</td>\n",
       "      <td>선물용으로 빨리 받아서 전달했어야 하는 상품이었는데 머그컵만 와서 당황했습니다. 전...</td>\n",
       "      <td>선물용으로 빨리 받아서 전달했어야 하는 상품이었는데 머그컵만 와서 당황했습니다. 전...</td>\n",
       "      <td>[선물, 용, 받다, 전달, 하다, 하다, 상품, 이다, 머, 컵, 오다, 당황, ...</td>\n",
       "    </tr>\n",
       "    <tr>\n",
       "      <th>4</th>\n",
       "      <td>5</td>\n",
       "      <td>민트색상 예뻐요. 옆 손잡이는 거는 용도로도 사용되네요 ㅎㅎ</td>\n",
       "      <td>민트색상 예뻐요. 옆 손잡이는 거는 용도로도 사용되네요</td>\n",
       "      <td>[민트, 색상, 예쁘다, 옆, 손잡이, 거, 용, 도로, 사용, 되다]</td>\n",
       "    </tr>\n",
       "    <tr>\n",
       "      <th>...</th>\n",
       "      <td>...</td>\n",
       "      <td>...</td>\n",
       "      <td>...</td>\n",
       "      <td>...</td>\n",
       "    </tr>\n",
       "    <tr>\n",
       "      <th>199995</th>\n",
       "      <td>2</td>\n",
       "      <td>장마라그런가!!! 달지않아요</td>\n",
       "      <td>장마라그런가!!! 달지않아요</td>\n",
       "      <td>[장마, 런가, 달, 않다]</td>\n",
       "    </tr>\n",
       "    <tr>\n",
       "      <th>199996</th>\n",
       "      <td>5</td>\n",
       "      <td>다이슨 케이스 구매했어요 다이슨 슈퍼소닉 드라이기 케이스 구매했어요가격 괜찮고 배송...</td>\n",
       "      <td>다이슨 케이스 구매했어요 다이슨 슈퍼소닉 드라이기 케이스 구매했어요가격 괜찮고 배송...</td>\n",
       "      <td>[다이슨, 케이스, 구매, 하다, 다이슨, 슈퍼소닉, 드라이기, 케이스, 구매, 하...</td>\n",
       "    </tr>\n",
       "    <tr>\n",
       "      <th>199997</th>\n",
       "      <td>5</td>\n",
       "      <td>로드샾에서 사는것보다 세배 저렴하네요 ㅜㅜ 자주이용할께요</td>\n",
       "      <td>로드샾에서 사는것보다 세배 저렴하네요  자주이용할께요</td>\n",
       "      <td>[로드샾, 살다, 세배, 저렴하다, 자주, 이용, 하다]</td>\n",
       "    </tr>\n",
       "    <tr>\n",
       "      <th>199998</th>\n",
       "      <td>5</td>\n",
       "      <td>넘이쁘고 쎄련되보이네요~</td>\n",
       "      <td>넘이쁘고 쎄련되보이네요</td>\n",
       "      <td>[넘다, 이쁘다, 쎄다, 되다, 보이다]</td>\n",
       "    </tr>\n",
       "    <tr>\n",
       "      <th>199999</th>\n",
       "      <td>5</td>\n",
       "      <td>아직 사용해보지도않았고 다른 제품을 써본적이없어서 잘 모르겠지만 ㅎㅎ 배송은 빨랐습니다</td>\n",
       "      <td>아직 사용해보지도않았고 다른 제품을 써본적이없어서 잘 모르겠지만  배송은 빨랐습니다</td>\n",
       "      <td>[사용, 하다, 보지, 않다, 다른, 제품, 써다, 보다, 없다, 자다, 모르다, ...</td>\n",
       "    </tr>\n",
       "  </tbody>\n",
       "</table>\n",
       "<p>200000 rows × 4 columns</p>\n",
       "</div>\n",
       "    <div class=\"colab-df-buttons\">\n",
       "\n",
       "  <div class=\"colab-df-container\">\n",
       "    <button class=\"colab-df-convert\" onclick=\"convertToInteractive('df-1fec28d9-8b2c-4229-99c5-708547d74133')\"\n",
       "            title=\"Convert this dataframe to an interactive table.\"\n",
       "            style=\"display:none;\">\n",
       "\n",
       "  <svg xmlns=\"http://www.w3.org/2000/svg\" height=\"24px\" viewBox=\"0 -960 960 960\">\n",
       "    <path d=\"M120-120v-720h720v720H120Zm60-500h600v-160H180v160Zm220 220h160v-160H400v160Zm0 220h160v-160H400v160ZM180-400h160v-160H180v160Zm440 0h160v-160H620v160ZM180-180h160v-160H180v160Zm440 0h160v-160H620v160Z\"/>\n",
       "  </svg>\n",
       "    </button>\n",
       "\n",
       "  <style>\n",
       "    .colab-df-container {\n",
       "      display:flex;\n",
       "      gap: 12px;\n",
       "    }\n",
       "\n",
       "    .colab-df-convert {\n",
       "      background-color: #E8F0FE;\n",
       "      border: none;\n",
       "      border-radius: 50%;\n",
       "      cursor: pointer;\n",
       "      display: none;\n",
       "      fill: #1967D2;\n",
       "      height: 32px;\n",
       "      padding: 0 0 0 0;\n",
       "      width: 32px;\n",
       "    }\n",
       "\n",
       "    .colab-df-convert:hover {\n",
       "      background-color: #E2EBFA;\n",
       "      box-shadow: 0px 1px 2px rgba(60, 64, 67, 0.3), 0px 1px 3px 1px rgba(60, 64, 67, 0.15);\n",
       "      fill: #174EA6;\n",
       "    }\n",
       "\n",
       "    .colab-df-buttons div {\n",
       "      margin-bottom: 4px;\n",
       "    }\n",
       "\n",
       "    [theme=dark] .colab-df-convert {\n",
       "      background-color: #3B4455;\n",
       "      fill: #D2E3FC;\n",
       "    }\n",
       "\n",
       "    [theme=dark] .colab-df-convert:hover {\n",
       "      background-color: #434B5C;\n",
       "      box-shadow: 0px 1px 3px 1px rgba(0, 0, 0, 0.15);\n",
       "      filter: drop-shadow(0px 1px 2px rgba(0, 0, 0, 0.3));\n",
       "      fill: #FFFFFF;\n",
       "    }\n",
       "  </style>\n",
       "\n",
       "    <script>\n",
       "      const buttonEl =\n",
       "        document.querySelector('#df-1fec28d9-8b2c-4229-99c5-708547d74133 button.colab-df-convert');\n",
       "      buttonEl.style.display =\n",
       "        google.colab.kernel.accessAllowed ? 'block' : 'none';\n",
       "\n",
       "      async function convertToInteractive(key) {\n",
       "        const element = document.querySelector('#df-1fec28d9-8b2c-4229-99c5-708547d74133');\n",
       "        const dataTable =\n",
       "          await google.colab.kernel.invokeFunction('convertToInteractive',\n",
       "                                                    [key], {});\n",
       "        if (!dataTable) return;\n",
       "\n",
       "        const docLinkHtml = 'Like what you see? Visit the ' +\n",
       "          '<a target=\"_blank\" href=https://colab.research.google.com/notebooks/data_table.ipynb>data table notebook</a>'\n",
       "          + ' to learn more about interactive tables.';\n",
       "        element.innerHTML = '';\n",
       "        dataTable['output_type'] = 'display_data';\n",
       "        await google.colab.output.renderOutput(dataTable, element);\n",
       "        const docLink = document.createElement('div');\n",
       "        docLink.innerHTML = docLinkHtml;\n",
       "        element.appendChild(docLink);\n",
       "      }\n",
       "    </script>\n",
       "  </div>\n",
       "\n",
       "\n",
       "    <div id=\"df-e3a4b133-3e52-4502-936f-41583a62b804\">\n",
       "      <button class=\"colab-df-quickchart\" onclick=\"quickchart('df-e3a4b133-3e52-4502-936f-41583a62b804')\"\n",
       "                title=\"Suggest charts\"\n",
       "                style=\"display:none;\">\n",
       "\n",
       "<svg xmlns=\"http://www.w3.org/2000/svg\" height=\"24px\"viewBox=\"0 0 24 24\"\n",
       "     width=\"24px\">\n",
       "    <g>\n",
       "        <path d=\"M19 3H5c-1.1 0-2 .9-2 2v14c0 1.1.9 2 2 2h14c1.1 0 2-.9 2-2V5c0-1.1-.9-2-2-2zM9 17H7v-7h2v7zm4 0h-2V7h2v10zm4 0h-2v-4h2v4z\"/>\n",
       "    </g>\n",
       "</svg>\n",
       "      </button>\n",
       "\n",
       "<style>\n",
       "  .colab-df-quickchart {\n",
       "      --bg-color: #E8F0FE;\n",
       "      --fill-color: #1967D2;\n",
       "      --hover-bg-color: #E2EBFA;\n",
       "      --hover-fill-color: #174EA6;\n",
       "      --disabled-fill-color: #AAA;\n",
       "      --disabled-bg-color: #DDD;\n",
       "  }\n",
       "\n",
       "  [theme=dark] .colab-df-quickchart {\n",
       "      --bg-color: #3B4455;\n",
       "      --fill-color: #D2E3FC;\n",
       "      --hover-bg-color: #434B5C;\n",
       "      --hover-fill-color: #FFFFFF;\n",
       "      --disabled-bg-color: #3B4455;\n",
       "      --disabled-fill-color: #666;\n",
       "  }\n",
       "\n",
       "  .colab-df-quickchart {\n",
       "    background-color: var(--bg-color);\n",
       "    border: none;\n",
       "    border-radius: 50%;\n",
       "    cursor: pointer;\n",
       "    display: none;\n",
       "    fill: var(--fill-color);\n",
       "    height: 32px;\n",
       "    padding: 0;\n",
       "    width: 32px;\n",
       "  }\n",
       "\n",
       "  .colab-df-quickchart:hover {\n",
       "    background-color: var(--hover-bg-color);\n",
       "    box-shadow: 0 1px 2px rgba(60, 64, 67, 0.3), 0 1px 3px 1px rgba(60, 64, 67, 0.15);\n",
       "    fill: var(--button-hover-fill-color);\n",
       "  }\n",
       "\n",
       "  .colab-df-quickchart-complete:disabled,\n",
       "  .colab-df-quickchart-complete:disabled:hover {\n",
       "    background-color: var(--disabled-bg-color);\n",
       "    fill: var(--disabled-fill-color);\n",
       "    box-shadow: none;\n",
       "  }\n",
       "\n",
       "  .colab-df-spinner {\n",
       "    border: 2px solid var(--fill-color);\n",
       "    border-color: transparent;\n",
       "    border-bottom-color: var(--fill-color);\n",
       "    animation:\n",
       "      spin 1s steps(1) infinite;\n",
       "  }\n",
       "\n",
       "  @keyframes spin {\n",
       "    0% {\n",
       "      border-color: transparent;\n",
       "      border-bottom-color: var(--fill-color);\n",
       "      border-left-color: var(--fill-color);\n",
       "    }\n",
       "    20% {\n",
       "      border-color: transparent;\n",
       "      border-left-color: var(--fill-color);\n",
       "      border-top-color: var(--fill-color);\n",
       "    }\n",
       "    30% {\n",
       "      border-color: transparent;\n",
       "      border-left-color: var(--fill-color);\n",
       "      border-top-color: var(--fill-color);\n",
       "      border-right-color: var(--fill-color);\n",
       "    }\n",
       "    40% {\n",
       "      border-color: transparent;\n",
       "      border-right-color: var(--fill-color);\n",
       "      border-top-color: var(--fill-color);\n",
       "    }\n",
       "    60% {\n",
       "      border-color: transparent;\n",
       "      border-right-color: var(--fill-color);\n",
       "    }\n",
       "    80% {\n",
       "      border-color: transparent;\n",
       "      border-right-color: var(--fill-color);\n",
       "      border-bottom-color: var(--fill-color);\n",
       "    }\n",
       "    90% {\n",
       "      border-color: transparent;\n",
       "      border-bottom-color: var(--fill-color);\n",
       "    }\n",
       "  }\n",
       "</style>\n",
       "\n",
       "      <script>\n",
       "        async function quickchart(key) {\n",
       "          const quickchartButtonEl =\n",
       "            document.querySelector('#' + key + ' button');\n",
       "          quickchartButtonEl.disabled = true;  // To prevent multiple clicks.\n",
       "          quickchartButtonEl.classList.add('colab-df-spinner');\n",
       "          try {\n",
       "            const charts = await google.colab.kernel.invokeFunction(\n",
       "                'suggestCharts', [key], {});\n",
       "          } catch (error) {\n",
       "            console.error('Error during call to suggestCharts:', error);\n",
       "          }\n",
       "          quickchartButtonEl.classList.remove('colab-df-spinner');\n",
       "          quickchartButtonEl.classList.add('colab-df-quickchart-complete');\n",
       "        }\n",
       "        (() => {\n",
       "          let quickchartButtonEl =\n",
       "            document.querySelector('#df-e3a4b133-3e52-4502-936f-41583a62b804 button');\n",
       "          quickchartButtonEl.style.display =\n",
       "            google.colab.kernel.accessAllowed ? 'block' : 'none';\n",
       "        })();\n",
       "      </script>\n",
       "    </div>\n",
       "\n",
       "  <div id=\"id_b01d9f7d-2d9e-4796-81c3-3e9f95f97b52\">\n",
       "    <style>\n",
       "      .colab-df-generate {\n",
       "        background-color: #E8F0FE;\n",
       "        border: none;\n",
       "        border-radius: 50%;\n",
       "        cursor: pointer;\n",
       "        display: none;\n",
       "        fill: #1967D2;\n",
       "        height: 32px;\n",
       "        padding: 0 0 0 0;\n",
       "        width: 32px;\n",
       "      }\n",
       "\n",
       "      .colab-df-generate:hover {\n",
       "        background-color: #E2EBFA;\n",
       "        box-shadow: 0px 1px 2px rgba(60, 64, 67, 0.3), 0px 1px 3px 1px rgba(60, 64, 67, 0.15);\n",
       "        fill: #174EA6;\n",
       "      }\n",
       "\n",
       "      [theme=dark] .colab-df-generate {\n",
       "        background-color: #3B4455;\n",
       "        fill: #D2E3FC;\n",
       "      }\n",
       "\n",
       "      [theme=dark] .colab-df-generate:hover {\n",
       "        background-color: #434B5C;\n",
       "        box-shadow: 0px 1px 3px 1px rgba(0, 0, 0, 0.15);\n",
       "        filter: drop-shadow(0px 1px 2px rgba(0, 0, 0, 0.3));\n",
       "        fill: #FFFFFF;\n",
       "      }\n",
       "    </style>\n",
       "    <button class=\"colab-df-generate\" onclick=\"generateWithVariable('data')\"\n",
       "            title=\"Generate code using this dataframe.\"\n",
       "            style=\"display:none;\">\n",
       "\n",
       "  <svg xmlns=\"http://www.w3.org/2000/svg\" height=\"24px\"viewBox=\"0 0 24 24\"\n",
       "       width=\"24px\">\n",
       "    <path d=\"M7,19H8.4L18.45,9,17,7.55,7,17.6ZM5,21V16.75L18.45,3.32a2,2,0,0,1,2.83,0l1.4,1.43a1.91,1.91,0,0,1,.58,1.4,1.91,1.91,0,0,1-.58,1.4L9.25,21ZM18.45,9,17,7.55Zm-12,3A5.31,5.31,0,0,0,4.9,8.1,5.31,5.31,0,0,0,1,6.5,5.31,5.31,0,0,0,4.9,4.9,5.31,5.31,0,0,0,6.5,1,5.31,5.31,0,0,0,8.1,4.9,5.31,5.31,0,0,0,12,6.5,5.46,5.46,0,0,0,6.5,12Z\"/>\n",
       "  </svg>\n",
       "    </button>\n",
       "    <script>\n",
       "      (() => {\n",
       "      const buttonEl =\n",
       "        document.querySelector('#id_b01d9f7d-2d9e-4796-81c3-3e9f95f97b52 button.colab-df-generate');\n",
       "      buttonEl.style.display =\n",
       "        google.colab.kernel.accessAllowed ? 'block' : 'none';\n",
       "\n",
       "      buttonEl.onclick = () => {\n",
       "        google.colab.notebook.generateWithVariable('data');\n",
       "      }\n",
       "      })();\n",
       "    </script>\n",
       "  </div>\n",
       "\n",
       "    </div>\n",
       "  </div>\n"
      ],
      "text/plain": [
       "        평점                                                 리뷰  \\\n",
       "0        5                                            배공빠르고 굿   \n",
       "1        2                      택배가 엉망이네용 저희집 밑에층에 말도없이 놔두고가고   \n",
       "2        5  아주좋아요 바지 정말 좋아서2개 더 구매했어요 이가격에 대박입니다. 바느질이 조금 ...   \n",
       "3        2  선물용으로 빨리 받아서 전달했어야 하는 상품이었는데 머그컵만 와서 당황했습니다. 전...   \n",
       "4        5                  민트색상 예뻐요. 옆 손잡이는 거는 용도로도 사용되네요 ㅎㅎ   \n",
       "...     ..                                                ...   \n",
       "199995   2                                    장마라그런가!!! 달지않아요   \n",
       "199996   5  다이슨 케이스 구매했어요 다이슨 슈퍼소닉 드라이기 케이스 구매했어요가격 괜찮고 배송...   \n",
       "199997   5                    로드샾에서 사는것보다 세배 저렴하네요 ㅜㅜ 자주이용할께요   \n",
       "199998   5                                      넘이쁘고 쎄련되보이네요~   \n",
       "199999   5   아직 사용해보지도않았고 다른 제품을 써본적이없어서 잘 모르겠지만 ㅎㅎ 배송은 빨랐습니다   \n",
       "\n",
       "                                              cleaned_doc  \\\n",
       "0                                                 배공빠르고 굿   \n",
       "1                           택배가 엉망이네용 저희집 밑에층에 말도없이 놔두고가고   \n",
       "2       아주좋아요 바지 정말 좋아서2개 더 구매했어요 이가격에 대박입니다. 바느질이 조금 ...   \n",
       "3       선물용으로 빨리 받아서 전달했어야 하는 상품이었는데 머그컵만 와서 당황했습니다. 전...   \n",
       "4                         민트색상 예뻐요. 옆 손잡이는 거는 용도로도 사용되네요    \n",
       "...                                                   ...   \n",
       "199995                                    장마라그런가!!! 달지않아요   \n",
       "199996  다이슨 케이스 구매했어요 다이슨 슈퍼소닉 드라이기 케이스 구매했어요가격 괜찮고 배송...   \n",
       "199997                      로드샾에서 사는것보다 세배 저렴하네요  자주이용할께요   \n",
       "199998                                       넘이쁘고 쎄련되보이네요   \n",
       "199999     아직 사용해보지도않았고 다른 제품을 써본적이없어서 잘 모르겠지만  배송은 빨랐습니다   \n",
       "\n",
       "                                               tagged_doc  \n",
       "0                                            [배공, 빠르다, 굿]  \n",
       "1                       [택배, 엉망, 용, 저희, 집, 밑, 층, 놔두다, 가다]  \n",
       "2       [아주, 좋다, 바지, 정말, 좋다, 개, 구매, 하다, 가격, 대박, 이다, 바느...  \n",
       "3       [선물, 용, 받다, 전달, 하다, 하다, 상품, 이다, 머, 컵, 오다, 당황, ...  \n",
       "4                 [민트, 색상, 예쁘다, 옆, 손잡이, 거, 용, 도로, 사용, 되다]  \n",
       "...                                                   ...  \n",
       "199995                                    [장마, 런가, 달, 않다]  \n",
       "199996  [다이슨, 케이스, 구매, 하다, 다이슨, 슈퍼소닉, 드라이기, 케이스, 구매, 하...  \n",
       "199997                    [로드샾, 살다, 세배, 저렴하다, 자주, 이용, 하다]  \n",
       "199998                             [넘다, 이쁘다, 쎄다, 되다, 보이다]  \n",
       "199999  [사용, 하다, 보지, 않다, 다른, 제품, 써다, 보다, 없다, 자다, 모르다, ...  \n",
       "\n",
       "[200000 rows x 4 columns]"
      ]
     },
     "execution_count": 43,
     "metadata": {},
     "output_type": "execute_result"
    }
   ],
   "source": [
    "data"
   ]
  },
  {
   "cell_type": "code",
   "execution_count": null,
   "metadata": {
    "id": "iEGAkP4JD5c2"
   },
   "outputs": [],
   "source": [
    "# 저장\n",
    "import pickle\n",
    "\n",
    "with open(\"./data/naver_shopping(정제 및 토큰화 완료).pkl\", \"wb\") as f :\n",
    "    pickle.dump(data, f)"
   ]
  },
  {
   "cell_type": "markdown",
   "metadata": {
    "id": "xbr4mbVJD5c2"
   },
   "source": [
    "## 정제 및 토큰화 완료!\n",
    "- 다음 실습부터는 아래 셀부터 실행"
   ]
  },
  {
   "cell_type": "code",
   "execution_count": 1,
   "metadata": {
    "colab": {
     "base_uri": "https://localhost:8080/"
    },
    "executionInfo": {
     "elapsed": 18881,
     "status": "ok",
     "timestamp": 1753834199760,
     "user": {
      "displayName": "정봉균",
      "userId": "09253430244697113323"
     },
     "user_tz": -540
    },
    "id": "yKgiYW3agZTF",
    "outputId": "609b29dd-1a77-49e3-dc76-9dd70ae792ed"
   },
   "outputs": [
    {
     "name": "stdout",
     "output_type": "stream",
     "text": [
      "Mounted at /content/drive\n"
     ]
    }
   ],
   "source": [
    "from google.colab import drive\n",
    "drive.mount(\"/content/drive\")"
   ]
  },
  {
   "cell_type": "code",
   "execution_count": 1,
   "metadata": {
    "colab": {
     "base_uri": "https://localhost:8080/"
    },
    "executionInfo": {
     "elapsed": 109,
     "status": "ok",
     "timestamp": 1753834246182,
     "user": {
      "displayName": "정봉균",
      "userId": "09253430244697113323"
     },
     "user_tz": -540
    },
    "id": "nAz-GyXAgZTG",
    "outputId": "2cde7113-e731-4820-bf6f-67beffab2b18"
   },
   "outputs": [
    {
     "name": "stdout",
     "output_type": "stream",
     "text": [
      "/content/drive/.shortcut-targets-by-id/1BetU2RLJA7gC3DgSstzRg0db8buEhQBE/딥러닝 기초 25.07.11 (class 2)\n"
     ]
    }
   ],
   "source": [
    "%cd /content/drive/MyDrive/강의 자료들/2025/250701 인사교 6기 자연어처리 B반/딥러닝 기초 25.07.11 (class 2)"
   ]
  },
  {
   "cell_type": "code",
   "execution_count": 3,
   "metadata": {
    "colab": {
     "base_uri": "https://localhost:8080/"
    },
    "collapsed": true,
    "executionInfo": {
     "elapsed": 34991,
     "status": "ok",
     "timestamp": 1753834236432,
     "user": {
      "displayName": "정봉균",
      "userId": "09253430244697113323"
     },
     "user_tz": -540
    },
    "id": "r69xH8yrkZB7",
    "jupyter": {
     "outputs_hidden": true
    },
    "outputId": "df30722b-c121-487c-c6e8-48d1aa1100b0"
   },
   "outputs": [
    {
     "name": "stdout",
     "output_type": "stream",
     "text": [
      "Reading package lists... Done\n",
      "Building dependency tree... Done\n",
      "Reading state information... Done\n",
      "Note, selecting 'fonts-nanum-extra' for glob 'fonts-nanum*'\n",
      "Note, selecting 'fonts-nanum-coding' for glob 'fonts-nanum*'\n",
      "Note, selecting 'fonts-nanum-eco' for glob 'fonts-nanum*'\n",
      "Note, selecting 'fonts-nanum' for glob 'fonts-nanum*'\n",
      "The following NEW packages will be installed:\n",
      "  fonts-nanum fonts-nanum-coding fonts-nanum-eco fonts-nanum-extra\n",
      "0 upgraded, 4 newly installed, 0 to remove and 35 not upgraded.\n",
      "Need to get 46.0 MB of archives.\n",
      "After this operation, 177 MB of additional disk space will be used.\n",
      "Get:1 http://archive.ubuntu.com/ubuntu jammy/universe amd64 fonts-nanum all 20200506-1 [10.3 MB]\n",
      "Get:2 http://archive.ubuntu.com/ubuntu jammy/universe amd64 fonts-nanum-coding all 2.5-3 [4,988 B]\n",
      "Get:3 http://archive.ubuntu.com/ubuntu jammy/universe amd64 fonts-nanum-eco all 1.000-7 [14.7 MB]\n",
      "Get:4 http://archive.ubuntu.com/ubuntu jammy/universe amd64 fonts-nanum-extra all 20200506-1 [21.0 MB]\n",
      "Fetched 46.0 MB in 5s (8,579 kB/s)\n",
      "Selecting previously unselected package fonts-nanum.\n",
      "(Reading database ... 126284 files and directories currently installed.)\n",
      "Preparing to unpack .../fonts-nanum_20200506-1_all.deb ...\n",
      "Unpacking fonts-nanum (20200506-1) ...\n",
      "Selecting previously unselected package fonts-nanum-coding.\n",
      "Preparing to unpack .../fonts-nanum-coding_2.5-3_all.deb ...\n",
      "Unpacking fonts-nanum-coding (2.5-3) ...\n",
      "Selecting previously unselected package fonts-nanum-eco.\n",
      "Preparing to unpack .../fonts-nanum-eco_1.000-7_all.deb ...\n",
      "Unpacking fonts-nanum-eco (1.000-7) ...\n",
      "Selecting previously unselected package fonts-nanum-extra.\n",
      "Preparing to unpack .../fonts-nanum-extra_20200506-1_all.deb ...\n",
      "Unpacking fonts-nanum-extra (20200506-1) ...\n",
      "Setting up fonts-nanum-extra (20200506-1) ...\n",
      "Setting up fonts-nanum (20200506-1) ...\n",
      "Setting up fonts-nanum-coding (2.5-3) ...\n",
      "Setting up fonts-nanum-eco (1.000-7) ...\n",
      "Processing triggers for fontconfig (2.13.1-4.2ubuntu5) ...\n",
      "/usr/share/fonts: caching, new cache contents: 0 fonts, 1 dirs\n",
      "/usr/share/fonts/truetype: caching, new cache contents: 0 fonts, 3 dirs\n",
      "/usr/share/fonts/truetype/humor-sans: caching, new cache contents: 1 fonts, 0 dirs\n",
      "/usr/share/fonts/truetype/liberation: caching, new cache contents: 16 fonts, 0 dirs\n",
      "/usr/share/fonts/truetype/nanum: caching, new cache contents: 39 fonts, 0 dirs\n",
      "/usr/local/share/fonts: caching, new cache contents: 0 fonts, 0 dirs\n",
      "/root/.local/share/fonts: skipping, no such directory\n",
      "/root/.fonts: skipping, no such directory\n",
      "/usr/share/fonts/truetype: skipping, looped directory detected\n",
      "/usr/share/fonts/truetype/humor-sans: skipping, looped directory detected\n",
      "/usr/share/fonts/truetype/liberation: skipping, looped directory detected\n",
      "/usr/share/fonts/truetype/nanum: skipping, looped directory detected\n",
      "/var/cache/fontconfig: cleaning cache directory\n",
      "/root/.cache/fontconfig: not cleaning non-existent cache directory\n",
      "/root/.fontconfig: not cleaning non-existent cache directory\n",
      "fc-cache: succeeded\n",
      "\u001b[2K     \u001b[90m━━━━━━━━━━━━━━━━━━━━━━━━━━━━━━━━━━━━━━━━\u001b[0m \u001b[32m61.0/61.0 kB\u001b[0m \u001b[31m2.5 MB/s\u001b[0m eta \u001b[36m0:00:00\u001b[0m\n",
      "\u001b[2K     \u001b[90m━━━━━━━━━━━━━━━━━━━━━━━━━━━━━━━━━━━━━━━━\u001b[0m \u001b[32m60.6/60.6 kB\u001b[0m \u001b[31m2.8 MB/s\u001b[0m eta \u001b[36m0:00:00\u001b[0m\n",
      "\u001b[2K   \u001b[90m━━━━━━━━━━━━━━━━━━━━━━━━━━━━━━━━━━━━━━━━\u001b[0m \u001b[32m26.7/26.7 MB\u001b[0m \u001b[31m65.9 MB/s\u001b[0m eta \u001b[36m0:00:00\u001b[0m\n",
      "\u001b[2K   \u001b[90m━━━━━━━━━━━━━━━━━━━━━━━━━━━━━━━━━━━━━━━━\u001b[0m \u001b[32m18.3/18.3 MB\u001b[0m \u001b[31m102.9 MB/s\u001b[0m eta \u001b[36m0:00:00\u001b[0m\n",
      "\u001b[2K   \u001b[90m━━━━━━━━━━━━━━━━━━━━━━━━━━━━━━━━━━━━━━━━\u001b[0m \u001b[32m38.6/38.6 MB\u001b[0m \u001b[31m15.9 MB/s\u001b[0m eta \u001b[36m0:00:00\u001b[0m\n",
      "\u001b[?25h\u001b[31mERROR: pip's dependency resolver does not currently take into account all the packages that are installed. This behaviour is the source of the following dependency conflicts.\n",
      "opencv-python-headless 4.12.0.88 requires numpy<2.3.0,>=2; python_version >= \"3.9\", but you have numpy 1.26.4 which is incompatible.\n",
      "opencv-python 4.12.0.88 requires numpy<2.3.0,>=2; python_version >= \"3.9\", but you have numpy 1.26.4 which is incompatible.\n",
      "opencv-contrib-python 4.12.0.88 requires numpy<2.3.0,>=2; python_version >= \"3.9\", but you have numpy 1.26.4 which is incompatible.\n",
      "thinc 8.3.6 requires numpy<3.0.0,>=2.0.0, but you have numpy 1.26.4 which is incompatible.\n",
      "tsfresh 0.21.0 requires scipy>=1.14.0; python_version >= \"3.10\", but you have scipy 1.13.1 which is incompatible.\u001b[0m\u001b[31m\n",
      "\u001b[0m"
     ]
    }
   ],
   "source": [
    "!apt-get install -y fonts-nanum*\n",
    "!sudo fc-cache -fv\n",
    "!rm ~/.cache/matplotlib -rf\n",
    "\n",
    "!pip -q install --upgrade gensim\n",
    "# gensim : 자연어처리 영역에 필요한 도구들\n",
    "\n",
    "# 세션 다시 시작 필요"
   ]
  },
  {
   "cell_type": "code",
   "execution_count": 3,
   "metadata": {
    "colab": {
     "base_uri": "https://localhost:8080/"
    },
    "collapsed": true,
    "executionInfo": {
     "elapsed": 13777,
     "status": "ok",
     "timestamp": 1753834304857,
     "user": {
      "displayName": "정봉균",
      "userId": "09253430244697113323"
     },
     "user_tz": -540
    },
    "id": "z8avsW-Wj5Gv",
    "jupyter": {
     "outputs_hidden": true
    },
    "outputId": "ff4352a5-fa72-4097-a89b-2264eb269830"
   },
   "outputs": [
    {
     "name": "stdout",
     "output_type": "stream",
     "text": [
      "\u001b[2K     \u001b[90m━━━━━━━━━━━━━━━━━━━━━━━━━━━━━━━━━━━━━━━━\u001b[0m \u001b[32m35.5/35.5 MB\u001b[0m \u001b[31m57.8 MB/s\u001b[0m eta \u001b[36m0:00:00\u001b[0m\n",
      "\u001b[?25h  Preparing metadata (setup.py) ... \u001b[?25l\u001b[?25hdone\n",
      "\u001b[2K   \u001b[90m━━━━━━━━━━━━━━━━━━━━━━━━━━━━━━━━━━━━━━━━\u001b[0m \u001b[32m7.6/7.6 MB\u001b[0m \u001b[31m15.6 MB/s\u001b[0m eta \u001b[36m0:00:00\u001b[0m\n",
      "\u001b[?25h  Building wheel for kiwipiepy_model (setup.py) ... \u001b[?25l\u001b[?25hdone\n",
      "\u001b[2K   \u001b[90m━━━━━━━━━━━━━━━━━━━━━━━━━━━━━━━━━━━━━━━━\u001b[0m \u001b[32m19.4/19.4 MB\u001b[0m \u001b[31m75.1 MB/s\u001b[0m eta \u001b[36m0:00:00\u001b[0m\n",
      "\u001b[2K   \u001b[90m━━━━━━━━━━━━━━━━━━━━━━━━━━━━━━━━━━━━━━━━\u001b[0m \u001b[32m496.6/496.6 kB\u001b[0m \u001b[31m32.5 MB/s\u001b[0m eta \u001b[36m0:00:00\u001b[0m\n",
      "\u001b[?25h"
     ]
    }
   ],
   "source": [
    "!pip -q install kiwipiepy\n",
    "!pip -q install konlpy"
   ]
  },
  {
   "cell_type": "code",
   "execution_count": 4,
   "metadata": {
    "executionInfo": {
     "elapsed": 7,
     "status": "ok",
     "timestamp": 1753834304873,
     "user": {
      "displayName": "정봉균",
      "userId": "09253430244697113323"
     },
     "user_tz": -540
    },
    "id": "H3w4gkHWD5c2"
   },
   "outputs": [],
   "source": [
    "import pandas as pd\n",
    "import pickle\n",
    "import re\n",
    "from kiwipiepy import Kiwi\n",
    "from konlpy.tag import Okt\n",
    "from kiwipiepy.utils import Stopwords\n",
    "from tqdm.auto import tqdm"
   ]
  },
  {
   "cell_type": "code",
   "execution_count": 5,
   "metadata": {
    "executionInfo": {
     "elapsed": 1757,
     "status": "ok",
     "timestamp": 1753834306633,
     "user": {
      "displayName": "정봉균",
      "userId": "09253430244697113323"
     },
     "user_tz": -540
    },
    "id": "IbPLFAUhD5ft"
   },
   "outputs": [],
   "source": [
    "with open(\"./data/naver_shopping(정제 및 토큰화 완료).pkl\", \"rb\") as f :\n",
    "    data = pickle.load(f)"
   ]
  },
  {
   "cell_type": "markdown",
   "metadata": {
    "id": "B4K41LPBD5ft"
   },
   "source": [
    "### Word2Vec\n",
    "- 단어 임베딩 방법론(모델) 중에 하나\n",
    "- `단어의 관계성`을 학습하기 위한 모델\n",
    "\n",
    "> 두 가지 방법\n",
    "> - CBOW : 주변 단어 → 중심 단어를 학습/예측하는 방법\n",
    "> - Skip-gram : 중심 단어 → 주변 단어를 학습/예측하는 방법"
   ]
  },
  {
   "cell_type": "markdown",
   "metadata": {
    "id": "4hvX9Ov3sELI"
   },
   "source": [
    "### 유사도(similarity)?\n",
    "- 비슷한 정도를 숫자값으로 표현한 형태\n",
    "\n",
    "1. 유클리디안 거리\n",
    "2. 코사인 유사도\n",
    "\n",
    "![image.png](data:image/png;base64,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)"
   ]
  },
  {
   "cell_type": "code",
   "execution_count": null,
   "metadata": {
    "id": "--5iNZAED5ft"
   },
   "outputs": [],
   "source": [
    "# word2vec 맛보기\n",
    "import gensim.downloader as api"
   ]
  },
  {
   "cell_type": "markdown",
   "metadata": {
    "id": "FA4Q0IGDrppf"
   },
   "source": [
    "| 모델 이름                           | 레코드 수      | 설명                                                                                                  |\n",
    "|-------------------------------------|----------------|-------------------------------------------------------------------------------------------------------|\n",
    "| conceptnet-numberbatch-17-06-300    | 1,917,247      | ConceptNet Numberbatch는 개념 간의 관계를 학습한 모델.                                                 |\n",
    "|                                     |                | 상식을 이해하고 개념 간 관계를 연결시키기 위해 개발됨.                                                 |\n",
    "|                                     |                | 주로 의미 네트워크 연구에 사용됨. \"고양이\"와 \"동물\" 간의 관계를 학습.                                  |\n",
    "| fasttext-wiki-news-subwords-300     | 999,999        | fastText는 단어뿐만 아니라 서브워드(단어의 작은 부분)를 학습.                                          |\n",
    "|                                     |                | \"unbelievable\"을 \"un\", \"believe\", \"able\"로 나누어 학습.                                                 |\n",
    "|                                     |                | Wikipedia와 뉴스 기사 데이터를 기반으로 학습됨.                                                       |\n",
    "| glove-twitter-100                   | 1,193,514      | GloVe는 Stanford에서 개발된 모델로, 단어 간의 공간적 관계를 벡터로 표현.                               |\n",
    "|                                     |                | 트위터 데이터(2억 개 트윗)로 학습되어 소셜 미디어 자연어 처리 작업에 적합.                             |\n",
    "| word2vec-google-news-300            | 3,000,000      | Word2Vec은 구글 뉴스 데이터로 학습된 모델.                                                             |\n",
    "|                                     |                | 뉴스 기사의 단어 간 유사성 및 의미적 관계를 잘 포착.                                                   |\n",
    "|                                     |                | 뉴스 데이터 기반이기 때문에 자연어 처리에 많이 사용됨.                                                 |\n",
    "| word2vec-ruscorpora-300             | 184,973        | Word2Vec ruscorpora는 러시아어 텍스트 기반의 모델로,                                                   |\n",
    "|                                     |                | 러시아어 자연어 처리 작업에 사용됨.                                                                   |"
   ]
  },
  {
   "cell_type": "code",
   "execution_count": null,
   "metadata": {
    "colab": {
     "base_uri": "https://localhost:8080/"
    },
    "executionInfo": {
     "elapsed": 495735,
     "status": "ok",
     "timestamp": 1753767826896,
     "user": {
      "displayName": "정봉균",
      "userId": "09253430244697113323"
     },
     "user_tz": -540
    },
    "id": "7rf1npYSD5ft",
    "outputId": "76ca5396-610c-439b-a3a7-b86d597485a5"
   },
   "outputs": [
    {
     "name": "stdout",
     "output_type": "stream",
     "text": [
      "[==================================================] 100.0% 1662.8/1662.8MB downloaded\n"
     ]
    }
   ],
   "source": [
    "# 사전학습 된 word2vec 모델 로드\n",
    "model = api.load(\"word2vec-google-news-300\")"
   ]
  },
  {
   "cell_type": "code",
   "execution_count": null,
   "metadata": {
    "colab": {
     "base_uri": "https://localhost:8080/"
    },
    "executionInfo": {
     "elapsed": 47,
     "status": "ok",
     "timestamp": 1753767990467,
     "user": {
      "displayName": "정봉균",
      "userId": "09253430244697113323"
     },
     "user_tz": -540
    },
    "id": "Q7kIzRDND5ft",
    "outputId": "1f05790b-914f-4059-9c5b-6d2d9eb2a9cc"
   },
   "outputs": [
    {
     "data": {
      "text/plain": [
       "(300,)"
      ]
     },
     "execution_count": 10,
     "metadata": {},
     "output_type": "execute_result"
    }
   ],
   "source": [
    "# 임베딩 벡터 확인\n",
    "model[\"cat\"].shape"
   ]
  },
  {
   "cell_type": "code",
   "execution_count": null,
   "metadata": {
    "colab": {
     "base_uri": "https://localhost:8080/"
    },
    "collapsed": true,
    "executionInfo": {
     "elapsed": 15814,
     "status": "ok",
     "timestamp": 1753768038407,
     "user": {
      "displayName": "정봉균",
      "userId": "09253430244697113323"
     },
     "user_tz": -540
    },
    "id": "0I_tN3IAD5ft",
    "jupyter": {
     "outputs_hidden": true
    },
    "outputId": "7ac92be9-480a-4e0a-88a6-0ced6157fa8f"
   },
   "outputs": [
    {
     "data": {
      "text/plain": [
       "[('cats', 0.8099379539489746),\n",
       " ('dog', 0.760945737361908),\n",
       " ('kitten', 0.7464985251426697),\n",
       " ('feline', 0.7326234579086304),\n",
       " ('beagle', 0.7150582671165466),\n",
       " ('puppy', 0.7075453400611877),\n",
       " ('pup', 0.6934291124343872),\n",
       " ('pet', 0.6891531348228455),\n",
       " ('felines', 0.6755931973457336),\n",
       " ('chihuahua', 0.6709762215614319)]"
      ]
     },
     "execution_count": 11,
     "metadata": {},
     "output_type": "execute_result"
    }
   ],
   "source": [
    "# 유사도 계산\n",
    "model.most_similar(\"cat\")\n",
    "\n",
    "# 유사도 값 : -1 ~ 1\n",
    "# 비슷한 의미일수록 1에 가까워짐 (-1에 가까울수록 의미가 전혀 다름)"
   ]
  },
  {
   "cell_type": "code",
   "execution_count": null,
   "metadata": {
    "colab": {
     "base_uri": "https://localhost:8080/"
    },
    "collapsed": true,
    "executionInfo": {
     "elapsed": 1179,
     "status": "ok",
     "timestamp": 1753769296389,
     "user": {
      "displayName": "정봉균",
      "userId": "09253430244697113323"
     },
     "user_tz": -540
    },
    "id": "xO9uPAAjD5ft",
    "jupyter": {
     "outputs_hidden": true
    },
    "outputId": "845520b2-8d6a-49d4-edb0-b5887cb95545"
   },
   "outputs": [
    {
     "data": {
      "text/plain": [
       "[('vodka', 0.8616750240325928),\n",
       " ('brandy', 0.8266340494155884),\n",
       " ('distilled_liquor', 0.8266003727912903),\n",
       " ('Ochakovo', 0.8215005397796631),\n",
       " ('Campari', 0.8179371953010559),\n",
       " ('brandy_cognac', 0.8096943497657776),\n",
       " ('Bombay_Sapphire_gin', 0.8087176084518433),\n",
       " ('plum_brandy', 0.8080827593803406),\n",
       " ('Spanish_cava', 0.8054169416427612),\n",
       " ('whiskey_brandy', 0.8039817214012146)]"
      ]
     },
     "execution_count": 14,
     "metadata": {},
     "output_type": "execute_result"
    }
   ],
   "source": [
    "# 벡터 간의 유사도를 계산 후, 가장 유사한 단어들을 반환하는 함수\n",
    "model.most_similar_cosmul(positive = [\"soju\", \"russia\"], negative = [\"korea\"])"
   ]
  },
  {
   "cell_type": "markdown",
   "metadata": {
    "id": "_f20u_cwD5ft"
   },
   "source": [
    "### Word2Vec 학습\n",
    "- 보통 Skipgram + Negative Sampling 방식이 좀 더 임베딩 품질이 좋음"
   ]
  },
  {
   "cell_type": "code",
   "execution_count": 6,
   "metadata": {
    "executionInfo": {
     "elapsed": 612,
     "status": "ok",
     "timestamp": 1753834307282,
     "user": {
      "displayName": "정봉균",
      "userId": "09253430244697113323"
     },
     "user_tz": -540
    },
    "id": "Z3LXtFUjD5ft"
   },
   "outputs": [],
   "source": [
    "from gensim.models import Word2Vec # 학습 안되어있음"
   ]
  },
  {
   "cell_type": "code",
   "execution_count": 7,
   "metadata": {
    "executionInfo": {
     "elapsed": 26845,
     "status": "ok",
     "timestamp": 1753834334140,
     "user": {
      "displayName": "정봉균",
      "userId": "09253430244697113323"
     },
     "user_tz": -540
    },
    "id": "-zECQOAGD5ft"
   },
   "outputs": [],
   "source": [
    "# 초기화 및 단어의 관계성 파악\n",
    "w2v = Word2Vec(\n",
    "    window = 3,        # 중심단어로부터 주변단어로 인식할 크기\n",
    "    min_count = 5,     # 최소 등장 횟수(5회 미만 단어는 제외)\n",
    "    sg = 1,            # 0은 CBOW, 1은 SkipGram\n",
    "    vector_size = 100, # 표현할 벡터의 size 지정\n",
    "    negative = 5,      # 5개의 단어를 음성 샘플링에 활용 (음성인 정보를 전달)\n",
    "    sentences = data[\"tagged_doc\"] # 학습에 사용될 데이터셋\n",
    ")"
   ]
  },
  {
   "cell_type": "code",
   "execution_count": 8,
   "metadata": {
    "colab": {
     "base_uri": "https://localhost:8080/"
    },
    "executionInfo": {
     "elapsed": 17,
     "status": "ok",
     "timestamp": 1753834334159,
     "user": {
      "displayName": "정봉균",
      "userId": "09253430244697113323"
     },
     "user_tz": -540
    },
    "id": "R-CpYBKrD5ft",
    "outputId": "be31d26e-e4ea-4fb3-ed0b-8678ce071039"
   },
   "outputs": [
    {
     "data": {
      "text/plain": [
       "(100,)"
      ]
     },
     "execution_count": 8,
     "metadata": {},
     "output_type": "execute_result"
    }
   ],
   "source": [
    "# 임베딩 벡터 확인\n",
    "w2v.wv.get_vector(\"배송\").shape"
   ]
  },
  {
   "cell_type": "code",
   "execution_count": 9,
   "metadata": {
    "colab": {
     "base_uri": "https://localhost:8080/"
    },
    "collapsed": true,
    "executionInfo": {
     "elapsed": 10,
     "status": "ok",
     "timestamp": 1753834334175,
     "user": {
      "displayName": "정봉균",
      "userId": "09253430244697113323"
     },
     "user_tz": -540
    },
    "id": "HI9OcXdfD5fu",
    "jupyter": {
     "outputs_hidden": true
    },
    "outputId": "ec16fe73-afbd-4367-fc60-434277e2514b"
   },
   "outputs": [
    {
     "data": {
      "text/plain": [
       "[('별루', 0.7847347259521484),\n",
       " ('루', 0.7771662473678589),\n",
       " ('벼로', 0.6828235387802124),\n",
       " ('꽝', 0.6813016533851624),\n",
       " ('그닥', 0.6785913109779358),\n",
       " ('의견', 0.6417206525802612),\n",
       " ('별롭니', 0.6408228874206543),\n",
       " ('이상하', 0.6282016634941101),\n",
       " ('비추다', 0.6250743865966797),\n",
       " ('구림', 0.6216611862182617)]"
      ]
     },
     "execution_count": 9,
     "metadata": {},
     "output_type": "execute_result"
    }
   ],
   "source": [
    "w2v.wv.most_similar(\"별로\", topn = 10)"
   ]
  },
  {
   "cell_type": "markdown",
   "metadata": {
    "id": "65b5Fs85D5fu"
   },
   "source": [
    "## 평점을 기반으로 긍/부정 분류기 + 가중치 분석\n"
   ]
  },
  {
   "cell_type": "markdown",
   "metadata": {
    "id": "GEBBuLIjD5fu"
   },
   "source": [
    "1. 평점으로 라벨 생성(4,5 는 긍정 / 1,2 는 부정)"
   ]
  },
  {
   "cell_type": "code",
   "execution_count": 10,
   "metadata": {
    "executionInfo": {
     "elapsed": 1,
     "status": "ok",
     "timestamp": 1753834334177,
     "user": {
      "displayName": "정봉균",
      "userId": "09253430244697113323"
     },
     "user_tz": -540
    },
    "id": "X4HOLDQK2h0C"
   },
   "outputs": [],
   "source": [
    "label = []\n",
    "for rating in data[\"평점\"] :\n",
    "    if rating > 3 : # 3보다 큰가?\n",
    "        label.append(1) # 긍정\n",
    "    else :\n",
    "        label.append(0) # 부정"
   ]
  },
  {
   "cell_type": "code",
   "execution_count": 11,
   "metadata": {
    "executionInfo": {
     "elapsed": 58,
     "status": "ok",
     "timestamp": 1753834334239,
     "user": {
      "displayName": "정봉균",
      "userId": "09253430244697113323"
     },
     "user_tz": -540
    },
    "id": "5pgERD5M27uB"
   },
   "outputs": [],
   "source": [
    "data[\"label\"] = label"
   ]
  },
  {
   "cell_type": "code",
   "execution_count": 12,
   "metadata": {
    "colab": {
     "base_uri": "https://localhost:8080/",
     "height": 213
    },
    "collapsed": true,
    "executionInfo": {
     "elapsed": 196,
     "status": "ok",
     "timestamp": 1753834334438,
     "user": {
      "displayName": "정봉균",
      "userId": "09253430244697113323"
     },
     "user_tz": -540
    },
    "id": "Ty1Hrkb03CAe",
    "jupyter": {
     "outputs_hidden": true
    },
    "outputId": "a88ac71b-d725-4748-cf6b-f4c7712b03b3"
   },
   "outputs": [
    {
     "data": {
      "application/vnd.google.colaboratory.intrinsic+json": {
       "type": "dataframe",
       "variable_name": "data"
      },
      "text/html": [
       "\n",
       "  <div id=\"df-94734ad8-d3a3-4f83-b7f7-f30b1b10faba\" class=\"colab-df-container\">\n",
       "    <div>\n",
       "<style scoped>\n",
       "    .dataframe tbody tr th:only-of-type {\n",
       "        vertical-align: middle;\n",
       "    }\n",
       "\n",
       "    .dataframe tbody tr th {\n",
       "        vertical-align: top;\n",
       "    }\n",
       "\n",
       "    .dataframe thead th {\n",
       "        text-align: right;\n",
       "    }\n",
       "</style>\n",
       "<table border=\"1\" class=\"dataframe\">\n",
       "  <thead>\n",
       "    <tr style=\"text-align: right;\">\n",
       "      <th></th>\n",
       "      <th>평점</th>\n",
       "      <th>리뷰</th>\n",
       "      <th>cleaned_doc</th>\n",
       "      <th>tagged_doc</th>\n",
       "      <th>label</th>\n",
       "    </tr>\n",
       "  </thead>\n",
       "  <tbody>\n",
       "    <tr>\n",
       "      <th>0</th>\n",
       "      <td>5</td>\n",
       "      <td>배공빠르고 굿</td>\n",
       "      <td>배공빠르고 굿</td>\n",
       "      <td>[배공, 빠르다, 굿]</td>\n",
       "      <td>1</td>\n",
       "    </tr>\n",
       "    <tr>\n",
       "      <th>1</th>\n",
       "      <td>2</td>\n",
       "      <td>택배가 엉망이네용 저희집 밑에층에 말도없이 놔두고가고</td>\n",
       "      <td>택배가 엉망이네용 저희집 밑에층에 말도없이 놔두고가고</td>\n",
       "      <td>[택배, 엉망, 용, 저희, 집, 밑, 층, 놔두다, 가다]</td>\n",
       "      <td>0</td>\n",
       "    </tr>\n",
       "    <tr>\n",
       "      <th>2</th>\n",
       "      <td>5</td>\n",
       "      <td>아주좋아요 바지 정말 좋아서2개 더 구매했어요 이가격에 대박입니다. 바느질이 조금 ...</td>\n",
       "      <td>아주좋아요 바지 정말 좋아서2개 더 구매했어요 이가격에 대박입니다. 바느질이 조금 ...</td>\n",
       "      <td>[아주, 좋다, 바지, 정말, 좋다, 개, 구매, 하다, 가격, 대박, 이다, 바느...</td>\n",
       "      <td>1</td>\n",
       "    </tr>\n",
       "  </tbody>\n",
       "</table>\n",
       "</div>\n",
       "    <div class=\"colab-df-buttons\">\n",
       "\n",
       "  <div class=\"colab-df-container\">\n",
       "    <button class=\"colab-df-convert\" onclick=\"convertToInteractive('df-94734ad8-d3a3-4f83-b7f7-f30b1b10faba')\"\n",
       "            title=\"Convert this dataframe to an interactive table.\"\n",
       "            style=\"display:none;\">\n",
       "\n",
       "  <svg xmlns=\"http://www.w3.org/2000/svg\" height=\"24px\" viewBox=\"0 -960 960 960\">\n",
       "    <path d=\"M120-120v-720h720v720H120Zm60-500h600v-160H180v160Zm220 220h160v-160H400v160Zm0 220h160v-160H400v160ZM180-400h160v-160H180v160Zm440 0h160v-160H620v160ZM180-180h160v-160H180v160Zm440 0h160v-160H620v160Z\"/>\n",
       "  </svg>\n",
       "    </button>\n",
       "\n",
       "  <style>\n",
       "    .colab-df-container {\n",
       "      display:flex;\n",
       "      gap: 12px;\n",
       "    }\n",
       "\n",
       "    .colab-df-convert {\n",
       "      background-color: #E8F0FE;\n",
       "      border: none;\n",
       "      border-radius: 50%;\n",
       "      cursor: pointer;\n",
       "      display: none;\n",
       "      fill: #1967D2;\n",
       "      height: 32px;\n",
       "      padding: 0 0 0 0;\n",
       "      width: 32px;\n",
       "    }\n",
       "\n",
       "    .colab-df-convert:hover {\n",
       "      background-color: #E2EBFA;\n",
       "      box-shadow: 0px 1px 2px rgba(60, 64, 67, 0.3), 0px 1px 3px 1px rgba(60, 64, 67, 0.15);\n",
       "      fill: #174EA6;\n",
       "    }\n",
       "\n",
       "    .colab-df-buttons div {\n",
       "      margin-bottom: 4px;\n",
       "    }\n",
       "\n",
       "    [theme=dark] .colab-df-convert {\n",
       "      background-color: #3B4455;\n",
       "      fill: #D2E3FC;\n",
       "    }\n",
       "\n",
       "    [theme=dark] .colab-df-convert:hover {\n",
       "      background-color: #434B5C;\n",
       "      box-shadow: 0px 1px 3px 1px rgba(0, 0, 0, 0.15);\n",
       "      filter: drop-shadow(0px 1px 2px rgba(0, 0, 0, 0.3));\n",
       "      fill: #FFFFFF;\n",
       "    }\n",
       "  </style>\n",
       "\n",
       "    <script>\n",
       "      const buttonEl =\n",
       "        document.querySelector('#df-94734ad8-d3a3-4f83-b7f7-f30b1b10faba button.colab-df-convert');\n",
       "      buttonEl.style.display =\n",
       "        google.colab.kernel.accessAllowed ? 'block' : 'none';\n",
       "\n",
       "      async function convertToInteractive(key) {\n",
       "        const element = document.querySelector('#df-94734ad8-d3a3-4f83-b7f7-f30b1b10faba');\n",
       "        const dataTable =\n",
       "          await google.colab.kernel.invokeFunction('convertToInteractive',\n",
       "                                                    [key], {});\n",
       "        if (!dataTable) return;\n",
       "\n",
       "        const docLinkHtml = 'Like what you see? Visit the ' +\n",
       "          '<a target=\"_blank\" href=https://colab.research.google.com/notebooks/data_table.ipynb>data table notebook</a>'\n",
       "          + ' to learn more about interactive tables.';\n",
       "        element.innerHTML = '';\n",
       "        dataTable['output_type'] = 'display_data';\n",
       "        await google.colab.output.renderOutput(dataTable, element);\n",
       "        const docLink = document.createElement('div');\n",
       "        docLink.innerHTML = docLinkHtml;\n",
       "        element.appendChild(docLink);\n",
       "      }\n",
       "    </script>\n",
       "  </div>\n",
       "\n",
       "\n",
       "    <div id=\"df-3f3a97e5-c130-448e-95ed-997b3e0c5bc7\">\n",
       "      <button class=\"colab-df-quickchart\" onclick=\"quickchart('df-3f3a97e5-c130-448e-95ed-997b3e0c5bc7')\"\n",
       "                title=\"Suggest charts\"\n",
       "                style=\"display:none;\">\n",
       "\n",
       "<svg xmlns=\"http://www.w3.org/2000/svg\" height=\"24px\"viewBox=\"0 0 24 24\"\n",
       "     width=\"24px\">\n",
       "    <g>\n",
       "        <path d=\"M19 3H5c-1.1 0-2 .9-2 2v14c0 1.1.9 2 2 2h14c1.1 0 2-.9 2-2V5c0-1.1-.9-2-2-2zM9 17H7v-7h2v7zm4 0h-2V7h2v10zm4 0h-2v-4h2v4z\"/>\n",
       "    </g>\n",
       "</svg>\n",
       "      </button>\n",
       "\n",
       "<style>\n",
       "  .colab-df-quickchart {\n",
       "      --bg-color: #E8F0FE;\n",
       "      --fill-color: #1967D2;\n",
       "      --hover-bg-color: #E2EBFA;\n",
       "      --hover-fill-color: #174EA6;\n",
       "      --disabled-fill-color: #AAA;\n",
       "      --disabled-bg-color: #DDD;\n",
       "  }\n",
       "\n",
       "  [theme=dark] .colab-df-quickchart {\n",
       "      --bg-color: #3B4455;\n",
       "      --fill-color: #D2E3FC;\n",
       "      --hover-bg-color: #434B5C;\n",
       "      --hover-fill-color: #FFFFFF;\n",
       "      --disabled-bg-color: #3B4455;\n",
       "      --disabled-fill-color: #666;\n",
       "  }\n",
       "\n",
       "  .colab-df-quickchart {\n",
       "    background-color: var(--bg-color);\n",
       "    border: none;\n",
       "    border-radius: 50%;\n",
       "    cursor: pointer;\n",
       "    display: none;\n",
       "    fill: var(--fill-color);\n",
       "    height: 32px;\n",
       "    padding: 0;\n",
       "    width: 32px;\n",
       "  }\n",
       "\n",
       "  .colab-df-quickchart:hover {\n",
       "    background-color: var(--hover-bg-color);\n",
       "    box-shadow: 0 1px 2px rgba(60, 64, 67, 0.3), 0 1px 3px 1px rgba(60, 64, 67, 0.15);\n",
       "    fill: var(--button-hover-fill-color);\n",
       "  }\n",
       "\n",
       "  .colab-df-quickchart-complete:disabled,\n",
       "  .colab-df-quickchart-complete:disabled:hover {\n",
       "    background-color: var(--disabled-bg-color);\n",
       "    fill: var(--disabled-fill-color);\n",
       "    box-shadow: none;\n",
       "  }\n",
       "\n",
       "  .colab-df-spinner {\n",
       "    border: 2px solid var(--fill-color);\n",
       "    border-color: transparent;\n",
       "    border-bottom-color: var(--fill-color);\n",
       "    animation:\n",
       "      spin 1s steps(1) infinite;\n",
       "  }\n",
       "\n",
       "  @keyframes spin {\n",
       "    0% {\n",
       "      border-color: transparent;\n",
       "      border-bottom-color: var(--fill-color);\n",
       "      border-left-color: var(--fill-color);\n",
       "    }\n",
       "    20% {\n",
       "      border-color: transparent;\n",
       "      border-left-color: var(--fill-color);\n",
       "      border-top-color: var(--fill-color);\n",
       "    }\n",
       "    30% {\n",
       "      border-color: transparent;\n",
       "      border-left-color: var(--fill-color);\n",
       "      border-top-color: var(--fill-color);\n",
       "      border-right-color: var(--fill-color);\n",
       "    }\n",
       "    40% {\n",
       "      border-color: transparent;\n",
       "      border-right-color: var(--fill-color);\n",
       "      border-top-color: var(--fill-color);\n",
       "    }\n",
       "    60% {\n",
       "      border-color: transparent;\n",
       "      border-right-color: var(--fill-color);\n",
       "    }\n",
       "    80% {\n",
       "      border-color: transparent;\n",
       "      border-right-color: var(--fill-color);\n",
       "      border-bottom-color: var(--fill-color);\n",
       "    }\n",
       "    90% {\n",
       "      border-color: transparent;\n",
       "      border-bottom-color: var(--fill-color);\n",
       "    }\n",
       "  }\n",
       "</style>\n",
       "\n",
       "      <script>\n",
       "        async function quickchart(key) {\n",
       "          const quickchartButtonEl =\n",
       "            document.querySelector('#' + key + ' button');\n",
       "          quickchartButtonEl.disabled = true;  // To prevent multiple clicks.\n",
       "          quickchartButtonEl.classList.add('colab-df-spinner');\n",
       "          try {\n",
       "            const charts = await google.colab.kernel.invokeFunction(\n",
       "                'suggestCharts', [key], {});\n",
       "          } catch (error) {\n",
       "            console.error('Error during call to suggestCharts:', error);\n",
       "          }\n",
       "          quickchartButtonEl.classList.remove('colab-df-spinner');\n",
       "          quickchartButtonEl.classList.add('colab-df-quickchart-complete');\n",
       "        }\n",
       "        (() => {\n",
       "          let quickchartButtonEl =\n",
       "            document.querySelector('#df-3f3a97e5-c130-448e-95ed-997b3e0c5bc7 button');\n",
       "          quickchartButtonEl.style.display =\n",
       "            google.colab.kernel.accessAllowed ? 'block' : 'none';\n",
       "        })();\n",
       "      </script>\n",
       "    </div>\n",
       "\n",
       "    </div>\n",
       "  </div>\n"
      ],
      "text/plain": [
       "   평점                                                 리뷰  \\\n",
       "0   5                                            배공빠르고 굿   \n",
       "1   2                      택배가 엉망이네용 저희집 밑에층에 말도없이 놔두고가고   \n",
       "2   5  아주좋아요 바지 정말 좋아서2개 더 구매했어요 이가격에 대박입니다. 바느질이 조금 ...   \n",
       "\n",
       "                                         cleaned_doc  \\\n",
       "0                                            배공빠르고 굿   \n",
       "1                      택배가 엉망이네용 저희집 밑에층에 말도없이 놔두고가고   \n",
       "2  아주좋아요 바지 정말 좋아서2개 더 구매했어요 이가격에 대박입니다. 바느질이 조금 ...   \n",
       "\n",
       "                                          tagged_doc  label  \n",
       "0                                       [배공, 빠르다, 굿]      1  \n",
       "1                  [택배, 엉망, 용, 저희, 집, 밑, 층, 놔두다, 가다]      0  \n",
       "2  [아주, 좋다, 바지, 정말, 좋다, 개, 구매, 하다, 가격, 대박, 이다, 바느...      1  "
      ]
     },
     "execution_count": 12,
     "metadata": {},
     "output_type": "execute_result"
    }
   ],
   "source": [
    "data.head(3)"
   ]
  },
  {
   "cell_type": "markdown",
   "metadata": {
    "id": "eixd5sk92fn5"
   },
   "source": [
    "\n",
    "2. 각 리뷰들에 대해 평균 벡터\n"
   ]
  },
  {
   "cell_type": "code",
   "execution_count": 13,
   "metadata": {
    "executionInfo": {
     "elapsed": 9,
     "status": "ok",
     "timestamp": 1753834334449,
     "user": {
      "displayName": "정봉균",
      "userId": "09253430244697113323"
     },
     "user_tz": -540
    },
    "id": "4f0BSF452iEB"
   },
   "outputs": [],
   "source": [
    "# 각 리뷰의 평균 벡터(문서에 대한 벡터) 담아둘 리스트\n",
    "X_w2v_list = []"
   ]
  },
  {
   "cell_type": "code",
   "execution_count": 14,
   "metadata": {
    "executionInfo": {
     "elapsed": 1,
     "status": "ok",
     "timestamp": 1753834334622,
     "user": {
      "displayName": "정봉균",
      "userId": "09253430244697113323"
     },
     "user_tz": -540
    },
    "id": "_GDtzdIt4fFq"
   },
   "outputs": [],
   "source": [
    "import numpy as np"
   ]
  },
  {
   "cell_type": "code",
   "execution_count": 15,
   "metadata": {
    "colab": {
     "base_uri": "https://localhost:8080/"
    },
    "executionInfo": {
     "elapsed": 9,
     "status": "ok",
     "timestamp": 1753834334641,
     "user": {
      "displayName": "정봉균",
      "userId": "09253430244697113323"
     },
     "user_tz": -540
    },
    "id": "aiAvq7x_5CBZ",
    "outputId": "35133779-c7c1-444a-daa4-ea5553676490"
   },
   "outputs": [
    {
     "data": {
      "text/plain": [
       "100"
      ]
     },
     "execution_count": 15,
     "metadata": {},
     "output_type": "execute_result"
    }
   ],
   "source": [
    "w2v.vector_size"
   ]
  },
  {
   "cell_type": "code",
   "execution_count": 16,
   "metadata": {
    "executionInfo": {
     "elapsed": 5854,
     "status": "ok",
     "timestamp": 1753834340495,
     "user": {
      "displayName": "정봉균",
      "userId": "09253430244697113323"
     },
     "user_tz": -540
    },
    "id": "xEXI8HZV3frt"
   },
   "outputs": [],
   "source": [
    "for doc in data[\"tagged_doc\"] :\n",
    "\n",
    "    doc_vectors = []\n",
    "\n",
    "    for token in doc : # 리뷰에 토큰들을 순회\n",
    "        if token in w2v.wv :\n",
    "            doc_vectors.append(w2v.wv[token]) # 벡터화\n",
    "\n",
    "    if len(doc_vectors) > 0 : # 벡터의 길이값이 0보다 큰가?\n",
    "        avg_vectors = np.mean(doc_vectors, axis = 0) # 평균 벡터로 만듬(문서에 대한 대표격에 벡터)\n",
    "    else : # 벡터의 길이가 없는경우 → 정제하는 과정에서 삭제되는 경우\n",
    "        avg_vectors = np.zeros(w2v.vector_size)\n",
    "\n",
    "    X_w2v_list.append(avg_vectors)"
   ]
  },
  {
   "cell_type": "code",
   "execution_count": 17,
   "metadata": {
    "colab": {
     "base_uri": "https://localhost:8080/"
    },
    "executionInfo": {
     "elapsed": 7,
     "status": "ok",
     "timestamp": 1753834340496,
     "user": {
      "displayName": "정봉균",
      "userId": "09253430244697113323"
     },
     "user_tz": -540
    },
    "id": "5KJ3ke7-5_v-",
    "outputId": "d3272036-f9bf-4a68-a519-22313dba10d3"
   },
   "outputs": [
    {
     "data": {
      "text/plain": [
       "(100,)"
      ]
     },
     "execution_count": 17,
     "metadata": {},
     "output_type": "execute_result"
    }
   ],
   "source": [
    "X_w2v_list[0].shape"
   ]
  },
  {
   "cell_type": "markdown",
   "metadata": {
    "id": "5C5why1o2gXJ"
   },
   "source": [
    "3. 모델링\n"
   ]
  },
  {
   "cell_type": "code",
   "execution_count": 18,
   "metadata": {
    "executionInfo": {
     "elapsed": 220,
     "status": "ok",
     "timestamp": 1753834340714,
     "user": {
      "displayName": "정봉균",
      "userId": "09253430244697113323"
     },
     "user_tz": -540
    },
    "id": "ck-VoDg52iUS"
   },
   "outputs": [],
   "source": [
    "# 리스트를 2차원 array 형변환\n",
    "X_w2v = np.vstack(X_w2v_list)"
   ]
  },
  {
   "cell_type": "code",
   "execution_count": 19,
   "metadata": {
    "colab": {
     "base_uri": "https://localhost:8080/"
    },
    "executionInfo": {
     "elapsed": 175,
     "status": "ok",
     "timestamp": 1753834340890,
     "user": {
      "displayName": "정봉균",
      "userId": "09253430244697113323"
     },
     "user_tz": -540
    },
    "id": "RdVQluq17JtY",
    "outputId": "7334e625-df03-4470-848f-5756cc2b82a9"
   },
   "outputs": [
    {
     "data": {
      "text/plain": [
       "(200000, 100)"
      ]
     },
     "execution_count": 19,
     "metadata": {},
     "output_type": "execute_result"
    }
   ],
   "source": [
    "X_w2v.shape\n",
    "# 20만개 데이터\n",
    "# 100개의 특성(차원)"
   ]
  },
  {
   "cell_type": "code",
   "execution_count": 20,
   "metadata": {
    "colab": {
     "base_uri": "https://localhost:8080/",
     "height": 80
    },
    "executionInfo": {
     "elapsed": 978,
     "status": "ok",
     "timestamp": 1753834341870,
     "user": {
      "displayName": "정봉균",
      "userId": "09253430244697113323"
     },
     "user_tz": -540
    },
    "id": "L9-nJ7tR7Tpp",
    "outputId": "c039e6ea-d8bb-44ec-b52f-44b62bc06f35"
   },
   "outputs": [
    {
     "data": {
      "text/html": [
       "<style>#sk-container-id-1 {\n",
       "  /* Definition of color scheme common for light and dark mode */\n",
       "  --sklearn-color-text: #000;\n",
       "  --sklearn-color-text-muted: #666;\n",
       "  --sklearn-color-line: gray;\n",
       "  /* Definition of color scheme for unfitted estimators */\n",
       "  --sklearn-color-unfitted-level-0: #fff5e6;\n",
       "  --sklearn-color-unfitted-level-1: #f6e4d2;\n",
       "  --sklearn-color-unfitted-level-2: #ffe0b3;\n",
       "  --sklearn-color-unfitted-level-3: chocolate;\n",
       "  /* Definition of color scheme for fitted estimators */\n",
       "  --sklearn-color-fitted-level-0: #f0f8ff;\n",
       "  --sklearn-color-fitted-level-1: #d4ebff;\n",
       "  --sklearn-color-fitted-level-2: #b3dbfd;\n",
       "  --sklearn-color-fitted-level-3: cornflowerblue;\n",
       "\n",
       "  /* Specific color for light theme */\n",
       "  --sklearn-color-text-on-default-background: var(--sg-text-color, var(--theme-code-foreground, var(--jp-content-font-color1, black)));\n",
       "  --sklearn-color-background: var(--sg-background-color, var(--theme-background, var(--jp-layout-color0, white)));\n",
       "  --sklearn-color-border-box: var(--sg-text-color, var(--theme-code-foreground, var(--jp-content-font-color1, black)));\n",
       "  --sklearn-color-icon: #696969;\n",
       "\n",
       "  @media (prefers-color-scheme: dark) {\n",
       "    /* Redefinition of color scheme for dark theme */\n",
       "    --sklearn-color-text-on-default-background: var(--sg-text-color, var(--theme-code-foreground, var(--jp-content-font-color1, white)));\n",
       "    --sklearn-color-background: var(--sg-background-color, var(--theme-background, var(--jp-layout-color0, #111)));\n",
       "    --sklearn-color-border-box: var(--sg-text-color, var(--theme-code-foreground, var(--jp-content-font-color1, white)));\n",
       "    --sklearn-color-icon: #878787;\n",
       "  }\n",
       "}\n",
       "\n",
       "#sk-container-id-1 {\n",
       "  color: var(--sklearn-color-text);\n",
       "}\n",
       "\n",
       "#sk-container-id-1 pre {\n",
       "  padding: 0;\n",
       "}\n",
       "\n",
       "#sk-container-id-1 input.sk-hidden--visually {\n",
       "  border: 0;\n",
       "  clip: rect(1px 1px 1px 1px);\n",
       "  clip: rect(1px, 1px, 1px, 1px);\n",
       "  height: 1px;\n",
       "  margin: -1px;\n",
       "  overflow: hidden;\n",
       "  padding: 0;\n",
       "  position: absolute;\n",
       "  width: 1px;\n",
       "}\n",
       "\n",
       "#sk-container-id-1 div.sk-dashed-wrapped {\n",
       "  border: 1px dashed var(--sklearn-color-line);\n",
       "  margin: 0 0.4em 0.5em 0.4em;\n",
       "  box-sizing: border-box;\n",
       "  padding-bottom: 0.4em;\n",
       "  background-color: var(--sklearn-color-background);\n",
       "}\n",
       "\n",
       "#sk-container-id-1 div.sk-container {\n",
       "  /* jupyter's `normalize.less` sets `[hidden] { display: none; }`\n",
       "     but bootstrap.min.css set `[hidden] { display: none !important; }`\n",
       "     so we also need the `!important` here to be able to override the\n",
       "     default hidden behavior on the sphinx rendered scikit-learn.org.\n",
       "     See: https://github.com/scikit-learn/scikit-learn/issues/21755 */\n",
       "  display: inline-block !important;\n",
       "  position: relative;\n",
       "}\n",
       "\n",
       "#sk-container-id-1 div.sk-text-repr-fallback {\n",
       "  display: none;\n",
       "}\n",
       "\n",
       "div.sk-parallel-item,\n",
       "div.sk-serial,\n",
       "div.sk-item {\n",
       "  /* draw centered vertical line to link estimators */\n",
       "  background-image: linear-gradient(var(--sklearn-color-text-on-default-background), var(--sklearn-color-text-on-default-background));\n",
       "  background-size: 2px 100%;\n",
       "  background-repeat: no-repeat;\n",
       "  background-position: center center;\n",
       "}\n",
       "\n",
       "/* Parallel-specific style estimator block */\n",
       "\n",
       "#sk-container-id-1 div.sk-parallel-item::after {\n",
       "  content: \"\";\n",
       "  width: 100%;\n",
       "  border-bottom: 2px solid var(--sklearn-color-text-on-default-background);\n",
       "  flex-grow: 1;\n",
       "}\n",
       "\n",
       "#sk-container-id-1 div.sk-parallel {\n",
       "  display: flex;\n",
       "  align-items: stretch;\n",
       "  justify-content: center;\n",
       "  background-color: var(--sklearn-color-background);\n",
       "  position: relative;\n",
       "}\n",
       "\n",
       "#sk-container-id-1 div.sk-parallel-item {\n",
       "  display: flex;\n",
       "  flex-direction: column;\n",
       "}\n",
       "\n",
       "#sk-container-id-1 div.sk-parallel-item:first-child::after {\n",
       "  align-self: flex-end;\n",
       "  width: 50%;\n",
       "}\n",
       "\n",
       "#sk-container-id-1 div.sk-parallel-item:last-child::after {\n",
       "  align-self: flex-start;\n",
       "  width: 50%;\n",
       "}\n",
       "\n",
       "#sk-container-id-1 div.sk-parallel-item:only-child::after {\n",
       "  width: 0;\n",
       "}\n",
       "\n",
       "/* Serial-specific style estimator block */\n",
       "\n",
       "#sk-container-id-1 div.sk-serial {\n",
       "  display: flex;\n",
       "  flex-direction: column;\n",
       "  align-items: center;\n",
       "  background-color: var(--sklearn-color-background);\n",
       "  padding-right: 1em;\n",
       "  padding-left: 1em;\n",
       "}\n",
       "\n",
       "\n",
       "/* Toggleable style: style used for estimator/Pipeline/ColumnTransformer box that is\n",
       "clickable and can be expanded/collapsed.\n",
       "- Pipeline and ColumnTransformer use this feature and define the default style\n",
       "- Estimators will overwrite some part of the style using the `sk-estimator` class\n",
       "*/\n",
       "\n",
       "/* Pipeline and ColumnTransformer style (default) */\n",
       "\n",
       "#sk-container-id-1 div.sk-toggleable {\n",
       "  /* Default theme specific background. It is overwritten whether we have a\n",
       "  specific estimator or a Pipeline/ColumnTransformer */\n",
       "  background-color: var(--sklearn-color-background);\n",
       "}\n",
       "\n",
       "/* Toggleable label */\n",
       "#sk-container-id-1 label.sk-toggleable__label {\n",
       "  cursor: pointer;\n",
       "  display: flex;\n",
       "  width: 100%;\n",
       "  margin-bottom: 0;\n",
       "  padding: 0.5em;\n",
       "  box-sizing: border-box;\n",
       "  text-align: center;\n",
       "  align-items: start;\n",
       "  justify-content: space-between;\n",
       "  gap: 0.5em;\n",
       "}\n",
       "\n",
       "#sk-container-id-1 label.sk-toggleable__label .caption {\n",
       "  font-size: 0.6rem;\n",
       "  font-weight: lighter;\n",
       "  color: var(--sklearn-color-text-muted);\n",
       "}\n",
       "\n",
       "#sk-container-id-1 label.sk-toggleable__label-arrow:before {\n",
       "  /* Arrow on the left of the label */\n",
       "  content: \"▸\";\n",
       "  float: left;\n",
       "  margin-right: 0.25em;\n",
       "  color: var(--sklearn-color-icon);\n",
       "}\n",
       "\n",
       "#sk-container-id-1 label.sk-toggleable__label-arrow:hover:before {\n",
       "  color: var(--sklearn-color-text);\n",
       "}\n",
       "\n",
       "/* Toggleable content - dropdown */\n",
       "\n",
       "#sk-container-id-1 div.sk-toggleable__content {\n",
       "  max-height: 0;\n",
       "  max-width: 0;\n",
       "  overflow: hidden;\n",
       "  text-align: left;\n",
       "  /* unfitted */\n",
       "  background-color: var(--sklearn-color-unfitted-level-0);\n",
       "}\n",
       "\n",
       "#sk-container-id-1 div.sk-toggleable__content.fitted {\n",
       "  /* fitted */\n",
       "  background-color: var(--sklearn-color-fitted-level-0);\n",
       "}\n",
       "\n",
       "#sk-container-id-1 div.sk-toggleable__content pre {\n",
       "  margin: 0.2em;\n",
       "  border-radius: 0.25em;\n",
       "  color: var(--sklearn-color-text);\n",
       "  /* unfitted */\n",
       "  background-color: var(--sklearn-color-unfitted-level-0);\n",
       "}\n",
       "\n",
       "#sk-container-id-1 div.sk-toggleable__content.fitted pre {\n",
       "  /* unfitted */\n",
       "  background-color: var(--sklearn-color-fitted-level-0);\n",
       "}\n",
       "\n",
       "#sk-container-id-1 input.sk-toggleable__control:checked~div.sk-toggleable__content {\n",
       "  /* Expand drop-down */\n",
       "  max-height: 200px;\n",
       "  max-width: 100%;\n",
       "  overflow: auto;\n",
       "}\n",
       "\n",
       "#sk-container-id-1 input.sk-toggleable__control:checked~label.sk-toggleable__label-arrow:before {\n",
       "  content: \"▾\";\n",
       "}\n",
       "\n",
       "/* Pipeline/ColumnTransformer-specific style */\n",
       "\n",
       "#sk-container-id-1 div.sk-label input.sk-toggleable__control:checked~label.sk-toggleable__label {\n",
       "  color: var(--sklearn-color-text);\n",
       "  background-color: var(--sklearn-color-unfitted-level-2);\n",
       "}\n",
       "\n",
       "#sk-container-id-1 div.sk-label.fitted input.sk-toggleable__control:checked~label.sk-toggleable__label {\n",
       "  background-color: var(--sklearn-color-fitted-level-2);\n",
       "}\n",
       "\n",
       "/* Estimator-specific style */\n",
       "\n",
       "/* Colorize estimator box */\n",
       "#sk-container-id-1 div.sk-estimator input.sk-toggleable__control:checked~label.sk-toggleable__label {\n",
       "  /* unfitted */\n",
       "  background-color: var(--sklearn-color-unfitted-level-2);\n",
       "}\n",
       "\n",
       "#sk-container-id-1 div.sk-estimator.fitted input.sk-toggleable__control:checked~label.sk-toggleable__label {\n",
       "  /* fitted */\n",
       "  background-color: var(--sklearn-color-fitted-level-2);\n",
       "}\n",
       "\n",
       "#sk-container-id-1 div.sk-label label.sk-toggleable__label,\n",
       "#sk-container-id-1 div.sk-label label {\n",
       "  /* The background is the default theme color */\n",
       "  color: var(--sklearn-color-text-on-default-background);\n",
       "}\n",
       "\n",
       "/* On hover, darken the color of the background */\n",
       "#sk-container-id-1 div.sk-label:hover label.sk-toggleable__label {\n",
       "  color: var(--sklearn-color-text);\n",
       "  background-color: var(--sklearn-color-unfitted-level-2);\n",
       "}\n",
       "\n",
       "/* Label box, darken color on hover, fitted */\n",
       "#sk-container-id-1 div.sk-label.fitted:hover label.sk-toggleable__label.fitted {\n",
       "  color: var(--sklearn-color-text);\n",
       "  background-color: var(--sklearn-color-fitted-level-2);\n",
       "}\n",
       "\n",
       "/* Estimator label */\n",
       "\n",
       "#sk-container-id-1 div.sk-label label {\n",
       "  font-family: monospace;\n",
       "  font-weight: bold;\n",
       "  display: inline-block;\n",
       "  line-height: 1.2em;\n",
       "}\n",
       "\n",
       "#sk-container-id-1 div.sk-label-container {\n",
       "  text-align: center;\n",
       "}\n",
       "\n",
       "/* Estimator-specific */\n",
       "#sk-container-id-1 div.sk-estimator {\n",
       "  font-family: monospace;\n",
       "  border: 1px dotted var(--sklearn-color-border-box);\n",
       "  border-radius: 0.25em;\n",
       "  box-sizing: border-box;\n",
       "  margin-bottom: 0.5em;\n",
       "  /* unfitted */\n",
       "  background-color: var(--sklearn-color-unfitted-level-0);\n",
       "}\n",
       "\n",
       "#sk-container-id-1 div.sk-estimator.fitted {\n",
       "  /* fitted */\n",
       "  background-color: var(--sklearn-color-fitted-level-0);\n",
       "}\n",
       "\n",
       "/* on hover */\n",
       "#sk-container-id-1 div.sk-estimator:hover {\n",
       "  /* unfitted */\n",
       "  background-color: var(--sklearn-color-unfitted-level-2);\n",
       "}\n",
       "\n",
       "#sk-container-id-1 div.sk-estimator.fitted:hover {\n",
       "  /* fitted */\n",
       "  background-color: var(--sklearn-color-fitted-level-2);\n",
       "}\n",
       "\n",
       "/* Specification for estimator info (e.g. \"i\" and \"?\") */\n",
       "\n",
       "/* Common style for \"i\" and \"?\" */\n",
       "\n",
       ".sk-estimator-doc-link,\n",
       "a:link.sk-estimator-doc-link,\n",
       "a:visited.sk-estimator-doc-link {\n",
       "  float: right;\n",
       "  font-size: smaller;\n",
       "  line-height: 1em;\n",
       "  font-family: monospace;\n",
       "  background-color: var(--sklearn-color-background);\n",
       "  border-radius: 1em;\n",
       "  height: 1em;\n",
       "  width: 1em;\n",
       "  text-decoration: none !important;\n",
       "  margin-left: 0.5em;\n",
       "  text-align: center;\n",
       "  /* unfitted */\n",
       "  border: var(--sklearn-color-unfitted-level-1) 1pt solid;\n",
       "  color: var(--sklearn-color-unfitted-level-1);\n",
       "}\n",
       "\n",
       ".sk-estimator-doc-link.fitted,\n",
       "a:link.sk-estimator-doc-link.fitted,\n",
       "a:visited.sk-estimator-doc-link.fitted {\n",
       "  /* fitted */\n",
       "  border: var(--sklearn-color-fitted-level-1) 1pt solid;\n",
       "  color: var(--sklearn-color-fitted-level-1);\n",
       "}\n",
       "\n",
       "/* On hover */\n",
       "div.sk-estimator:hover .sk-estimator-doc-link:hover,\n",
       ".sk-estimator-doc-link:hover,\n",
       "div.sk-label-container:hover .sk-estimator-doc-link:hover,\n",
       ".sk-estimator-doc-link:hover {\n",
       "  /* unfitted */\n",
       "  background-color: var(--sklearn-color-unfitted-level-3);\n",
       "  color: var(--sklearn-color-background);\n",
       "  text-decoration: none;\n",
       "}\n",
       "\n",
       "div.sk-estimator.fitted:hover .sk-estimator-doc-link.fitted:hover,\n",
       ".sk-estimator-doc-link.fitted:hover,\n",
       "div.sk-label-container:hover .sk-estimator-doc-link.fitted:hover,\n",
       ".sk-estimator-doc-link.fitted:hover {\n",
       "  /* fitted */\n",
       "  background-color: var(--sklearn-color-fitted-level-3);\n",
       "  color: var(--sklearn-color-background);\n",
       "  text-decoration: none;\n",
       "}\n",
       "\n",
       "/* Span, style for the box shown on hovering the info icon */\n",
       ".sk-estimator-doc-link span {\n",
       "  display: none;\n",
       "  z-index: 9999;\n",
       "  position: relative;\n",
       "  font-weight: normal;\n",
       "  right: .2ex;\n",
       "  padding: .5ex;\n",
       "  margin: .5ex;\n",
       "  width: min-content;\n",
       "  min-width: 20ex;\n",
       "  max-width: 50ex;\n",
       "  color: var(--sklearn-color-text);\n",
       "  box-shadow: 2pt 2pt 4pt #999;\n",
       "  /* unfitted */\n",
       "  background: var(--sklearn-color-unfitted-level-0);\n",
       "  border: .5pt solid var(--sklearn-color-unfitted-level-3);\n",
       "}\n",
       "\n",
       ".sk-estimator-doc-link.fitted span {\n",
       "  /* fitted */\n",
       "  background: var(--sklearn-color-fitted-level-0);\n",
       "  border: var(--sklearn-color-fitted-level-3);\n",
       "}\n",
       "\n",
       ".sk-estimator-doc-link:hover span {\n",
       "  display: block;\n",
       "}\n",
       "\n",
       "/* \"?\"-specific style due to the `<a>` HTML tag */\n",
       "\n",
       "#sk-container-id-1 a.estimator_doc_link {\n",
       "  float: right;\n",
       "  font-size: 1rem;\n",
       "  line-height: 1em;\n",
       "  font-family: monospace;\n",
       "  background-color: var(--sklearn-color-background);\n",
       "  border-radius: 1rem;\n",
       "  height: 1rem;\n",
       "  width: 1rem;\n",
       "  text-decoration: none;\n",
       "  /* unfitted */\n",
       "  color: var(--sklearn-color-unfitted-level-1);\n",
       "  border: var(--sklearn-color-unfitted-level-1) 1pt solid;\n",
       "}\n",
       "\n",
       "#sk-container-id-1 a.estimator_doc_link.fitted {\n",
       "  /* fitted */\n",
       "  border: var(--sklearn-color-fitted-level-1) 1pt solid;\n",
       "  color: var(--sklearn-color-fitted-level-1);\n",
       "}\n",
       "\n",
       "/* On hover */\n",
       "#sk-container-id-1 a.estimator_doc_link:hover {\n",
       "  /* unfitted */\n",
       "  background-color: var(--sklearn-color-unfitted-level-3);\n",
       "  color: var(--sklearn-color-background);\n",
       "  text-decoration: none;\n",
       "}\n",
       "\n",
       "#sk-container-id-1 a.estimator_doc_link.fitted:hover {\n",
       "  /* fitted */\n",
       "  background-color: var(--sklearn-color-fitted-level-3);\n",
       "}\n",
       "</style><div id=\"sk-container-id-1\" class=\"sk-top-container\"><div class=\"sk-text-repr-fallback\"><pre>LogisticRegression(max_iter=10000, random_state=2025)</pre><b>In a Jupyter environment, please rerun this cell to show the HTML representation or trust the notebook. <br />On GitHub, the HTML representation is unable to render, please try loading this page with nbviewer.org.</b></div><div class=\"sk-container\" hidden><div class=\"sk-item\"><div class=\"sk-estimator fitted sk-toggleable\"><input class=\"sk-toggleable__control sk-hidden--visually\" id=\"sk-estimator-id-1\" type=\"checkbox\" checked><label for=\"sk-estimator-id-1\" class=\"sk-toggleable__label fitted sk-toggleable__label-arrow\"><div><div>LogisticRegression</div></div><div><a class=\"sk-estimator-doc-link fitted\" rel=\"noreferrer\" target=\"_blank\" href=\"https://scikit-learn.org/1.6/modules/generated/sklearn.linear_model.LogisticRegression.html\">?<span>Documentation for LogisticRegression</span></a><span class=\"sk-estimator-doc-link fitted\">i<span>Fitted</span></span></div></label><div class=\"sk-toggleable__content fitted\"><pre>LogisticRegression(max_iter=10000, random_state=2025)</pre></div> </div></div></div></div>"
      ],
      "text/plain": [
       "LogisticRegression(max_iter=10000, random_state=2025)"
      ]
     },
     "execution_count": 20,
     "metadata": {},
     "output_type": "execute_result"
    }
   ],
   "source": [
    "# 로지스틱 모델링\n",
    "from sklearn.linear_model import LogisticRegression\n",
    "\n",
    "# 초기화\n",
    "logi = LogisticRegression(max_iter = 10000, random_state = 2025)\n",
    "\n",
    "# 학습\n",
    "logi.fit(X_w2v, data[\"label\"])"
   ]
  },
  {
   "cell_type": "markdown",
   "metadata": {
    "id": "DhAbBjgy2hCB"
   },
   "source": [
    "4. 가중치 시각화"
   ]
  },
  {
   "cell_type": "code",
   "execution_count": 25,
   "metadata": {
    "executionInfo": {
     "elapsed": 34,
     "status": "ok",
     "timestamp": 1753835331891,
     "user": {
      "displayName": "정봉균",
      "userId": "09253430244697113323"
     },
     "user_tz": -540
    },
    "id": "ur39tmOBD5iH"
   },
   "outputs": [],
   "source": [
    "coef_vector = logi.coef_[0] # 로지스틱 모델의 계수(w)"
   ]
  },
  {
   "cell_type": "markdown",
   "metadata": {
    "id": "Yr9c5pRzD5iH"
   },
   "source": [
    "## 감정 기여도 계산하기\n",
    "- 각 단어들이 감성분류에 얼마나 기여하는지를 수치로 표현\n",
    "    > 내적 계산(Dot Product) 활용"
   ]
  },
  {
   "cell_type": "code",
   "execution_count": 29,
   "metadata": {
    "executionInfo": {
     "elapsed": 1448,
     "status": "ok",
     "timestamp": 1753835616669,
     "user": {
      "displayName": "정봉균",
      "userId": "09253430244697113323"
     },
     "user_tz": -540
    },
    "id": "maN9CF5XD5iH"
   },
   "outputs": [],
   "source": [
    "# 집합(set)\n",
    "word_set = set()\n",
    "\n",
    "# 데이터 내에서 등장하는 단어들을 집합 생성\n",
    "for tokens in data[\"tagged_doc\"] :\n",
    "    for token in tokens :\n",
    "        if token in w2v.wv :\n",
    "            word_set.add(token)"
   ]
  },
  {
   "cell_type": "code",
   "execution_count": 30,
   "metadata": {
    "colab": {
     "base_uri": "https://localhost:8080/"
    },
    "collapsed": true,
    "executionInfo": {
     "elapsed": 74,
     "status": "ok",
     "timestamp": 1753835621810,
     "user": {
      "displayName": "정봉균",
      "userId": "09253430244697113323"
     },
     "user_tz": -540
    },
    "id": "gMmMR3M5D5iH",
    "jupyter": {
     "outputs_hidden": true
    },
    "outputId": "cf9eb1ca-e9a5-4280-b711-ee8ba65bc28c"
   },
   "outputs": [
    {
     "data": {
      "text/plain": [
       "{'주소지',\n",
       " '수기',\n",
       " '입산',\n",
       " '대표',\n",
       " '은진',\n",
       " '속지',\n",
       " '싫어지다',\n",
       " '수요',\n",
       " '서해',\n",
       " '중국산',\n",
       " '마르고',\n",
       " '오일',\n",
       " '빡셈',\n",
       " '붕붕',\n",
       " '수확',\n",
       " '혼합',\n",
       " '강츄',\n",
       " '토시',\n",
       " '역쉬',\n",
       " '통수',\n",
       " '두절',\n",
       " '오냐',\n",
       " '뚫리다',\n",
       " '항의',\n",
       " '왕',\n",
       " '호주',\n",
       " '흐려지다',\n",
       " '용량',\n",
       " '안전하다',\n",
       " '패기',\n",
       " '아쉬움',\n",
       " '널',\n",
       " '명란',\n",
       " '페인팅',\n",
       " '납작하다',\n",
       " '애쉬',\n",
       " '낮다',\n",
       " '앙금',\n",
       " '뷰',\n",
       " '의료',\n",
       " '순간',\n",
       " '줄자',\n",
       " '항균',\n",
       " '걸쇠',\n",
       " '기지',\n",
       " '물결',\n",
       " '나발',\n",
       " '닭볶음탕',\n",
       " '미끄러지다',\n",
       " '옥상',\n",
       " '필로',\n",
       " '밥상',\n",
       " '팅',\n",
       " '읽히다',\n",
       " '짬',\n",
       " '국자',\n",
       " '쩔다',\n",
       " '좋아하다',\n",
       " '녜',\n",
       " '기름기',\n",
       " '그늘',\n",
       " '두시',\n",
       " '만들기',\n",
       " '빌어',\n",
       " '시켯',\n",
       " '밀리',\n",
       " '다섯',\n",
       " '붙힌',\n",
       " '관련',\n",
       " '느',\n",
       " '쪼금씩',\n",
       " '발포',\n",
       " '랄',\n",
       " '무광',\n",
       " '파워',\n",
       " '리턴',\n",
       " '불편',\n",
       " '분',\n",
       " '엔진',\n",
       " '스트레스',\n",
       " '의미',\n",
       " '쫄바',\n",
       " '존예',\n",
       " '팔면',\n",
       " '소독',\n",
       " '싼타페',\n",
       " '솔리드',\n",
       " '현실',\n",
       " '짓누르다',\n",
       " '커터',\n",
       " '추워지다',\n",
       " '수많다',\n",
       " '잡음',\n",
       " '거실',\n",
       " '녹차',\n",
       " '스타즈',\n",
       " '촌스럽다',\n",
       " '마모',\n",
       " '복원',\n",
       " '메론',\n",
       " '연수',\n",
       " '절구',\n",
       " '임부복',\n",
       " '단',\n",
       " '구심',\n",
       " '구찌',\n",
       " '스며들다',\n",
       " '지느러미',\n",
       " '수직',\n",
       " '최',\n",
       " '브레이크',\n",
       " '전화하다',\n",
       " '들어서다',\n",
       " '뷰티',\n",
       " '앞뒤',\n",
       " '하겟',\n",
       " '살렵니',\n",
       " '주르륵',\n",
       " '줄기',\n",
       " '얼리다',\n",
       " '쓸개',\n",
       " '완도',\n",
       " '자제',\n",
       " '신고',\n",
       " '가능성',\n",
       " '예비',\n",
       " '데쉬',\n",
       " '자스민',\n",
       " '몇몇',\n",
       " '열정',\n",
       " '성능',\n",
       " '향수',\n",
       " '배트',\n",
       " '손맛',\n",
       " '불',\n",
       " '기침',\n",
       " '립',\n",
       " '빵구',\n",
       " '락앤락',\n",
       " '정갈하다',\n",
       " '키친',\n",
       " '다이슨',\n",
       " '음질',\n",
       " '볼거리',\n",
       " '하나',\n",
       " '겁니다',\n",
       " '진짜루',\n",
       " '달이',\n",
       " '신아',\n",
       " '각질',\n",
       " '녹음',\n",
       " '챠',\n",
       " '보송보송',\n",
       " '절약',\n",
       " '잡티',\n",
       " '수고',\n",
       " '쪽팔리다',\n",
       " '니아',\n",
       " '센서',\n",
       " '엽기',\n",
       " '으루',\n",
       " '예약',\n",
       " '착용',\n",
       " '재활용',\n",
       " '스프',\n",
       " '상당',\n",
       " '초이스',\n",
       " '겹',\n",
       " '카페인',\n",
       " '해보다',\n",
       " '달구다',\n",
       " '지성은',\n",
       " '티남',\n",
       " '엇',\n",
       " '꼬들',\n",
       " '키로',\n",
       " '사육',\n",
       " '불평',\n",
       " '감기',\n",
       " '최적화',\n",
       " '붙이',\n",
       " '사물함',\n",
       " '팀',\n",
       " '살대',\n",
       " '뚤',\n",
       " '설정',\n",
       " '비주',\n",
       " '피크닉',\n",
       " '호두',\n",
       " '밀크',\n",
       " '밑',\n",
       " '여',\n",
       " '텀',\n",
       " '댕겨',\n",
       " '버블티',\n",
       " '겨우',\n",
       " '승인',\n",
       " '공항',\n",
       " '성체',\n",
       " '스지',\n",
       " '쥬스',\n",
       " '앞머리',\n",
       " '답답하다',\n",
       " '캐리어',\n",
       " '신발장',\n",
       " '특사',\n",
       " '토스트',\n",
       " '혔습니',\n",
       " '굴리',\n",
       " '내미다',\n",
       " '몰랏네',\n",
       " '누구',\n",
       " '백숙',\n",
       " '헤매다',\n",
       " '등심',\n",
       " '화물',\n",
       " '적재',\n",
       " '괜찬으',\n",
       " '태국',\n",
       " '살집',\n",
       " '눈앞',\n",
       " '칭찬',\n",
       " '슈트',\n",
       " '초고',\n",
       " '자고',\n",
       " '대추',\n",
       " '멈추다',\n",
       " '꺄',\n",
       " '교육',\n",
       " '됴',\n",
       " '부력',\n",
       " '둘째',\n",
       " '면봉',\n",
       " '밸',\n",
       " '라운드',\n",
       " '피치',\n",
       " '슈프림',\n",
       " '넘어서다',\n",
       " '문해',\n",
       " '낙',\n",
       " '태도',\n",
       " '싼값',\n",
       " '헝',\n",
       " '베가',\n",
       " '애플',\n",
       " '방송',\n",
       " '기니',\n",
       " '딲',\n",
       " '모니터',\n",
       " '양',\n",
       " '인식',\n",
       " '겉도',\n",
       " '생협',\n",
       " '오십',\n",
       " '다운',\n",
       " '사르다',\n",
       " '나중',\n",
       " '길다',\n",
       " '그릇',\n",
       " '만삭',\n",
       " '접',\n",
       " '오타',\n",
       " '영수증',\n",
       " '노력',\n",
       " '인원',\n",
       " '가득',\n",
       " '족발',\n",
       " '성용',\n",
       " '방부제',\n",
       " '브래지어',\n",
       " '진품',\n",
       " '답터',\n",
       " '기내',\n",
       " '블루',\n",
       " '다이아',\n",
       " '카멜',\n",
       " '루나',\n",
       " '식단',\n",
       " '빠리',\n",
       " '질질',\n",
       " '런가',\n",
       " '단백',\n",
       " '메이커',\n",
       " '소파',\n",
       " '환하다',\n",
       " '넣다',\n",
       " '파랑',\n",
       " '초등학생',\n",
       " '절취',\n",
       " '만나다',\n",
       " '대의',\n",
       " '한편',\n",
       " '윗',\n",
       " '카라',\n",
       " '홈피',\n",
       " '말레이시아',\n",
       " '쥬아',\n",
       " '효과',\n",
       " '착착',\n",
       " '사보다',\n",
       " '수수료',\n",
       " '뒤지다',\n",
       " '쉣',\n",
       " '부방',\n",
       " '소개',\n",
       " '주구',\n",
       " '야구',\n",
       " '저속',\n",
       " '리무버',\n",
       " '뻔하다',\n",
       " '팔각',\n",
       " '의도',\n",
       " '비상',\n",
       " '프리미엄',\n",
       " '유연제',\n",
       " '스팸',\n",
       " '론데',\n",
       " '농산물',\n",
       " '급류',\n",
       " '군살',\n",
       " '변질',\n",
       " '디저트',\n",
       " '썻는데',\n",
       " '먹거리',\n",
       " '살펴보다',\n",
       " '우수',\n",
       " '돼지고기',\n",
       " '물류',\n",
       " '고지',\n",
       " '오른쪽',\n",
       " '미키마우스',\n",
       " '신중하다',\n",
       " '뚱하다',\n",
       " '상판',\n",
       " '겉모양',\n",
       " '미끌미끌하다',\n",
       " '유치하다',\n",
       " '수로',\n",
       " '참고',\n",
       " '양도',\n",
       " '까슬',\n",
       " '아담',\n",
       " '직사',\n",
       " '차곡차곡',\n",
       " '제조',\n",
       " '개수',\n",
       " '그동안',\n",
       " '고생',\n",
       " '솜사탕',\n",
       " '닙스',\n",
       " '올리고당',\n",
       " '벼',\n",
       " '창안',\n",
       " '지저분하다',\n",
       " '눕다',\n",
       " '넬',\n",
       " '굉장하다',\n",
       " '내려오다',\n",
       " '조조',\n",
       " '구리다',\n",
       " '서버',\n",
       " '술함',\n",
       " '늦가을',\n",
       " '그닥',\n",
       " '들락날락',\n",
       " '낮잠',\n",
       " '청',\n",
       " '물의',\n",
       " '애가',\n",
       " '티켓',\n",
       " '놀다',\n",
       " '예뽀',\n",
       " '숙취',\n",
       " '바로',\n",
       " '종량제',\n",
       " '붐',\n",
       " '뽀로로',\n",
       " '과메기',\n",
       " '쓴다',\n",
       " '차용',\n",
       " '평범',\n",
       " '월등하다',\n",
       " '유자',\n",
       " '함유',\n",
       " '후미',\n",
       " '둥글다',\n",
       " '거르',\n",
       " '화이',\n",
       " '모발',\n",
       " '공판',\n",
       " '희색',\n",
       " '골',\n",
       " '정화',\n",
       " '추다',\n",
       " '이보',\n",
       " '궁금',\n",
       " '최초',\n",
       " '어디가',\n",
       " '라면',\n",
       " '콩가루',\n",
       " '바닷가',\n",
       " '보엿는데',\n",
       " '엽서',\n",
       " '방출',\n",
       " '샤넬',\n",
       " '나왓네',\n",
       " '침낭',\n",
       " '어쩜',\n",
       " '시댁',\n",
       " '겉옷',\n",
       " '퀄',\n",
       " '지로',\n",
       " '저울',\n",
       " '무언가',\n",
       " '충성',\n",
       " '콧대',\n",
       " '화해',\n",
       " '네모',\n",
       " '꽤',\n",
       " '발굽',\n",
       " '실리콘',\n",
       " '막심',\n",
       " '밉다',\n",
       " '돈까스',\n",
       " '휘발',\n",
       " '아트',\n",
       " '분명',\n",
       " '시커멓다',\n",
       " '틸트',\n",
       " '홑',\n",
       " '교통',\n",
       " '전기',\n",
       " '찍찍',\n",
       " '절용',\n",
       " '밸트',\n",
       " '부족함',\n",
       " '결',\n",
       " '일일이',\n",
       " '미미하다',\n",
       " '영업일',\n",
       " '쒸',\n",
       " '번거러',\n",
       " '쉘',\n",
       " '선',\n",
       " '종아리',\n",
       " '저렴',\n",
       " '덮어서',\n",
       " '숯불',\n",
       " '후진',\n",
       " '원룸',\n",
       " '촉감',\n",
       " '양치',\n",
       " '명란젓',\n",
       " '스탠',\n",
       " '타투',\n",
       " '시간',\n",
       " '나기',\n",
       " '목도리',\n",
       " '느므느므',\n",
       " '니요',\n",
       " '마르',\n",
       " '담당자',\n",
       " '그리다',\n",
       " '제때',\n",
       " '딩',\n",
       " '레일',\n",
       " '아야',\n",
       " '저대로',\n",
       " '캡쳐',\n",
       " '상태',\n",
       " '옅다',\n",
       " '주일',\n",
       " '오색',\n",
       " '닌텐도',\n",
       " '밀봉',\n",
       " '엔틱',\n",
       " '쩨',\n",
       " '적어지다',\n",
       " '마련',\n",
       " '삿더',\n",
       " '흐뭇하다',\n",
       " '물들다',\n",
       " '키티',\n",
       " '끝내',\n",
       " '핏입니',\n",
       " '구입',\n",
       " '카메라',\n",
       " '잡고',\n",
       " '허기',\n",
       " '교체',\n",
       " '와전',\n",
       " '한지',\n",
       " '은은하다',\n",
       " '뭐라다',\n",
       " '박지',\n",
       " '부침개',\n",
       " '픽',\n",
       " '기만',\n",
       " '상해',\n",
       " '복습',\n",
       " '첫',\n",
       " '결과',\n",
       " '파파',\n",
       " '서핑',\n",
       " '낯설다',\n",
       " '안전벨트',\n",
       " '습하다',\n",
       " '진하다',\n",
       " '감겨',\n",
       " '클래식',\n",
       " '요요',\n",
       " '마약',\n",
       " '토마토',\n",
       " '인기',\n",
       " '비너스',\n",
       " '시지',\n",
       " '륵',\n",
       " '좋아지다',\n",
       " '낙지',\n",
       " '패널',\n",
       " '전형',\n",
       " '학년',\n",
       " '누르다',\n",
       " '정작',\n",
       " '마이크',\n",
       " '여직원',\n",
       " '도통',\n",
       " '때밀이',\n",
       " '들쑥날쑥하다',\n",
       " '리터',\n",
       " '돌아다니다',\n",
       " '틀다',\n",
       " '파로',\n",
       " '웅',\n",
       " '분기',\n",
       " '암컷',\n",
       " '풍부하다',\n",
       " '산산조각',\n",
       " '이슈',\n",
       " '소스',\n",
       " '죽이다',\n",
       " '스킨',\n",
       " '불가',\n",
       " '거도',\n",
       " '평평하다',\n",
       " '영롱하다',\n",
       " '중간',\n",
       " '관할',\n",
       " '데스크탑',\n",
       " '고춧가루',\n",
       " '줄다',\n",
       " '화기',\n",
       " '불쾌',\n",
       " '올드',\n",
       " '돌이',\n",
       " '뛰다',\n",
       " '카키색',\n",
       " '공개',\n",
       " '서든',\n",
       " '모하비',\n",
       " '절단',\n",
       " '연마',\n",
       " '인분',\n",
       " '국제',\n",
       " '핀셋',\n",
       " '유지',\n",
       " '막대기',\n",
       " '봉돌',\n",
       " '거나',\n",
       " '시즌',\n",
       " '다이로',\n",
       " '솔직하다',\n",
       " '텨',\n",
       " '가슴',\n",
       " '둘이서',\n",
       " '퍼팅',\n",
       " '뽑히다',\n",
       " '요긴',\n",
       " '육아',\n",
       " '짜다',\n",
       " '투',\n",
       " '놀랏습니',\n",
       " '페인',\n",
       " '사본',\n",
       " '빗물',\n",
       " '볶음밥',\n",
       " '쓰래',\n",
       " '놨어',\n",
       " '라디오',\n",
       " '잠들다',\n",
       " '바꿈',\n",
       " '찌그러지다',\n",
       " '커브',\n",
       " '먹엇어',\n",
       " '잔털',\n",
       " '무대',\n",
       " '난감하다',\n",
       " '전골',\n",
       " '마진',\n",
       " '초반',\n",
       " '길',\n",
       " '새',\n",
       " '가지',\n",
       " '헐떡이다',\n",
       " '놀',\n",
       " '멀티',\n",
       " '정성스럽다',\n",
       " '식구',\n",
       " '스테이크',\n",
       " '순환',\n",
       " '쿤',\n",
       " '조도',\n",
       " '한치',\n",
       " '파스타',\n",
       " '수건',\n",
       " '게속',\n",
       " '미지',\n",
       " '폭도',\n",
       " '크림',\n",
       " '짐',\n",
       " '개발',\n",
       " '센서티브',\n",
       " '생물',\n",
       " '번성',\n",
       " '하차',\n",
       " '매도',\n",
       " '깊숙하다',\n",
       " '은하',\n",
       " '호환',\n",
       " '오돌토돌하다',\n",
       " '행복',\n",
       " '킹왕짱',\n",
       " '나왓어',\n",
       " '해루',\n",
       " '고용',\n",
       " '사카린',\n",
       " '만족스럽다',\n",
       " '칼림바',\n",
       " '하원',\n",
       " '뭘',\n",
       " '네야',\n",
       " '아이패드',\n",
       " '일시',\n",
       " '고인',\n",
       " '칸',\n",
       " '깨다',\n",
       " '고물',\n",
       " '드라마',\n",
       " '아침',\n",
       " '가하다',\n",
       " '텅텅',\n",
       " '공기',\n",
       " '양쪽',\n",
       " '필립스',\n",
       " '명품',\n",
       " '이뽀',\n",
       " '놈',\n",
       " '자빠지다',\n",
       " '알도',\n",
       " '어린이날',\n",
       " '단도',\n",
       " '놨네',\n",
       " '판이',\n",
       " '온기',\n",
       " '재우다',\n",
       " '한참',\n",
       " '히팅',\n",
       " '어르다',\n",
       " '뗏다',\n",
       " '하드',\n",
       " '버클',\n",
       " '홍삼',\n",
       " '부어',\n",
       " '철판',\n",
       " '유사하다',\n",
       " '당분간',\n",
       " '신속하다',\n",
       " '걷다',\n",
       " '터지다',\n",
       " '입학',\n",
       " '화사하다',\n",
       " '효고',\n",
       " '시체',\n",
       " '부족',\n",
       " '셔',\n",
       " '분비물',\n",
       " '아웃도어',\n",
       " '컨트롤러',\n",
       " '바닷물',\n",
       " '오이',\n",
       " '귀엽다',\n",
       " '먹음',\n",
       " '허벅지',\n",
       " '손톱깎이',\n",
       " '블랙박스',\n",
       " '접대',\n",
       " '살걸',\n",
       " '입자',\n",
       " '어찌',\n",
       " '메이드',\n",
       " '벌써',\n",
       " '변신',\n",
       " '해선',\n",
       " '다양하다',\n",
       " '생겻네',\n",
       " '속상하다',\n",
       " '혼',\n",
       " '진짜',\n",
       " '코어',\n",
       " '조치',\n",
       " '프라다',\n",
       " '낚싯대',\n",
       " '이십',\n",
       " '선명하다',\n",
       " '부러워하다',\n",
       " '게장',\n",
       " '읏',\n",
       " '도가니',\n",
       " '찾아다니다',\n",
       " '밍밍',\n",
       " '덮다',\n",
       " '후추',\n",
       " '집사',\n",
       " '대요',\n",
       " '구차',\n",
       " '얘기',\n",
       " '배치',\n",
       " '튜브',\n",
       " '주황색',\n",
       " '변동',\n",
       " '수비드',\n",
       " '젛아',\n",
       " '콘센트',\n",
       " '유유',\n",
       " '소주',\n",
       " '말캉하다',\n",
       " '멍하다',\n",
       " '가스렌지',\n",
       " '뒤꿈치',\n",
       " '바꾸다',\n",
       " '파지',\n",
       " '목재',\n",
       " '자시',\n",
       " '최대로',\n",
       " '제어',\n",
       " '콜라겐',\n",
       " '이삿짐',\n",
       " '정착',\n",
       " '챙',\n",
       " '니니',\n",
       " '명칭',\n",
       " '야무지다',\n",
       " '코랄',\n",
       " '돋보기',\n",
       " '긁혔어',\n",
       " '굴비',\n",
       " '뜰',\n",
       " '쥬얼',\n",
       " '검지',\n",
       " '어가',\n",
       " '예상외',\n",
       " '황',\n",
       " '버프',\n",
       " '카카오',\n",
       " '럿',\n",
       " '시대',\n",
       " '땀',\n",
       " '죽',\n",
       " '궁디',\n",
       " '어딨다',\n",
       " '문도',\n",
       " '배기',\n",
       " '너저분하다',\n",
       " '젤로',\n",
       " '블랙베리',\n",
       " '측정',\n",
       " '엠보싱',\n",
       " '탄산',\n",
       " '수가',\n",
       " '뉘',\n",
       " '말티즈',\n",
       " '제발',\n",
       " '메탈',\n",
       " '검정색',\n",
       " '덮개',\n",
       " '조심하다',\n",
       " '심해',\n",
       " '코앞',\n",
       " '삭제',\n",
       " '회원',\n",
       " '인화',\n",
       " '이루',\n",
       " '타래',\n",
       " '쪽쪽',\n",
       " '노지',\n",
       " '지불',\n",
       " '차가워지다',\n",
       " '용이',\n",
       " '파시',\n",
       " '쿠',\n",
       " '종은',\n",
       " '딥스',\n",
       " '전부',\n",
       " '시작',\n",
       " '역',\n",
       " '탁구공',\n",
       " '아래',\n",
       " '제단',\n",
       " '공연',\n",
       " '유선',\n",
       " '보행기',\n",
       " '채다',\n",
       " '한텐',\n",
       " '롭니',\n",
       " '카츠',\n",
       " '오트밀',\n",
       " '김치냉장고',\n",
       " '선풍기',\n",
       " '자꾸',\n",
       " '에탄올',\n",
       " '부모님',\n",
       " '커터칼',\n",
       " '사생활',\n",
       " '세련',\n",
       " '글리터',\n",
       " '거구',\n",
       " '봉고',\n",
       " '용기',\n",
       " '나노',\n",
       " '탭',\n",
       " '원피스',\n",
       " '나빠지다',\n",
       " '마찬가지',\n",
       " '티타늄',\n",
       " '마네',\n",
       " '진창',\n",
       " '쫀쫀하',\n",
       " '인하다',\n",
       " '사두',\n",
       " '평발',\n",
       " '연유',\n",
       " '시크릿',\n",
       " '구석',\n",
       " '오오오',\n",
       " '미끄럽다',\n",
       " '포도주',\n",
       " '연락',\n",
       " '어깨',\n",
       " '곤약',\n",
       " '한숨',\n",
       " '얼마',\n",
       " '블루베리',\n",
       " '탱크',\n",
       " '무어',\n",
       " '현수막',\n",
       " '샅',\n",
       " '접함',\n",
       " '최대한',\n",
       " '띁',\n",
       " '남색',\n",
       " '포트',\n",
       " '찌',\n",
       " '담당',\n",
       " '우울하다',\n",
       " '매라',\n",
       " '미루다',\n",
       " '뎅',\n",
       " '물기',\n",
       " '찍다',\n",
       " '온수',\n",
       " '당하다',\n",
       " '좋넹',\n",
       " '빠이',\n",
       " '이주',\n",
       " '표백',\n",
       " '익숙',\n",
       " '토레타',\n",
       " '정지',\n",
       " '낭비',\n",
       " '리프팅',\n",
       " '들다',\n",
       " '휴가',\n",
       " '앤',\n",
       " '대도',\n",
       " '해롭다',\n",
       " '하루하루',\n",
       " '프네',\n",
       " '샐러드',\n",
       " '댁',\n",
       " '헤어지다',\n",
       " '일품',\n",
       " '보구',\n",
       " '잡채',\n",
       " '죵',\n",
       " '레인',\n",
       " '닭고기',\n",
       " '중국',\n",
       " '반찬',\n",
       " '개짐',\n",
       " '랬',\n",
       " '사건',\n",
       " '사이즈',\n",
       " '해지',\n",
       " '썪',\n",
       " '칫',\n",
       " '남편',\n",
       " '아드님',\n",
       " '재미있다',\n",
       " '슺',\n",
       " '미숫가루',\n",
       " '우선',\n",
       " '대접',\n",
       " '폐사',\n",
       " '제픔',\n",
       " '썰다',\n",
       " '쾌쾌',\n",
       " '달인',\n",
       " '귓속',\n",
       " '소모',\n",
       " '만능',\n",
       " '두리안',\n",
       " '내버리다',\n",
       " '무부',\n",
       " '외형',\n",
       " '전자렌지',\n",
       " '가나다',\n",
       " '값',\n",
       " '의욕',\n",
       " '유리',\n",
       " '이어폰',\n",
       " '의하다',\n",
       " '아버지',\n",
       " '캬',\n",
       " '건조',\n",
       " '반숙',\n",
       " '타임',\n",
       " '중요하다',\n",
       " '화도',\n",
       " '타르',\n",
       " '재차',\n",
       " '자료',\n",
       " '억제',\n",
       " '땅',\n",
       " '첨',\n",
       " '보고서',\n",
       " '싣다',\n",
       " '가구',\n",
       " '반제품',\n",
       " '멜론',\n",
       " '양배추',\n",
       " '발판',\n",
       " '성공하다',\n",
       " '유산균',\n",
       " '삿네',\n",
       " '멜빵',\n",
       " '맥스',\n",
       " '남친',\n",
       " '썻으',\n",
       " '가나다라',\n",
       " '미미',\n",
       " '여과',\n",
       " '랭이',\n",
       " '예리하다',\n",
       " '의자',\n",
       " '개조',\n",
       " '안나',\n",
       " '별다르다',\n",
       " '블랭킷',\n",
       " '떄',\n",
       " '파이프',\n",
       " '싸이',\n",
       " '최애',\n",
       " '암수',\n",
       " '흐느',\n",
       " '트라고',\n",
       " '도와주다',\n",
       " '러신',\n",
       " '고가',\n",
       " '한국인',\n",
       " '달콤하다',\n",
       " '채도',\n",
       " '세관',\n",
       " '디지다',\n",
       " '스테',\n",
       " '어묵',\n",
       " '재질감',\n",
       " '아줌마',\n",
       " '체용',\n",
       " '간',\n",
       " '결혼식',\n",
       " '봉지',\n",
       " '웨이브',\n",
       " '토요일',\n",
       " '조청',\n",
       " '왕발',\n",
       " '어두움',\n",
       " '슬게',\n",
       " '백',\n",
       " '번만',\n",
       " '적정',\n",
       " ...}"
      ]
     },
     "execution_count": 30,
     "metadata": {},
     "output_type": "execute_result"
    }
   ],
   "source": [
    "word_set # set - 중복없음\n",
    "\n",
    "# 각 단어의 임베딩 벡터, 모델의 가중치 벡터 → 내적 계산(정보와 정보를 합침) → 감성기여도 표현"
   ]
  },
  {
   "cell_type": "code",
   "execution_count": 35,
   "metadata": {
    "colab": {
     "base_uri": "https://localhost:8080/"
    },
    "executionInfo": {
     "elapsed": 26,
     "status": "ok",
     "timestamp": 1753836176741,
     "user": {
      "displayName": "정봉균",
      "userId": "09253430244697113323"
     },
     "user_tz": -540
    },
    "id": "hcHXJaG_D5iH",
    "outputId": "34877993-a021-4b82-b4f3-a0e6d80b4976"
   },
   "outputs": [
    {
     "name": "stdout",
     "output_type": "stream",
     "text": [
      "깔끔하다 : 10.9173\n",
      "실망 : -14.2010\n"
     ]
    }
   ],
   "source": [
    "# Test - 긍정적인 단어와 부정적인 단어 기반으로 테스트\n",
    "\n",
    "sample_words = [\"깔끔하다\", \"실망\"]\n",
    "\n",
    "for word in sample_words :\n",
    "    embedding_vector = w2v.wv[word] # 임베딩 벡터 추출\n",
    "    dot_product = np.dot(embedding_vector, coef_vector)\n",
    "    print(f\"{word} : {dot_product:.4f}\")\n",
    "\n",
    "# 긍정 1, 부정 0 → 라벨을 예측하기 위해 모델의 가중치가 조정되어 있음 → coef_vector\n",
    "# 단어의 임베딩 벡터에 coef_vector를 내적계산 → 정보와 정보를 더함\n",
    "# 양수에 가까울수록 1(긍정),  음수에 가까울수록 0(부정)"
   ]
  },
  {
   "cell_type": "code",
   "execution_count": 36,
   "metadata": {
    "executionInfo": {
     "elapsed": 49,
     "status": "ok",
     "timestamp": 1753836406830,
     "user": {
      "displayName": "정봉균",
      "userId": "09253430244697113323"
     },
     "user_tz": -540
    },
    "id": "BJDv_2l_D5iH"
   },
   "outputs": [],
   "source": [
    "# 모든 단어에 대한 임베딩 벡터 추출 + 내적계산\n",
    "\n",
    "# 딕셔너리\n",
    "word_scores = { word:np.dot(w2v.wv[word], coef_vector) for word in word_set}"
   ]
  },
  {
   "cell_type": "code",
   "execution_count": 39,
   "metadata": {
    "executionInfo": {
     "elapsed": 25,
     "status": "ok",
     "timestamp": 1753837545699,
     "user": {
      "displayName": "정봉균",
      "userId": "09253430244697113323"
     },
     "user_tz": -540
    },
    "id": "A9mii1EaD5iH"
   },
   "outputs": [],
   "source": [
    "# 정렬\n",
    "sorted_words = sorted(word_scores.items(), key = lambda x : x[1])"
   ]
  },
  {
   "cell_type": "code",
   "execution_count": 44,
   "metadata": {
    "executionInfo": {
     "elapsed": 4,
     "status": "ok",
     "timestamp": 1753837685279,
     "user": {
      "displayName": "정봉균",
      "userId": "09253430244697113323"
     },
     "user_tz": -540
    },
    "id": "LUUD-sQED5iI"
   },
   "outputs": [],
   "source": [
    "neg_words = sorted_words[:15] # 하위 단어들 15ea\n",
    "pos_words = sorted_words[-15:] # 하위 단어들 15ea"
   ]
  },
  {
   "cell_type": "code",
   "execution_count": 47,
   "metadata": {
    "executionInfo": {
     "elapsed": 34,
     "status": "ok",
     "timestamp": 1753837731410,
     "user": {
      "displayName": "정봉균",
      "userId": "09253430244697113323"
     },
     "user_tz": -540
    },
    "id": "nV_J1jyfD5iI"
   },
   "outputs": [],
   "source": [
    "plot_words = neg_words + pos_words"
   ]
  },
  {
   "cell_type": "code",
   "execution_count": 49,
   "metadata": {
    "executionInfo": {
     "elapsed": 68,
     "status": "ok",
     "timestamp": 1753837813659,
     "user": {
      "displayName": "정봉균",
      "userId": "09253430244697113323"
     },
     "user_tz": -540
    },
    "id": "Td693FhwD5iI"
   },
   "outputs": [],
   "source": [
    "# 단어와 점수를 분리\n",
    "words, scores = zip(*plot_words)"
   ]
  },
  {
   "cell_type": "code",
   "execution_count": 52,
   "metadata": {
    "executionInfo": {
     "elapsed": 44,
     "status": "ok",
     "timestamp": 1753837992830,
     "user": {
      "displayName": "정봉균",
      "userId": "09253430244697113323"
     },
     "user_tz": -540
    },
    "id": "ecucgJFo4T5X"
   },
   "outputs": [],
   "source": [
    "# 시각화\n",
    "import matplotlib.pyplot as plt\n",
    "plt.rc(\"font\", family = \"NanumGothic\") # 한글 폰트\n",
    "plt.rcParams[\"axes.unicode_minus\"] = False # 마이너스 기호 표시"
   ]
  },
  {
   "cell_type": "code",
   "execution_count": 61,
   "metadata": {
    "colab": {
     "base_uri": "https://localhost:8080/",
     "height": 347
    },
    "executionInfo": {
     "elapsed": 376,
     "status": "ok",
     "timestamp": 1753838414620,
     "user": {
      "displayName": "정봉균",
      "userId": "09253430244697113323"
     },
     "user_tz": -540
    },
    "id": "LbF7bVBBD5iI",
    "outputId": "27c5ad62-840f-438a-ba99-c649395ad409"
   },
   "outputs": [
    {
     "data": {
      "image/png": "[encoded data removed]",
      "text/plain": [
       "<Figure size 1000x400 with 1 Axes>"
      ]
     },
     "metadata": {},
     "output_type": "display_data"
    }
   ],
   "source": [
    "plt.figure(figsize = (10, 4))\n",
    "\n",
    "# 막대 색상\n",
    "bar_colors = [ \"red\" if s < 0 else \"blue\" for s in scores ]\n",
    "plt.bar(range(len(words)), scores, color = bar_colors)\n",
    "\n",
    "# Xtick 설정\n",
    "plt.xticks(range(len(words)), words, rotation = 45, ha = \"right\")\n",
    "\n",
    "plt.tight_layout() # 레이아웃 자동 조정\n",
    "plt.show()"
   ]
  },
  {
   "cell_type": "code",
   "execution_count": null,
   "metadata": {
    "id": "NC6bm9vkD5iI"
   },
   "outputs": [],
   "source": []
  },
  {
   "cell_type": "code",
   "execution_count": null,
   "metadata": {
    "id": "TW410R6TD5iI"
   },
   "outputs": [],
   "source": []
  },
  {
   "cell_type": "code",
   "execution_count": null,
   "metadata": {
    "id": "vIB4OrQtD5iI"
   },
   "outputs": [],
   "source": []
  },
  {
   "cell_type": "code",
   "execution_count": null,
   "metadata": {
    "id": "XI-FJH3mD5k8"
   },
   "outputs": [],
   "source": []
  },
  {
   "cell_type": "code",
   "execution_count": null,
   "metadata": {
    "id": "GJliiJnHD5k8"
   },
   "outputs": [],
   "source": []
  },
  {
   "cell_type": "code",
   "execution_count": null,
   "metadata": {
    "id": "QxuUpbX3D5k8"
   },
   "outputs": [],
   "source": []
  },
  {
   "cell_type": "code",
   "execution_count": null,
   "metadata": {
    "id": "Vhwv2Qj0D5k8"
   },
   "outputs": [],
   "source": []
  },
  {
   "cell_type": "code",
   "execution_count": null,
   "metadata": {
    "id": "2AbGvLoRD5k8"
   },
   "outputs": [],
   "source": []
  },
  {
   "cell_type": "code",
   "execution_count": null,
   "metadata": {
    "id": "seFWSCN0D5k8"
   },
   "outputs": [],
   "source": []
  },
  {
   "cell_type": "code",
   "execution_count": null,
   "metadata": {
    "id": "yKvuBselD5k9"
   },
   "outputs": [],
   "source": []
  },
  {
   "cell_type": "code",
   "execution_count": null,
   "metadata": {
    "id": "qMuutbP4D5k9"
   },
   "outputs": [],
   "source": []
  },
  {
   "cell_type": "code",
   "execution_count": null,
   "metadata": {
    "id": "LczltENFD5k9"
   },
   "outputs": [],
   "source": []
  },
  {
   "cell_type": "code",
   "execution_count": null,
   "metadata": {
    "id": "QVyrF9QKD5k9"
   },
   "outputs": [],
   "source": []
  },
  {
   "cell_type": "code",
   "execution_count": null,
   "metadata": {
    "id": "cNaSRp0uD5k9"
   },
   "outputs": [],
   "source": []
  },
  {
   "cell_type": "code",
   "execution_count": null,
   "metadata": {
    "id": "s8XCG_4ED5k9"
   },
   "outputs": [],
   "source": []
  },
  {
   "cell_type": "code",
   "execution_count": null,
   "metadata": {
    "id": "uw3O8SmID5k9"
   },
   "outputs": [],
   "source": []
  },
  {
   "cell_type": "code",
   "execution_count": null,
   "metadata": {
    "id": "uhefS3ghD5k9"
   },
   "outputs": [],
   "source": []
  },
  {
   "cell_type": "code",
   "execution_count": null,
   "metadata": {
    "id": "FmpvibwGD5m1"
   },
   "outputs": [],
   "source": []
  },
  {
   "cell_type": "code",
   "execution_count": null,
   "metadata": {
    "id": "regG8S9uD5m2"
   },
   "outputs": [],
   "source": []
  },
  {
   "cell_type": "code",
   "execution_count": null,
   "metadata": {
    "id": "X0WWHcppD5m3"
   },
   "outputs": [],
   "source": []
  },
  {
   "cell_type": "code",
   "execution_count": null,
   "metadata": {
    "id": "teo7JarBD5m3"
   },
   "outputs": [],
   "source": []
  },
  {
   "cell_type": "code",
   "execution_count": null,
   "metadata": {
    "id": "2lSW281LD5m3"
   },
   "outputs": [],
   "source": []
  },
  {
   "cell_type": "code",
   "execution_count": null,
   "metadata": {
    "id": "4OlMQKwmD5m3"
   },
   "outputs": [],
   "source": []
  },
  {
   "cell_type": "code",
   "execution_count": null,
   "metadata": {
    "id": "QoI3DEXUD5m3"
   },
   "outputs": [],
   "source": []
  },
  {
   "cell_type": "code",
   "execution_count": null,
   "metadata": {
    "id": "c3CcGzVxD5m3"
   },
   "outputs": [],
   "source": []
  },
  {
   "cell_type": "code",
   "execution_count": null,
   "metadata": {
    "id": "IjR_dW0ID5m4"
   },
   "outputs": [],
   "source": []
  },
  {
   "cell_type": "code",
   "execution_count": null,
   "metadata": {
    "id": "ZgjAVPXjD5m4"
   },
   "outputs": [],
   "source": []
  },
  {
   "cell_type": "code",
   "execution_count": null,
   "metadata": {
    "id": "MtO0NRruD5m4"
   },
   "outputs": [],
   "source": []
  },
  {
   "cell_type": "code",
   "execution_count": null,
   "metadata": {
    "id": "mkUvIYUXD5m4"
   },
   "outputs": [],
   "source": []
  },
  {
   "cell_type": "code",
   "execution_count": null,
   "metadata": {
    "id": "8X6zLNBKD5m4"
   },
   "outputs": [],
   "source": []
  },
  {
   "cell_type": "code",
   "execution_count": null,
   "metadata": {
    "id": "8LBKG08pD5m4"
   },
   "outputs": [],
   "source": []
  },
  {
   "cell_type": "code",
   "execution_count": null,
   "metadata": {
    "id": "p58jeZYOD5rs"
   },
   "outputs": [],
   "source": []
  },
  {
   "cell_type": "code",
   "execution_count": null,
   "metadata": {
    "id": "Lvs__GyRD5rs"
   },
   "outputs": [],
   "source": []
  },
  {
   "cell_type": "code",
   "execution_count": null,
   "metadata": {
    "id": "Sw1qD6b9D5rs"
   },
   "outputs": [],
   "source": []
  },
  {
   "cell_type": "code",
   "execution_count": null,
   "metadata": {
    "id": "4T1v6pTLD5rs"
   },
   "outputs": [],
   "source": []
  },
  {
   "cell_type": "code",
   "execution_count": null,
   "metadata": {
    "id": "xJ7_AbxxD5rs"
   },
   "outputs": [],
   "source": []
  },
  {
   "cell_type": "code",
   "execution_count": null,
   "metadata": {
    "id": "V6CYsgwqD5rs"
   },
   "outputs": [],
   "source": []
  },
  {
   "cell_type": "code",
   "execution_count": null,
   "metadata": {
    "id": "JU1dZ_NYD5rs"
   },
   "outputs": [],
   "source": []
  },
  {
   "cell_type": "code",
   "execution_count": null,
   "metadata": {
    "id": "MXSSMU_fD5rs"
   },
   "outputs": [],
   "source": []
  },
  {
   "cell_type": "code",
   "execution_count": null,
   "metadata": {
    "id": "8p3Tj6IjD5rs"
   },
   "outputs": [],
   "source": []
  },
  {
   "cell_type": "code",
   "execution_count": null,
   "metadata": {
    "id": "X6V5WxbYD5rs"
   },
   "outputs": [],
   "source": []
  },
  {
   "cell_type": "code",
   "execution_count": null,
   "metadata": {
    "id": "6bBhifTjD5rs"
   },
   "outputs": [],
   "source": []
  },
  {
   "cell_type": "code",
   "execution_count": null,
   "metadata": {
    "id": "wIg55kC3D5rs"
   },
   "outputs": [],
   "source": []
  },
  {
   "cell_type": "code",
   "execution_count": null,
   "metadata": {
    "id": "Mdv5brxeD5rt"
   },
   "outputs": [],
   "source": []
  },
  {
   "cell_type": "code",
   "execution_count": null,
   "metadata": {
    "id": "0w1ttcDpD5rt"
   },
   "outputs": [],
   "source": []
  },
  {
   "cell_type": "code",
   "execution_count": null,
   "metadata": {
    "id": "yo0XUWFGD5su"
   },
   "outputs": [],
   "source": []
  },
  {
   "cell_type": "code",
   "execution_count": null,
   "metadata": {
    "id": "wWQuQrteD5sv"
   },
   "outputs": [],
   "source": []
  },
  {
   "cell_type": "code",
   "execution_count": null,
   "metadata": {
    "id": "nFCR3d0GD5sv"
   },
   "outputs": [],
   "source": []
  },
  {
   "cell_type": "code",
   "execution_count": null,
   "metadata": {
    "id": "7kI4ruqiD5sv"
   },
   "outputs": [],
   "source": []
  },
  {
   "cell_type": "code",
   "execution_count": null,
   "metadata": {
    "id": "k82VjRROD5sv"
   },
   "outputs": [],
   "source": []
  },
  {
   "cell_type": "code",
   "execution_count": null,
   "metadata": {
    "id": "sCpak693D5sw"
   },
   "outputs": [],
   "source": []
  },
  {
   "cell_type": "code",
   "execution_count": null,
   "metadata": {
    "id": "a8sFZd_7D5sw"
   },
   "outputs": [],
   "source": []
  },
  {
   "cell_type": "code",
   "execution_count": null,
   "metadata": {
    "id": "2UmQ9umjD5sw"
   },
   "outputs": [],
   "source": []
  },
  {
   "cell_type": "code",
   "execution_count": null,
   "metadata": {
    "id": "zN7N5juvD5sw"
   },
   "outputs": [],
   "source": []
  },
  {
   "cell_type": "code",
   "execution_count": null,
   "metadata": {
    "id": "DftlYRjOD5sw"
   },
   "outputs": [],
   "source": []
  },
  {
   "cell_type": "code",
   "execution_count": null,
   "metadata": {
    "id": "MmwrWOx_D5sw"
   },
   "outputs": [],
   "source": []
  },
  {
   "cell_type": "code",
   "execution_count": null,
   "metadata": {
    "id": "Tsy5l8ysD5sw"
   },
   "outputs": [],
   "source": []
  },
  {
   "cell_type": "code",
   "execution_count": null,
   "metadata": {
    "id": "KI-3_sJCD5sw"
   },
   "outputs": [],
   "source": []
  },
  {
   "cell_type": "code",
   "execution_count": null,
   "metadata": {
    "id": "Exep1lmuD5sw"
   },
   "outputs": [],
   "source": []
  }
 ],
 "metadata": {
  "colab": {
   "authorship_tag": "ABX9TyN6KisfMXubSyHwqGQDnkUG",
   "provenance": []
  },
  "kernelspec": {
   "display_name": "Python 3 (ipykernel)",
   "language": "python",
   "name": "python3"
  },
  "language_info": {
   "codemirror_mode": {
    "name": "ipython",
    "version": 3
   },
   "file_extension": ".py",
   "mimetype": "text/x-python",
   "name": "python",
   "nbconvert_exporter": "python",
   "pygments_lexer": "ipython3",
   "version": "3.13.5"
  },
  "widgets": {
   "application/vnd.jupyter.widget-state+json": {
    "06e9b28d61524053afb9ee443b618351": {
     "model_module": "@jupyter-widgets/base",
     "model_module_version": "1.2.0",
     "model_name": "LayoutModel",
     "state": {
      "_model_module": "@jupyter-widgets/base",
      "_model_module_version": "1.2.0",
      "_model_name": "LayoutModel",
      "_view_count": null,
      "_view_module": "@jupyter-widgets/base",
      "_view_module_version": "1.2.0",
      "_view_name": "LayoutView",
      "align_content": null,
      "align_items": null,
      "align_self": null,
      "border": null,
      "bottom": null,
      "display": null,
      "flex": null,
      "flex_flow": null,
      "grid_area": null,
      "grid_auto_columns": null,
      "grid_auto_flow": null,
      "grid_auto_rows": null,
      "grid_column": null,
      "grid_gap": null,
      "grid_row": null,
      "grid_template_areas": null,
      "grid_template_columns": null,
      "grid_template_rows": null,
      "height": null,
      "justify_content": null,
      "justify_items": null,
      "left": null,
      "margin": null,
      "max_height": null,
      "max_width": null,
      "min_height": null,
      "min_width": null,
      "object_fit": null,
      "object_position": null,
      "order": null,
      "overflow": null,
      "overflow_x": null,
      "overflow_y": null,
      "padding": null,
      "right": null,
      "top": null,
      "visibility": null,
      "width": null
     }
    },
    "11934b3260c54d2cbebea1b90975e467": {
     "model_module": "@jupyter-widgets/controls",
     "model_module_version": "1.5.0",
     "model_name": "HTMLModel",
     "state": {
      "_dom_classes": [],
      "_model_module": "@jupyter-widgets/controls",
      "_model_module_version": "1.5.0",
      "_model_name": "HTMLModel",
      "_view_count": null,
      "_view_module": "@jupyter-widgets/controls",
      "_view_module_version": "1.5.0",
      "_view_name": "HTMLView",
      "description": "",
      "description_tooltip": null,
      "layout": "IPY_MODEL_f6ca846b92f74c6dbbeb2ce2c61693d7",
      "placeholder": "​",
      "style": "IPY_MODEL_7a7ef7f04bbf4c57b62c121133f67d9e",
      "value": "100%"
     }
    },
    "1543d22f2aab45dca3aca10bcaa1cbe5": {
     "model_module": "@jupyter-widgets/controls",
     "model_module_version": "1.5.0",
     "model_name": "HTMLModel",
     "state": {
      "_dom_classes": [],
      "_model_module": "@jupyter-widgets/controls",
      "_model_module_version": "1.5.0",
      "_model_name": "HTMLModel",
      "_view_count": null,
      "_view_module": "@jupyter-widgets/controls",
      "_view_module_version": "1.5.0",
      "_view_name": "HTMLView",
      "description": "",
      "description_tooltip": null,
      "layout": "IPY_MODEL_ef66651fce454888bab23d331140469d",
      "placeholder": "​",
      "style": "IPY_MODEL_69d67636c5eb480394da03b6be39d343",
      "value": " 200000/200000 [00:00&lt;00:00, 395434.29it/s]"
     }
    },
    "17d2e28ff0814c53869ff292d2f2b490": {
     "model_module": "@jupyter-widgets/controls",
     "model_module_version": "1.5.0",
     "model_name": "HBoxModel",
     "state": {
      "_dom_classes": [],
      "_model_module": "@jupyter-widgets/controls",
      "_model_module_version": "1.5.0",
      "_model_name": "HBoxModel",
      "_view_count": null,
      "_view_module": "@jupyter-widgets/controls",
      "_view_module_version": "1.5.0",
      "_view_name": "HBoxView",
      "box_style": "",
      "children": [
       "IPY_MODEL_11934b3260c54d2cbebea1b90975e467",
       "IPY_MODEL_ff2cb3f5496f43f0a19423dd01a6dfa8",
       "IPY_MODEL_5b8084ef3b9d49c08da7a6c6185ba8cd"
      ],
      "layout": "IPY_MODEL_06e9b28d61524053afb9ee443b618351"
     }
    },
    "1a382b9601734d75bb52f8acb00ac7ce": {
     "model_module": "@jupyter-widgets/controls",
     "model_module_version": "1.5.0",
     "model_name": "FloatProgressModel",
     "state": {
      "_dom_classes": [],
      "_model_module": "@jupyter-widgets/controls",
      "_model_module_version": "1.5.0",
      "_model_name": "FloatProgressModel",
      "_view_count": null,
      "_view_module": "@jupyter-widgets/controls",
      "_view_module_version": "1.5.0",
      "_view_name": "ProgressView",
      "bar_style": "success",
      "description": "",
      "description_tooltip": null,
      "layout": "IPY_MODEL_7f07485946be4a3c98667b4d52975f34",
      "max": 200000,
      "min": 0,
      "orientation": "horizontal",
      "style": "IPY_MODEL_5328c74b5d9e4535b3620e3378abdd32",
      "value": 200000
     }
    },
    "265a232fa06240f7acd9aa8ed2b87b61": {
     "model_module": "@jupyter-widgets/controls",
     "model_module_version": "1.5.0",
     "model_name": "DescriptionStyleModel",
     "state": {
      "_model_module": "@jupyter-widgets/controls",
      "_model_module_version": "1.5.0",
      "_model_name": "DescriptionStyleModel",
      "_view_count": null,
      "_view_module": "@jupyter-widgets/base",
      "_view_module_version": "1.2.0",
      "_view_name": "StyleView",
      "description_width": ""
     }
    },
    "4a8ecea183d3499dbcf0aae1c8f8f8c2": {
     "model_module": "@jupyter-widgets/controls",
     "model_module_version": "1.5.0",
     "model_name": "HBoxModel",
     "state": {
      "_dom_classes": [],
      "_model_module": "@jupyter-widgets/controls",
      "_model_module_version": "1.5.0",
      "_model_name": "HBoxModel",
      "_view_count": null,
      "_view_module": "@jupyter-widgets/controls",
      "_view_module_version": "1.5.0",
      "_view_name": "HBoxView",
      "box_style": "",
      "children": [
       "IPY_MODEL_682de1f046fb447b83a07cc2853462ff",
       "IPY_MODEL_1a382b9601734d75bb52f8acb00ac7ce",
       "IPY_MODEL_1543d22f2aab45dca3aca10bcaa1cbe5"
      ],
      "layout": "IPY_MODEL_e3f49337cc1740fd8b82c123d87ee1a3"
     }
    },
    "5328c74b5d9e4535b3620e3378abdd32": {
     "model_module": "@jupyter-widgets/controls",
     "model_module_version": "1.5.0",
     "model_name": "ProgressStyleModel",
     "state": {
      "_model_module": "@jupyter-widgets/controls",
      "_model_module_version": "1.5.0",
      "_model_name": "ProgressStyleModel",
      "_view_count": null,
      "_view_module": "@jupyter-widgets/base",
      "_view_module_version": "1.2.0",
      "_view_name": "StyleView",
      "bar_color": null,
      "description_width": ""
     }
    },
    "558bad6797be45a2bebc84282e9804bb": {
     "model_module": "@jupyter-widgets/base",
     "model_module_version": "1.2.0",
     "model_name": "LayoutModel",
     "state": {
      "_model_module": "@jupyter-widgets/base",
      "_model_module_version": "1.2.0",
      "_model_name": "LayoutModel",
      "_view_count": null,
      "_view_module": "@jupyter-widgets/base",
      "_view_module_version": "1.2.0",
      "_view_name": "LayoutView",
      "align_content": null,
      "align_items": null,
      "align_self": null,
      "border": null,
      "bottom": null,
      "display": null,
      "flex": null,
      "flex_flow": null,
      "grid_area": null,
      "grid_auto_columns": null,
      "grid_auto_flow": null,
      "grid_auto_rows": null,
      "grid_column": null,
      "grid_gap": null,
      "grid_row": null,
      "grid_template_areas": null,
      "grid_template_columns": null,
      "grid_template_rows": null,
      "height": null,
      "justify_content": null,
      "justify_items": null,
      "left": null,
      "margin": null,
      "max_height": null,
      "max_width": null,
      "min_height": null,
      "min_width": null,
      "object_fit": null,
      "object_position": null,
      "order": null,
      "overflow": null,
      "overflow_x": null,
      "overflow_y": null,
      "padding": null,
      "right": null,
      "top": null,
      "visibility": null,
      "width": null
     }
    },
    "5b8084ef3b9d49c08da7a6c6185ba8cd": {
     "model_module": "@jupyter-widgets/controls",
     "model_module_version": "1.5.0",
     "model_name": "HTMLModel",
     "state": {
      "_dom_classes": [],
      "_model_module": "@jupyter-widgets/controls",
      "_model_module_version": "1.5.0",
      "_model_name": "HTMLModel",
      "_view_count": null,
      "_view_module": "@jupyter-widgets/controls",
      "_view_module_version": "1.5.0",
      "_view_name": "HTMLView",
      "description": "",
      "description_tooltip": null,
      "layout": "IPY_MODEL_558bad6797be45a2bebc84282e9804bb",
      "placeholder": "​",
      "style": "IPY_MODEL_265a232fa06240f7acd9aa8ed2b87b61",
      "value": " 200000/200000 [31:06&lt;00:00, 142.68it/s]"
     }
    },
    "682de1f046fb447b83a07cc2853462ff": {
     "model_module": "@jupyter-widgets/controls",
     "model_module_version": "1.5.0",
     "model_name": "HTMLModel",
     "state": {
      "_dom_classes": [],
      "_model_module": "@jupyter-widgets/controls",
      "_model_module_version": "1.5.0",
      "_model_name": "HTMLModel",
      "_view_count": null,
      "_view_module": "@jupyter-widgets/controls",
      "_view_module_version": "1.5.0",
      "_view_name": "HTMLView",
      "description": "",
      "description_tooltip": null,
      "layout": "IPY_MODEL_c14b16e2e0a9488d893be73f45f012d2",
      "placeholder": "​",
      "style": "IPY_MODEL_e4f4754723334ce1b64b63aaf0c068ca",
      "value": "100%"
     }
    },
    "69d67636c5eb480394da03b6be39d343": {
     "model_module": "@jupyter-widgets/controls",
     "model_module_version": "1.5.0",
     "model_name": "DescriptionStyleModel",
     "state": {
      "_model_module": "@jupyter-widgets/controls",
      "_model_module_version": "1.5.0",
      "_model_name": "DescriptionStyleModel",
      "_view_count": null,
      "_view_module": "@jupyter-widgets/base",
      "_view_module_version": "1.2.0",
      "_view_name": "StyleView",
      "description_width": ""
     }
    },
    "7a7ef7f04bbf4c57b62c121133f67d9e": {
     "model_module": "@jupyter-widgets/controls",
     "model_module_version": "1.5.0",
     "model_name": "DescriptionStyleModel",
     "state": {
      "_model_module": "@jupyter-widgets/controls",
      "_model_module_version": "1.5.0",
      "_model_name": "DescriptionStyleModel",
      "_view_count": null,
      "_view_module": "@jupyter-widgets/base",
      "_view_module_version": "1.2.0",
      "_view_name": "StyleView",
      "description_width": ""
     }
    },
    "7f07485946be4a3c98667b4d52975f34": {
     "model_module": "@jupyter-widgets/base",
     "model_module_version": "1.2.0",
     "model_name": "LayoutModel",
     "state": {
      "_model_module": "@jupyter-widgets/base",
      "_model_module_version": "1.2.0",
      "_model_name": "LayoutModel",
      "_view_count": null,
      "_view_module": "@jupyter-widgets/base",
      "_view_module_version": "1.2.0",
      "_view_name": "LayoutView",
      "align_content": null,
      "align_items": null,
      "align_self": null,
      "border": null,
      "bottom": null,
      "display": null,
      "flex": null,
      "flex_flow": null,
      "grid_area": null,
      "grid_auto_columns": null,
      "grid_auto_flow": null,
      "grid_auto_rows": null,
      "grid_column": null,
      "grid_gap": null,
      "grid_row": null,
      "grid_template_areas": null,
      "grid_template_columns": null,
      "grid_template_rows": null,
      "height": null,
      "justify_content": null,
      "justify_items": null,
      "left": null,
      "margin": null,
      "max_height": null,
      "max_width": null,
      "min_height": null,
      "min_width": null,
      "object_fit": null,
      "object_position": null,
      "order": null,
      "overflow": null,
      "overflow_x": null,
      "overflow_y": null,
      "padding": null,
      "right": null,
      "top": null,
      "visibility": null,
      "width": null
     }
    },
    "c14b16e2e0a9488d893be73f45f012d2": {
     "model_module": "@jupyter-widgets/base",
     "model_module_version": "1.2.0",
     "model_name": "LayoutModel",
     "state": {
      "_model_module": "@jupyter-widgets/base",
      "_model_module_version": "1.2.0",
      "_model_name": "LayoutModel",
      "_view_count": null,
      "_view_module": "@jupyter-widgets/base",
      "_view_module_version": "1.2.0",
      "_view_name": "LayoutView",
      "align_content": null,
      "align_items": null,
      "align_self": null,
      "border": null,
      "bottom": null,
      "display": null,
      "flex": null,
      "flex_flow": null,
      "grid_area": null,
      "grid_auto_columns": null,
      "grid_auto_flow": null,
      "grid_auto_rows": null,
      "grid_column": null,
      "grid_gap": null,
      "grid_row": null,
      "grid_template_areas": null,
      "grid_template_columns": null,
      "grid_template_rows": null,
      "height": null,
      "justify_content": null,
      "justify_items": null,
      "left": null,
      "margin": null,
      "max_height": null,
      "max_width": null,
      "min_height": null,
      "min_width": null,
      "object_fit": null,
      "object_position": null,
      "order": null,
      "overflow": null,
      "overflow_x": null,
      "overflow_y": null,
      "padding": null,
      "right": null,
      "top": null,
      "visibility": null,
      "width": null
     }
    },
    "d5653ab8c48b4e0db67c96323d5cdf3b": {
     "model_module": "@jupyter-widgets/base",
     "model_module_version": "1.2.0",
     "model_name": "LayoutModel",
     "state": {
      "_model_module": "@jupyter-widgets/base",
      "_model_module_version": "1.2.0",
      "_model_name": "LayoutModel",
      "_view_count": null,
      "_view_module": "@jupyter-widgets/base",
      "_view_module_version": "1.2.0",
      "_view_name": "LayoutView",
      "align_content": null,
      "align_items": null,
      "align_self": null,
      "border": null,
      "bottom": null,
      "display": null,
      "flex": null,
      "flex_flow": null,
      "grid_area": null,
      "grid_auto_columns": null,
      "grid_auto_flow": null,
      "grid_auto_rows": null,
      "grid_column": null,
      "grid_gap": null,
      "grid_row": null,
      "grid_template_areas": null,
      "grid_template_columns": null,
      "grid_template_rows": null,
      "height": null,
      "justify_content": null,
      "justify_items": null,
      "left": null,
      "margin": null,
      "max_height": null,
      "max_width": null,
      "min_height": null,
      "min_width": null,
      "object_fit": null,
      "object_position": null,
      "order": null,
      "overflow": null,
      "overflow_x": null,
      "overflow_y": null,
      "padding": null,
      "right": null,
      "top": null,
      "visibility": null,
      "width": null
     }
    },
    "d96868a1b9ef4691ac169ad1b6bacc89": {
     "model_module": "@jupyter-widgets/controls",
     "model_module_version": "1.5.0",
     "model_name": "ProgressStyleModel",
     "state": {
      "_model_module": "@jupyter-widgets/controls",
      "_model_module_version": "1.5.0",
      "_model_name": "ProgressStyleModel",
      "_view_count": null,
      "_view_module": "@jupyter-widgets/base",
      "_view_module_version": "1.2.0",
      "_view_name": "StyleView",
      "bar_color": null,
      "description_width": ""
     }
    },
    "e3f49337cc1740fd8b82c123d87ee1a3": {
     "model_module": "@jupyter-widgets/base",
     "model_module_version": "1.2.0",
     "model_name": "LayoutModel",
     "state": {
      "_model_module": "@jupyter-widgets/base",
      "_model_module_version": "1.2.0",
      "_model_name": "LayoutModel",
      "_view_count": null,
      "_view_module": "@jupyter-widgets/base",
      "_view_module_version": "1.2.0",
      "_view_name": "LayoutView",
      "align_content": null,
      "align_items": null,
      "align_self": null,
      "border": null,
      "bottom": null,
      "display": null,
      "flex": null,
      "flex_flow": null,
      "grid_area": null,
      "grid_auto_columns": null,
      "grid_auto_flow": null,
      "grid_auto_rows": null,
      "grid_column": null,
      "grid_gap": null,
      "grid_row": null,
      "grid_template_areas": null,
      "grid_template_columns": null,
      "grid_template_rows": null,
      "height": null,
      "justify_content": null,
      "justify_items": null,
      "left": null,
      "margin": null,
      "max_height": null,
      "max_width": null,
      "min_height": null,
      "min_width": null,
      "object_fit": null,
      "object_position": null,
      "order": null,
      "overflow": null,
      "overflow_x": null,
      "overflow_y": null,
      "padding": null,
      "right": null,
      "top": null,
      "visibility": null,
      "width": null
     }
    },
    "e4f4754723334ce1b64b63aaf0c068ca": {
     "model_module": "@jupyter-widgets/controls",
     "model_module_version": "1.5.0",
     "model_name": "DescriptionStyleModel",
     "state": {
      "_model_module": "@jupyter-widgets/controls",
      "_model_module_version": "1.5.0",
      "_model_name": "DescriptionStyleModel",
      "_view_count": null,
      "_view_module": "@jupyter-widgets/base",
      "_view_module_version": "1.2.0",
      "_view_name": "StyleView",
      "description_width": ""
     }
    },
    "ef66651fce454888bab23d331140469d": {
     "model_module": "@jupyter-widgets/base",
     "model_module_version": "1.2.0",
     "model_name": "LayoutModel",
     "state": {
      "_model_module": "@jupyter-widgets/base",
      "_model_module_version": "1.2.0",
      "_model_name": "LayoutModel",
      "_view_count": null,
      "_view_module": "@jupyter-widgets/base",
      "_view_module_version": "1.2.0",
      "_view_name": "LayoutView",
      "align_content": null,
      "align_items": null,
      "align_self": null,
      "border": null,
      "bottom": null,
      "display": null,
      "flex": null,
      "flex_flow": null,
      "grid_area": null,
      "grid_auto_columns": null,
      "grid_auto_flow": null,
      "grid_auto_rows": null,
      "grid_column": null,
      "grid_gap": null,
      "grid_row": null,
      "grid_template_areas": null,
      "grid_template_columns": null,
      "grid_template_rows": null,
      "height": null,
      "justify_content": null,
      "justify_items": null,
      "left": null,
      "margin": null,
      "max_height": null,
      "max_width": null,
      "min_height": null,
      "min_width": null,
      "object_fit": null,
      "object_position": null,
      "order": null,
      "overflow": null,
      "overflow_x": null,
      "overflow_y": null,
      "padding": null,
      "right": null,
      "top": null,
      "visibility": null,
      "width": null
     }
    },
    "f6ca846b92f74c6dbbeb2ce2c61693d7": {
     "model_module": "@jupyter-widgets/base",
     "model_module_version": "1.2.0",
     "model_name": "LayoutModel",
     "state": {
      "_model_module": "@jupyter-widgets/base",
      "_model_module_version": "1.2.0",
      "_model_name": "LayoutModel",
      "_view_count": null,
      "_view_module": "@jupyter-widgets/base",
      "_view_module_version": "1.2.0",
      "_view_name": "LayoutView",
      "align_content": null,
      "align_items": null,
      "align_self": null,
      "border": null,
      "bottom": null,
      "display": null,
      "flex": null,
      "flex_flow": null,
      "grid_area": null,
      "grid_auto_columns": null,
      "grid_auto_flow": null,
      "grid_auto_rows": null,
      "grid_column": null,
      "grid_gap": null,
      "grid_row": null,
      "grid_template_areas": null,
      "grid_template_columns": null,
      "grid_template_rows": null,
      "height": null,
      "justify_content": null,
      "justify_items": null,
      "left": null,
      "margin": null,
      "max_height": null,
      "max_width": null,
      "min_height": null,
      "min_width": null,
      "object_fit": null,
      "object_position": null,
      "order": null,
      "overflow": null,
      "overflow_x": null,
      "overflow_y": null,
      "padding": null,
      "right": null,
      "top": null,
      "visibility": null,
      "width": null
     }
    },
    "ff2cb3f5496f43f0a19423dd01a6dfa8": {
     "model_module": "@jupyter-widgets/controls",
     "model_module_version": "1.5.0",
     "model_name": "FloatProgressModel",
     "state": {
      "_dom_classes": [],
      "_model_module": "@jupyter-widgets/controls",
      "_model_module_version": "1.5.0",
      "_model_name": "FloatProgressModel",
      "_view_count": null,
      "_view_module": "@jupyter-widgets/controls",
      "_view_module_version": "1.5.0",
      "_view_name": "ProgressView",
      "bar_style": "success",
      "description": "",
      "description_tooltip": null,
      "layout": "IPY_MODEL_d5653ab8c48b4e0db67c96323d5cdf3b",
      "max": 200000,
      "min": 0,
      "orientation": "horizontal",
      "style": "IPY_MODEL_d96868a1b9ef4691ac169ad1b6bacc89",
      "value": 200000
     }
    }
   }
  }
 },
 "nbformat": 4,
 "nbformat_minor": 4
}
