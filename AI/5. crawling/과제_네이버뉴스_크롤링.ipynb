{
 "cells": [
  {
   "cell_type": "code",
   "execution_count": 1,
   "id": "3a9fdce3-f4ad-48f0-808d-5be2057eed4d",
   "metadata": {},
   "outputs": [
    {
     "name": "stdout",
     "output_type": "stream",
     "text": [
      "C:\\Users\\ADMIN\\Documents\\Jupyter\n"
     ]
    }
   ],
   "source": [
    "%cd C:/Users/ADMIN/Documents/Jupyter"
   ]
  },
  {
   "cell_type": "code",
   "execution_count": 2,
   "id": "e551f028-c9fe-43ec-aafe-0aafbbe0c2b4",
   "metadata": {},
   "outputs": [],
   "source": [
    "# 라이브러리 불러오기\n",
    "from selenium import webdriver as wb\n",
    "from selenium.webdriver.common.by import By\n",
    "from selenium.webdriver.common.keys import Keys\n",
    "from selenium.webdriver.chrome.service import Service\n",
    "from webdriver_manager.chrome import ChromeDriverManager\n",
    "\n",
    "import requests as req\n",
    "from bs4 import BeautifulSoup as bs"
   ]
  },
  {
   "cell_type": "code",
   "execution_count": 176,
   "id": "77dddd3c-cf72-4dcf-a8cb-5317fcbccbbf",
   "metadata": {},
   "outputs": [],
   "source": [
    "s = Service(ChromeDriverManager().install())\n",
    "driver = wb.Chrome(service = s)\n",
    "\n",
    "# 주소가 입력되지 않아 빈 창이 뜬다!\n",
    "# requests에서 했던 것처럼 주소 입력\n",
    "driver.get('http://www.naver.com')"
   ]
  },
  {
   "cell_type": "code",
   "execution_count": 177,
   "id": "7c748825-0340-45db-86e3-0b16c7e5433c",
   "metadata": {},
   "outputs": [],
   "source": [
    "# 검색창의 위치 찾기\n",
    "search = driver.find_elements(By.ID,'query')"
   ]
  },
  {
   "cell_type": "code",
   "execution_count": 178,
   "id": "bc30bedc-35b3-4fc0-950b-452c65f38570",
   "metadata": {},
   "outputs": [
    {
     "data": {
      "text/plain": [
       "<selenium.webdriver.remote.webelement.WebElement (session=\"d489bf0d77271ba03c9b2231ff2833f7\", element=\"f.C4D47332977B37EDE13AB23A67B4B826.d.251A38828D4035FE46FF02C3B1594C88.e.97\")>"
      ]
     },
     "execution_count": 178,
     "metadata": {},
     "output_type": "execute_result"
    }
   ],
   "source": [
    "search[0] # 리스트 인덱싱을 통해 리스트에서 빠져나올 수 있도록 "
   ]
  },
  {
   "cell_type": "code",
   "execution_count": 179,
   "id": "dc3ad71f-56f1-420c-8740-e8442afda6ed",
   "metadata": {},
   "outputs": [],
   "source": [
    "search[0].clear()\n",
    "search[0].send_keys('페이커 스포츠조선')\n",
    "search[0].send_keys(Keys.RETURN)"
   ]
  },
  {
   "cell_type": "code",
   "execution_count": 188,
   "id": "7f46713f-e9c2-49da-9747-b3c03c398e8d",
   "metadata": {},
   "outputs": [],
   "source": [
    "# btn_news = driver.find_elements(By.CLASS_NAME, 'tab') # 실패. 블로그탭부터 선택됨\n",
    "# btn_news = driver.find_elements(By.CSS_SELECTOR, '.sds-comps-text.sds-comps-text-type-body2') # 실패. 더보기 버튼으로 해보려고 했으나 안됐음.\n",
    "btn_news = driver.find_elements(By.CSS_SELECTOR, 'a[href*=\"tab.news.all\"]')"
   ]
  },
  {
   "cell_type": "code",
   "execution_count": 189,
   "id": "1880119e-2f4a-4e87-850b-63ff3908ac7b",
   "metadata": {},
   "outputs": [],
   "source": [
    "btn_news = btn_news[0]\n",
    "btn_news.click()"
   ]
  },
  {
   "cell_type": "code",
   "execution_count": 182,
   "id": "f9e8d6d8-2534-4786-8034-60fafe5cf9a8",
   "metadata": {},
   "outputs": [],
   "source": [
    "btn_keyword = driver.find_elements(By.CLASS_NAME, 'keyword')"
   ]
  },
  {
   "cell_type": "code",
   "execution_count": 183,
   "id": "9e028a38-feaf-4c12-b639-827f42488d9e",
   "metadata": {},
   "outputs": [
    {
     "data": {
      "text/plain": [
       "1"
      ]
     },
     "execution_count": 183,
     "metadata": {},
     "output_type": "execute_result"
    }
   ],
   "source": [
    "len([btn_keyword[0]])"
   ]
  },
  {
   "cell_type": "code",
   "execution_count": 184,
   "id": "5a65f54f-ac53-4db6-bcb8-b0eefdcf6c12",
   "metadata": {},
   "outputs": [],
   "source": [
    "btn_keyword = btn_keyword[0]\n",
    "btn_keyword.click()"
   ]
  },
  {
   "cell_type": "code",
   "execution_count": 109,
   "id": "959cc081-6a81-4a49-9ea3-55e2ac35dbf1",
   "metadata": {},
   "outputs": [],
   "source": [
    "#################################################################################### for문 시작"
   ]
  },
  {
   "cell_type": "code",
   "execution_count": 110,
   "id": "e6752fa2-41e7-4460-8d1a-122185bc3e87",
   "metadata": {},
   "outputs": [],
   "source": [
    "# 1. 현재 창(탭)의 핸들 ID를 저장해둡니다.\n",
    "original_tab = driver.current_window_handle"
   ]
  },
  {
   "cell_type": "code",
   "execution_count": 111,
   "id": "392d15c0-b3c8-4584-bc85-e56872c12123",
   "metadata": {},
   "outputs": [],
   "source": [
    "btn_headline = driver.find_elements(By.CLASS_NAME, 'sds-comps-text.sds-comps-text-ellipsis.sds-comps-text-ellipsis-1.sds-comps-text-type-headline1')"
   ]
  },
  {
   "cell_type": "code",
   "execution_count": 112,
   "id": "733a7d58-ee50-4faf-8b55-7a576909d3bf",
   "metadata": {},
   "outputs": [],
   "source": [
    "btn_headline = btn_headline[0]\n",
    "btn_headline.click()"
   ]
  },
  {
   "cell_type": "code",
   "execution_count": 158,
   "id": "0c51e31e-8f26-4916-b535-5459db02b71c",
   "metadata": {},
   "outputs": [],
   "source": [
    "# 2. 모든 창(탭)의 핸들 ID를 가져옵니다.\n",
    "all_tabs = driver.window_handles"
   ]
  },
  {
   "cell_type": "code",
   "execution_count": 159,
   "id": "f1ef76b5-f0bf-4401-8cc9-9a6d9baedd0d",
   "metadata": {},
   "outputs": [],
   "source": [
    "# 3. 새 탭의 핸들을 식별합니다. (대부분 가장 마지막에 추가됩니다)\n",
    "new_tab = all_tabs[-1]"
   ]
  },
  {
   "cell_type": "code",
   "execution_count": 157,
   "id": "b9e65511-52ac-44fa-894b-bb0bd7965246",
   "metadata": {},
   "outputs": [
    {
     "name": "stdout",
     "output_type": "stream",
     "text": [
      "현재 열려있는 탭의 개수: 2\n"
     ]
    }
   ],
   "source": [
    "# (확인용)\n",
    "print(f\"현재 열려있는 탭의 개수: {len(all_tabs)}\")"
   ]
  },
  {
   "cell_type": "code",
   "execution_count": 116,
   "id": "e40fec66-96ec-4e27-ae1e-0d3983482e58",
   "metadata": {},
   "outputs": [],
   "source": [
    "# 4. 제어권을 새 탭으로 전환합니다.\n",
    "driver.switch_to.window(new_tab)"
   ]
  },
  {
   "cell_type": "code",
   "execution_count": 160,
   "id": "ae1d24e6-98b8-40fb-9c55-b5e8752045c0",
   "metadata": {},
   "outputs": [],
   "source": [
    "current_html = driver.page_source"
   ]
  },
  {
   "cell_type": "code",
   "execution_count": 161,
   "id": "3c8c06a5-7548-4b3c-9a47-e5db055fbbd7",
   "metadata": {},
   "outputs": [],
   "source": [
    "soup = bs(current_html, 'lxml')"
   ]
  },
  {
   "cell_type": "code",
   "execution_count": 174,
   "id": "81c64875-02bf-4fe3-a596-320b3916e490",
   "metadata": {},
   "outputs": [],
   "source": [
    "headline = soup.select('h1.article-title')"
   ]
  },
  {
   "cell_type": "code",
   "execution_count": 175,
   "id": "fa8b0843-a72c-4f8c-bf2f-e342e2bf846d",
   "metadata": {},
   "outputs": [
    {
     "data": {
      "text/plain": [
       "[]"
      ]
     },
     "execution_count": 175,
     "metadata": {},
     "output_type": "execute_result"
    }
   ],
   "source": [
    "headline # 헤드라인을 가져오지 못하는 경우 대체로 이전 과정에 time.sleep을 1~2초정도 추가해주면 오류가 없어진다"
   ]
  },
  {
   "cell_type": "code",
   "execution_count": 127,
   "id": "3262deb0-f6c1-47ce-8672-fb40df89e1b5",
   "metadata": {},
   "outputs": [],
   "source": [
    "article = soup.select('div.news_text')[0].get_text(strip=True)"
   ]
  },
  {
   "cell_type": "code",
   "execution_count": 128,
   "id": "541b091a-d9cb-455a-93a6-b09b99354cad",
   "metadata": {},
   "outputs": [
    {
     "data": {
      "text/plain": [
       "'종합식품기업 팔도가 글로벌 e스포츠 스타 \\'페이커\\' 이상혁과 함께 왕뚜껑 \\'킹스브레이브(KING\\'s BRAVE)\\' 프로모션을 전개한다.킹스브레이브는 \\'왕의 용기(勇氣)\\'를 뜻하는 브랜드 슬로건이다. 왕뚜껑의 콘셉트와 페이커의 도전 정신을 결합해 소비자 소통을 강화하고자 기획했다.팔도는 이번 프로모션을 위해 한정판 왕뚜껑 2500만 개를 선보인다. 전용 패키지 디자인을 적용해 브랜드 정체성을 강조했다. 제품에는 난수 쿠폰이 동봉된다. 쿠폰의 QR코드를 스캔해 포인트를 적립하면 누적 점수에 따라 페이커 \\'키캡\\', \\'마우스패드\\', \\'키링\\'등 다양한 굿즈를 증정한다. 기한은 오는 18일부터 10월 31일까지다.이와함께 \\'페이커 킹스브레이브 토크콘서트\\'도 개최한다. 페이커의 진솔한 이야기와 도전 메시지를 팬들과 공유하는 자리다. 프로모션을 통해 100명을 모집하고 추첨을 통해 초대장이 발송된다. 당첨자는 11월 발표 예정이다.최한흠 팔도 마케팅 담당은 \"이번 왕뚜껑 \\'킹스브레이브\\' 프로모션은 브랜드에 모델의 스토리를 더한 새로운 시도다\"며, \"앞으로도 다양한 방식으로 소비자에게 차별화된 경험을 제공하며 브랜드 철학과 가치를 전달하겠다\"고 말했다.전상희 기자 nowater@sportschosun.com'"
      ]
     },
     "execution_count": 128,
     "metadata": {},
     "output_type": "execute_result"
    }
   ],
   "source": [
    "article"
   ]
  },
  {
   "cell_type": "code",
   "execution_count": 131,
   "id": "6878b8b7-b7ea-47c2-add5-40cfcd3e883b",
   "metadata": {},
   "outputs": [],
   "source": [
    "# 6. 새 탭에서의 작업을 마치면, 새 탭을 닫습니다.\n",
    "driver.close()"
   ]
  },
  {
   "cell_type": "code",
   "execution_count": 132,
   "id": "37ac1b8e-491c-43c4-b303-0cf27b3b8237",
   "metadata": {},
   "outputs": [],
   "source": [
    "# 7. 원래 탭으로 다시 돌아옵니다.\n",
    "driver.switch_to.window(original_tab)"
   ]
  },
  {
   "cell_type": "code",
   "execution_count": null,
   "id": "b62a64ec-d48a-4ba8-a839-c93467413d02",
   "metadata": {},
   "outputs": [],
   "source": [
    "########################################################################################## 끝"
   ]
  },
  {
   "cell_type": "code",
   "execution_count": 192,
   "id": "70e34b16-f35e-40b8-806d-06f5556f24c5",
   "metadata": {},
   "outputs": [
    {
     "name": "stdout",
     "output_type": "stream",
     "text": [
      "끝\n"
     ]
    }
   ],
   "source": [
    "# 이 한 셀만 실행해도 한솥 도시락 페이지의 모든 데이터가 수집될 수 있도록\n",
    "# 코드 조각을 끼워맞춰 보자\n",
    "\n",
    "from selenium import webdriver as wb\n",
    "from selenium.webdriver.common.by import By\n",
    "from selenium.webdriver.common.keys import Keys\n",
    "from selenium.webdriver.chrome.service import Service\n",
    "from webdriver_manager.chrome import ChromeDriverManager\n",
    "\n",
    "import requests as req\n",
    "from bs4 import BeautifulSoup as bs\n",
    "\n",
    "import time\n",
    "\n",
    "s = Service(ChromeDriverManager().install())\n",
    "driver = wb.Chrome(service = s)\n",
    "\n",
    "# 주소가 입력되지 않아 빈 창이 뜬다!\n",
    "# requests에서 했던 것처럼 주소 입력\n",
    "driver.get('http://www.naver.com')\n",
    "\n",
    "search = driver.find_elements(By.ID,'query')\n",
    "search[0] # 리스트 인덱싱을 통해 리스트에서 빠져나올 수 있도록 \n",
    "search[0].clear()\n",
    "search[0].send_keys('페이커 스포츠조선')\n",
    "search[0].send_keys(Keys.RETURN)\n",
    "\n",
    "time.sleep(1)\n",
    "\n",
    "btn_news = driver.find_elements(By.CSS_SELECTOR, 'a[href*=\"tab.news.all\"]')\n",
    "btn_news = btn_news[0]\n",
    "btn_news.click()\n",
    "\n",
    "btn_keyword = driver.find_elements(By.CLASS_NAME, 'keyword')\n",
    "btn_keyword = btn_keyword[0]\n",
    "btn_keyword.click()\n",
    "\n",
    "headlines = []\n",
    "articles = []\n",
    "\n",
    "for i in range(50):\n",
    "\n",
    "    try: \n",
    "        btn_headline = driver.find_elements(By.CLASS_NAME, 'sds-comps-text.sds-comps-text-ellipsis.sds-comps-text-ellipsis-1.sds-comps-text-type-headline1')\n",
    "        btn_headline = btn_headline[i]\n",
    "        btn_headline.click()\n",
    "\n",
    "        time.sleep(2)\n",
    "\n",
    "        original_tab = driver.current_window_handle\n",
    "\n",
    "        all_tabs = driver.window_handles\n",
    "        new_tab = all_tabs[-1]\n",
    "    \n",
    "        driver.switch_to.window(new_tab)\n",
    "\n",
    "        time.sleep(1)\n",
    "\n",
    "        current_html = driver.page_source\n",
    "        soup = bs(current_html, 'lxml')\n",
    "\n",
    "        headlines.append(soup.select('h1.article-title')[0].get_text(strip = True))\n",
    "        articles.append(soup.select('div.news_text')[0].get_text(strip = True))\n",
    "\n",
    "        driver.close()\n",
    "        driver.switch_to.window(original_tab)\n",
    "\n",
    "        driver.window_handles\n",
    "\n",
    "        time.sleep(2)\n",
    "\n",
    "    except:\n",
    "        driver.close()\n",
    "        driver.switch_to.window(original_tab)\n",
    "\n",
    "        driver.window_handles\n",
    "\n",
    "        time.sleep(2)\n",
    "\n",
    "print('끝')"
   ]
  },
  {
   "cell_type": "code",
   "execution_count": 200,
   "id": "5e53a1af-4af1-4432-a3a5-903ae045ae34",
   "metadata": {},
   "outputs": [
    {
     "data": {
      "text/plain": [
       "\"롤드컵 V5, 역사에 기록된 'T1'…그 중심엔 '페이커'가 있다\""
      ]
     },
     "execution_count": 200,
     "metadata": {},
     "output_type": "execute_result"
    }
   ],
   "source": [
    "headlines[30]"
   ]
  },
  {
   "cell_type": "code",
   "execution_count": 201,
   "id": "75ce526a-5601-4113-afc4-02fa6b43211c",
   "metadata": {},
   "outputs": [],
   "source": [
    "dic = {'기사 title': headlines, '내용': articles}"
   ]
  },
  {
   "cell_type": "code",
   "execution_count": 203,
   "id": "77671643-8f3b-497a-a855-62a5f55f5a7c",
   "metadata": {},
   "outputs": [
    {
     "data": {
      "text/html": [
       "<div>\n",
       "<style scoped>\n",
       "    .dataframe tbody tr th:only-of-type {\n",
       "        vertical-align: middle;\n",
       "    }\n",
       "\n",
       "    .dataframe tbody tr th {\n",
       "        vertical-align: top;\n",
       "    }\n",
       "\n",
       "    .dataframe thead th {\n",
       "        text-align: right;\n",
       "    }\n",
       "</style>\n",
       "<table border=\"1\" class=\"dataframe\">\n",
       "  <thead>\n",
       "    <tr style=\"text-align: right;\">\n",
       "      <th></th>\n",
       "      <th>기사 title</th>\n",
       "      <th>내용</th>\n",
       "    </tr>\n",
       "  </thead>\n",
       "  <tbody>\n",
       "    <tr>\n",
       "      <th>0</th>\n",
       "      <td>팔도, ‘페이커’와 왕뚜껑 ‘킹스브레이브(KING’s BRAVE)’ 프로모션 전개</td>\n",
       "      <td>종합식품기업 팔도가 글로벌 e스포츠 스타 '페이커' 이상혁과 함께 왕뚜껑 '킹스브레...</td>\n",
       "    </tr>\n",
       "    <tr>\n",
       "      <th>1</th>\n",
       "      <td>팔도, ‘페이커’ 이상혁과 함께한 ‘왕뚜껑’ 신규 광고 온에어</td>\n",
       "      <td>종합식품기업 팔도가 '왕뚜껑' 신규 TV-CM을 5월 16일 온에어한다.출시 35주...</td>\n",
       "    </tr>\n",
       "    <tr>\n",
       "      <th>2</th>\n",
       "      <td>'페이커' 이상혁, 2025 LCK 정규시즌 첫 주차에 세계 최초 1000경기 출전...</td>\n",
       "      <td>글로벌 LoL e스포츠 최초로 1000경기 출전을 앞둔 T1의 '페이커' 이상혁. ...</td>\n",
       "    </tr>\n",
       "    <tr>\n",
       "      <th>3</th>\n",
       "      <td>'113억 건물주' 페이커, 장도연 플러팅에 당황 \"집 사우나 놀러 가도 되나\"(살...</td>\n",
       "      <td>[스포츠조선 이유나 기자] 프로게이머 페이커가 장도연의 직진 플러팅에 당황했다.7일...</td>\n",
       "    </tr>\n",
       "    <tr>\n",
       "      <th>4</th>\n",
       "      <td>'페이커' 이상혁 핑크빛 상대 있나 \"♥여친과 게임하면 일부러 져 줄 것\"(살롱드립...</td>\n",
       "      <td>[스포츠조선 이유나 기자] 프로게이머 페이커가 사랑꾼 면모까지 엿보여 이미 입증된 ...</td>\n",
       "    </tr>\n",
       "    <tr>\n",
       "      <th>5</th>\n",
       "      <td>[EPL현장]손흥민 만나러 온 슈퍼스타! LOL 전설 페이커! 토트넘에 등장</td>\n",
       "      <td>&lt;저작권자(c) 연합뉴스, 무단 전재-재배포, AI 학습 및 활용 금지&gt;[토트넘홋스...</td>\n",
       "    </tr>\n",
       "    <tr>\n",
       "      <th>6</th>\n",
       "      <td>'연봉 100억' 페이커, 알고보니 113억 건물주 \"T1계의 서장훈 맞네\"[SC이슈]</td>\n",
       "      <td>[스포츠조선 이유나 기자] '리그 오브 레전드(LoL) e스포츠의 황제' 프로게이머...</td>\n",
       "    </tr>\n",
       "    <tr>\n",
       "      <th>7</th>\n",
       "      <td>'페이커' 이상혁, '리그 오브 레전드'의 진짜 전설이 되다!</td>\n",
       "      <td>◇6일 서울 중구에서 열린 'LoL' 초대 전설의 전당 헌액식에서 이상혁(가운데)과...</td>\n",
       "    </tr>\n",
       "    <tr>\n",
       "      <th>8</th>\n",
       "      <td>\"자꾸 지니까 별로 안좋더라\". 페이커, 中 4강전서 '팔꿈치 터널증후군'으로 고생</td>\n",
       "      <td>사진 출처=JTBC[스포츠조선 이정혁 기자]'중국 연봉 245억 거절' 페이커가 터...</td>\n",
       "    </tr>\n",
       "    <tr>\n",
       "      <th>9</th>\n",
       "      <td>김희철 \"'100억 연봉' 페이커, T1계의 서장훈..건물 보유 중\" ('아는형님'...</td>\n",
       "      <td>[스포츠조선닷컴 정유나 기자] '아는형님' 김희철이 'LOL 황제' 페이커의 재력을...</td>\n",
       "    </tr>\n",
       "    <tr>\n",
       "      <th>10</th>\n",
       "      <td>페이커, 中245억 제안 거절 이유..\"돈 목표는 달성 다음은 명예, 더 배우고 성...</td>\n",
       "      <td>[스포츠조선 고재완 기자] e스포츠의 살아있는 전설 프로게이머 페이커가 중국으로부터...</td>\n",
       "    </tr>\n",
       "    <tr>\n",
       "      <th>11</th>\n",
       "      <td>\"245억 거절, 돈 목표 달성\" 27세 페이커, 유재석도 부러워한 '찐' 영앤리치...</td>\n",
       "      <td>[스포츠조선닷컴 정안지 기자] 방송인 유재석이 \"이제 돈도 목표가 아니다\"고 말하는...</td>\n",
       "    </tr>\n",
       "    <tr>\n",
       "      <th>12</th>\n",
       "      <td>'유퀴즈' 페이커 \"中 245억 연봉 제시 거절 이유? 성장에 초점\"...유재석 \"...</td>\n",
       "      <td>[스포츠조선닷컴 정안지 기자] 롤 월드 챔피언 페이커가 중국의 '240억 제의'를 ...</td>\n",
       "    </tr>\n",
       "    <tr>\n",
       "      <th>13</th>\n",
       "      <td>'영앤리치' 페이커 \"中 245억 연봉 거절→우승 상금 10억\" ('유퀴즈')[종합]</td>\n",
       "      <td>[스포츠조선닷컴 정안지 기자] 롤 월드 챔피언 페이커가 중국의 245억 이적 제의를...</td>\n",
       "    </tr>\n",
       "    <tr>\n",
       "      <th>14</th>\n",
       "      <td>'연봉 100억' 페이커 \"궁전 같은 집에서 술래잡기 가능...父가 설계\" ('유퀴즈')</td>\n",
       "      <td>[스포츠조선닷컴 정안지 기자] 롤 월드 챔피언 페이커(본명 이상혁)가 집에 대해 해...</td>\n",
       "    </tr>\n",
       "    <tr>\n",
       "      <th>15</th>\n",
       "      <td>페이커는 그렇게 'LoL의 神'이 된다, 오후8시 대만 넘으면 '金'[항저우ON]</td>\n",
       "      <td>연합뉴스EPA연합뉴스[항저우(중국)=스포츠조선 윤진만 기자]'페이커' 이상혁(27·...</td>\n",
       "    </tr>\n",
       "    <tr>\n",
       "      <th>16</th>\n",
       "      <td>'페이커' 이상혁, 올해도 최고의 'e스포츠 월드스타'임을 입증하다</td>\n",
       "      <td>'페이커' 이상혁이 2023 LCK 어워드에서 '올해의 선수'로 뽑혔다. 사진제공=...</td>\n",
       "    </tr>\n",
       "    <tr>\n",
       "      <th>17</th>\n",
       "      <td>\"e스포츠 스타 페이커, BTS가 얻지 못한 병역면제 받나\" 초미의 관심[항저우ON]</td>\n",
       "      <td>사진출처=SCMP 홈페이지 캡처[항저우(중국)=스포츠조선 윤진만 기자]대한민국 e스...</td>\n",
       "    </tr>\n",
       "    <tr>\n",
       "      <th>18</th>\n",
       "      <td>[항저우ON]대륙이 들썩, '페이커' 이상혁 떴다 \"이번엔 꼭 금메달!\"</td>\n",
       "      <td>사진=연합뉴스사진=연합뉴스[항저우(중국)=스포츠조선 김가을 기자]'페이커' 이상혁이...</td>\n",
       "    </tr>\n",
       "    <tr>\n",
       "      <th>19</th>\n",
       "      <td>LCK 3000킬 또 하나의 역사 '페이커', 연승 행진 꺾인 광동</td>\n",
       "      <td>◇3000킬을 달성한 '페이커' 이상혁(가운데)과 T1 선수들. 사진제공=LCK'페...</td>\n",
       "    </tr>\n",
       "    <tr>\n",
       "      <th>20</th>\n",
       "      <td>LCK 간판스타 '페이커', 이번 주말 역대급 기록 달성 가능성 높다!</td>\n",
       "      <td>◇2024 LCK 스프링 3주 차 대기록에 도전하는 T1 '페이커' 이상혁. 사진제...</td>\n",
       "    </tr>\n",
       "    <tr>\n",
       "      <th>21</th>\n",
       "      <td>[항저우 비하인드]'페이커' 이상혁은 진짜, 대한민국을 위해 나왔다</td>\n",
       "      <td>사진=연합뉴스[항저우(중국)=스포츠조선 김가을 기자]'페이커' 이상혁(T1)이 또 ...</td>\n",
       "    </tr>\n",
       "    <tr>\n",
       "      <th>22</th>\n",
       "      <td>[항저우 현장인터뷰]금메달 깨문 페이커 \"가족 앞에서 출전 못해 아쉽지만 팀이 우승...</td>\n",
       "      <td>사진(항저우)=윤진만 기자연합뉴스연합뉴스[항저우(중국)=스포츠조선 윤진만 기자]'페...</td>\n",
       "    </tr>\n",
       "    <tr>\n",
       "      <th>23</th>\n",
       "      <td>선행 게이머 '페이커' 이상혁, 연말 맞이해 3000만원 기부</td>\n",
       "      <td>'페이커' 이상혁이 연말을 맞아 나눔 활동에 또 동참했다.T1은 이상혁이 사랑의열매...</td>\n",
       "    </tr>\n",
       "    <tr>\n",
       "      <th>24</th>\n",
       "      <td>메르세데스-벤츠, '2023 롤드컵' 공식 지원…‘페이커’ 출격</td>\n",
       "      <td>◇'페이커' 이상혁 선수. 사진제공=메르세데스-벤츠메르세데스-벤츠가 인기 게임 '리...</td>\n",
       "    </tr>\n",
       "    <tr>\n",
       "      <th>25</th>\n",
       "      <td>[항저우AG 현장결산②]페이커 웃고 vs 권순우 대국민 사과, 희비 엇갈린 스타들</td>\n",
       "      <td>사진=연합뉴스[항저우(중국)=스포츠조선 김가을 기자]무려 5년을 기다린 대회였다. ...</td>\n",
       "    </tr>\n",
       "    <tr>\n",
       "      <th>26</th>\n",
       "      <td>[항저우ON]'감기몸살' 페이커 이상혁 \"결승, 출전할 수 있는 상태\"</td>\n",
       "      <td>사진=공동취재단[항저우(중국)=스포츠조선 김가을 기자]\"개인적으로는 출전할 수 있는...</td>\n",
       "    </tr>\n",
       "    <tr>\n",
       "      <th>27</th>\n",
       "      <td>[항저우ON]황선우부터 '페이커' 이상혁까지, 추석 황금 연휴도 '금빛 한가위'</td>\n",
       "      <td>25일 중국 항저우 올림픽스포츠센터 수영장에서 열린 '항저우아시안게임' 남자 계영 ...</td>\n",
       "    </tr>\n",
       "    <tr>\n",
       "      <th>28</th>\n",
       "      <td>항저우 AG 출전하는 '페이커'의 공약 \"LoL 금메달 따면 실착 유니폼 선물하겠다\"</td>\n",
       "      <td>30일 오후 서울 중구 을지로 SK텔레콤 본사에서 SKT가 후원하는 'Team SK...</td>\n",
       "    </tr>\n",
       "    <tr>\n",
       "      <th>29</th>\n",
       "      <td>5할 승률마저 내준 위기의 T1, 페이커가 복귀하면 반전 가능할까?</td>\n",
       "      <td>T1의 팬이 27일 LCK아레나에서 열린 LCK 서머 시즌 2라운드 T1과 DRX전...</td>\n",
       "    </tr>\n",
       "    <tr>\n",
       "      <th>30</th>\n",
       "      <td>롤드컵 V5, 역사에 기록된 'T1'…그 중심엔 '페이커'가 있다</td>\n",
       "      <td>◇'2024 LoL 월드 챔피언십' 우승 트로피를 들어 올리는 T1 선수들. 사진제...</td>\n",
       "    </tr>\n",
       "    <tr>\n",
       "      <th>31</th>\n",
       "      <td>손흥민, '리그 오브 레전드' 즐기고 '페이커' 이상혁 좋아한다!</td>\n",
       "      <td>라이엇게임즈는 '리그 오브 레전드'(LoL)를 즐기는 한국 축구 최고의 스타 손흥민...</td>\n",
       "    </tr>\n",
       "    <tr>\n",
       "      <th>32</th>\n",
       "      <td>\"내 살길을 찾아서...\" 플라이보다 땅볼. 타격보다 주루. 기회 많지 않으니 더 ...</td>\n",
       "      <td>한화 이글스 이상혁. 대전=권인하 기자25일 인천SSG랜더스필드에서 열린 한화와 S...</td>\n",
       "    </tr>\n",
       "  </tbody>\n",
       "</table>\n",
       "</div>"
      ],
      "text/plain": [
       "                                             기사 title  \\\n",
       "0       팔도, ‘페이커’와 왕뚜껑 ‘킹스브레이브(KING’s BRAVE)’ 프로모션 전개   \n",
       "1                  팔도, ‘페이커’ 이상혁과 함께한 ‘왕뚜껑’ 신규 광고 온에어   \n",
       "2   '페이커' 이상혁, 2025 LCK 정규시즌 첫 주차에 세계 최초 1000경기 출전...   \n",
       "3   '113억 건물주' 페이커, 장도연 플러팅에 당황 \"집 사우나 놀러 가도 되나\"(살...   \n",
       "4   '페이커' 이상혁 핑크빛 상대 있나 \"♥여친과 게임하면 일부러 져 줄 것\"(살롱드립...   \n",
       "5          [EPL현장]손흥민 만나러 온 슈퍼스타! LOL 전설 페이커! 토트넘에 등장   \n",
       "6    '연봉 100억' 페이커, 알고보니 113억 건물주 \"T1계의 서장훈 맞네\"[SC이슈]   \n",
       "7                  '페이커' 이상혁, '리그 오브 레전드'의 진짜 전설이 되다!   \n",
       "8      \"자꾸 지니까 별로 안좋더라\". 페이커, 中 4강전서 '팔꿈치 터널증후군'으로 고생   \n",
       "9   김희철 \"'100억 연봉' 페이커, T1계의 서장훈..건물 보유 중\" ('아는형님'...   \n",
       "10  페이커, 中245억 제안 거절 이유..\"돈 목표는 달성 다음은 명예, 더 배우고 성...   \n",
       "11  \"245억 거절, 돈 목표 달성\" 27세 페이커, 유재석도 부러워한 '찐' 영앤리치...   \n",
       "12  '유퀴즈' 페이커 \"中 245억 연봉 제시 거절 이유? 성장에 초점\"...유재석 \"...   \n",
       "13    '영앤리치' 페이커 \"中 245억 연봉 거절→우승 상금 10억\" ('유퀴즈')[종합]   \n",
       "14  '연봉 100억' 페이커 \"궁전 같은 집에서 술래잡기 가능...父가 설계\" ('유퀴즈')   \n",
       "15      페이커는 그렇게 'LoL의 神'이 된다, 오후8시 대만 넘으면 '金'[항저우ON]   \n",
       "16              '페이커' 이상혁, 올해도 최고의 'e스포츠 월드스타'임을 입증하다   \n",
       "17    \"e스포츠 스타 페이커, BTS가 얻지 못한 병역면제 받나\" 초미의 관심[항저우ON]   \n",
       "18           [항저우ON]대륙이 들썩, '페이커' 이상혁 떴다 \"이번엔 꼭 금메달!\"   \n",
       "19              LCK 3000킬 또 하나의 역사 '페이커', 연승 행진 꺾인 광동   \n",
       "20            LCK 간판스타 '페이커', 이번 주말 역대급 기록 달성 가능성 높다!   \n",
       "21              [항저우 비하인드]'페이커' 이상혁은 진짜, 대한민국을 위해 나왔다   \n",
       "22  [항저우 현장인터뷰]금메달 깨문 페이커 \"가족 앞에서 출전 못해 아쉽지만 팀이 우승...   \n",
       "23                 선행 게이머 '페이커' 이상혁, 연말 맞이해 3000만원 기부   \n",
       "24                메르세데스-벤츠, '2023 롤드컵' 공식 지원…‘페이커’ 출격   \n",
       "25      [항저우AG 현장결산②]페이커 웃고 vs 권순우 대국민 사과, 희비 엇갈린 스타들   \n",
       "26            [항저우ON]'감기몸살' 페이커 이상혁 \"결승, 출전할 수 있는 상태\"   \n",
       "27       [항저우ON]황선우부터 '페이커' 이상혁까지, 추석 황금 연휴도 '금빛 한가위'   \n",
       "28    항저우 AG 출전하는 '페이커'의 공약 \"LoL 금메달 따면 실착 유니폼 선물하겠다\"   \n",
       "29              5할 승률마저 내준 위기의 T1, 페이커가 복귀하면 반전 가능할까?   \n",
       "30               롤드컵 V5, 역사에 기록된 'T1'…그 중심엔 '페이커'가 있다   \n",
       "31               손흥민, '리그 오브 레전드' 즐기고 '페이커' 이상혁 좋아한다!   \n",
       "32  \"내 살길을 찾아서...\" 플라이보다 땅볼. 타격보다 주루. 기회 많지 않으니 더 ...   \n",
       "\n",
       "                                                   내용  \n",
       "0   종합식품기업 팔도가 글로벌 e스포츠 스타 '페이커' 이상혁과 함께 왕뚜껑 '킹스브레...  \n",
       "1   종합식품기업 팔도가 '왕뚜껑' 신규 TV-CM을 5월 16일 온에어한다.출시 35주...  \n",
       "2   글로벌 LoL e스포츠 최초로 1000경기 출전을 앞둔 T1의 '페이커' 이상혁. ...  \n",
       "3   [스포츠조선 이유나 기자] 프로게이머 페이커가 장도연의 직진 플러팅에 당황했다.7일...  \n",
       "4   [스포츠조선 이유나 기자] 프로게이머 페이커가 사랑꾼 면모까지 엿보여 이미 입증된 ...  \n",
       "5   <저작권자(c) 연합뉴스, 무단 전재-재배포, AI 학습 및 활용 금지>[토트넘홋스...  \n",
       "6   [스포츠조선 이유나 기자] '리그 오브 레전드(LoL) e스포츠의 황제' 프로게이머...  \n",
       "7   ◇6일 서울 중구에서 열린 'LoL' 초대 전설의 전당 헌액식에서 이상혁(가운데)과...  \n",
       "8   사진 출처=JTBC[스포츠조선 이정혁 기자]'중국 연봉 245억 거절' 페이커가 터...  \n",
       "9   [스포츠조선닷컴 정유나 기자] '아는형님' 김희철이 'LOL 황제' 페이커의 재력을...  \n",
       "10  [스포츠조선 고재완 기자] e스포츠의 살아있는 전설 프로게이머 페이커가 중국으로부터...  \n",
       "11  [스포츠조선닷컴 정안지 기자] 방송인 유재석이 \"이제 돈도 목표가 아니다\"고 말하는...  \n",
       "12  [스포츠조선닷컴 정안지 기자] 롤 월드 챔피언 페이커가 중국의 '240억 제의'를 ...  \n",
       "13  [스포츠조선닷컴 정안지 기자] 롤 월드 챔피언 페이커가 중국의 245억 이적 제의를...  \n",
       "14  [스포츠조선닷컴 정안지 기자] 롤 월드 챔피언 페이커(본명 이상혁)가 집에 대해 해...  \n",
       "15  연합뉴스EPA연합뉴스[항저우(중국)=스포츠조선 윤진만 기자]'페이커' 이상혁(27·...  \n",
       "16  '페이커' 이상혁이 2023 LCK 어워드에서 '올해의 선수'로 뽑혔다. 사진제공=...  \n",
       "17  사진출처=SCMP 홈페이지 캡처[항저우(중국)=스포츠조선 윤진만 기자]대한민국 e스...  \n",
       "18  사진=연합뉴스사진=연합뉴스[항저우(중국)=스포츠조선 김가을 기자]'페이커' 이상혁이...  \n",
       "19  ◇3000킬을 달성한 '페이커' 이상혁(가운데)과 T1 선수들. 사진제공=LCK'페...  \n",
       "20  ◇2024 LCK 스프링 3주 차 대기록에 도전하는 T1 '페이커' 이상혁. 사진제...  \n",
       "21  사진=연합뉴스[항저우(중국)=스포츠조선 김가을 기자]'페이커' 이상혁(T1)이 또 ...  \n",
       "22  사진(항저우)=윤진만 기자연합뉴스연합뉴스[항저우(중국)=스포츠조선 윤진만 기자]'페...  \n",
       "23  '페이커' 이상혁이 연말을 맞아 나눔 활동에 또 동참했다.T1은 이상혁이 사랑의열매...  \n",
       "24  ◇'페이커' 이상혁 선수. 사진제공=메르세데스-벤츠메르세데스-벤츠가 인기 게임 '리...  \n",
       "25  사진=연합뉴스[항저우(중국)=스포츠조선 김가을 기자]무려 5년을 기다린 대회였다. ...  \n",
       "26  사진=공동취재단[항저우(중국)=스포츠조선 김가을 기자]\"개인적으로는 출전할 수 있는...  \n",
       "27  25일 중국 항저우 올림픽스포츠센터 수영장에서 열린 '항저우아시안게임' 남자 계영 ...  \n",
       "28  30일 오후 서울 중구 을지로 SK텔레콤 본사에서 SKT가 후원하는 'Team SK...  \n",
       "29  T1의 팬이 27일 LCK아레나에서 열린 LCK 서머 시즌 2라운드 T1과 DRX전...  \n",
       "30  ◇'2024 LoL 월드 챔피언십' 우승 트로피를 들어 올리는 T1 선수들. 사진제...  \n",
       "31  라이엇게임즈는 '리그 오브 레전드'(LoL)를 즐기는 한국 축구 최고의 스타 손흥민...  \n",
       "32  한화 이글스 이상혁. 대전=권인하 기자25일 인천SSG랜더스필드에서 열린 한화와 S...  "
      ]
     },
     "execution_count": 203,
     "metadata": {},
     "output_type": "execute_result"
    }
   ],
   "source": [
    "import pandas as pd\n",
    "\n",
    "h_a = pd.DataFrame(dic)\n",
    "h_a"
   ]
  },
  {
   "cell_type": "code",
   "execution_count": null,
   "id": "38b80c6d-97bf-4a92-8d74-645b9066af6f",
   "metadata": {},
   "outputs": [],
   "source": []
  },
  {
   "cell_type": "code",
   "execution_count": null,
   "id": "6b0c470d-4687-4d9b-9f95-f194741b78ae",
   "metadata": {},
   "outputs": [],
   "source": [
    "# 새 탭이 열리는 구조일 때 탭 제어하는 방법\n",
    "\n",
    "'''\n",
    "# 1. 현재 창(탭)의 핸들 ID를 저장해둡니다.\n",
    "original_tab = driver.current_window_handle\n",
    "\n",
    "# 2. 모든 창(탭)의 핸들 ID를 가져옵니다.\n",
    "all_tabs = driver.window_handles\n",
    "\n",
    "# 3. 새 탭의 핸들을 식별합니다. (대부분 가장 마지막에 추가됩니다)\n",
    "new_tab = all_tabs[-1]\n",
    "\n",
    "# (확인용)\n",
    "print(f\"현재 열려있는 탭의 개수: {len(all_tabs)}\")\n",
    "\n",
    "# 4. 제어권을 새 탭으로 전환합니다.\n",
    "driver.switch_to.window(new_tab)\n",
    "\n",
    "# 5. 새 탭에서 원하는 작업을 수행합니다.\n",
    "# 예: news_tab = driver.find_element(By.LINK_TEXT, '뉴스')\n",
    "# ...\n",
    "\n",
    "# 6. 새 탭에서의 작업을 마치면, 새 탭을 닫습니다.\n",
    "driver.close()\n",
    "\n",
    "# 7. 원래 탭으로 다시 돌아옵니다.\n",
    "driver.switch_to.window(original_tab)\n",
    "'''"
   ]
  }
 ],
 "metadata": {
  "kernelspec": {
   "display_name": "Python (torch28)",
   "language": "python",
   "name": "torch28"
  },
  "language_info": {
   "codemirror_mode": {
    "name": "ipython",
    "version": 3
   },
   "file_extension": ".py",
   "mimetype": "text/x-python",
   "name": "python",
   "nbconvert_exporter": "python",
   "pygments_lexer": "ipython3",
   "version": "3.11.13"
  }
 },
 "nbformat": 4,
 "nbformat_minor": 5
}
